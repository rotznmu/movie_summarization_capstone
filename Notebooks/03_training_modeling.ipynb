{
 "cells": [
  {
   "cell_type": "markdown",
   "metadata": {},
   "source": [
    "<h1 style = \"font-family: garamond; font-size: 50px; font-style: normal; letter-spcaing: 3px; background-color: #f6f5f5; color :royalblue; border-radius: 100px 100px; text-align:center \" >Evaluation of Movie Plot Summarization Methods</h1>\n",
    "<h1 style = \"font-family: garamond; font-size: 30px; font-style: normal; letter-spcaing: 3px; background-color: #f6f5f5; color :royalblue; border-radius: 100px 100px; text-align:center \" >Training and Modeling</h1>"
   ]
  },
  {
   "cell_type": "markdown",
   "metadata": {},
   "source": [
    "<h1 style = \"font-family: garamond; font-size: 45px; font-style: normal; letter-spacing: 3px; background-color: #f6f5f5; color :royalblue; border-radius: 100px 100px; text-align:center \" >Table of Contents</h1>\n",
    "\n",
    "\n",
    "* [1. Data Loading](#1)\n",
    "* [2. Introduction](#2)\n",
    "* [3. Extractive Summarization](#3)\n",
    "    * [3.1 Spacy](#3.1)\n",
    "    * [3.2 Sumy LSA](#3.2)\n",
    "    * [3.3 Sumy Luhn](#3.3)\n",
    "* [4. Abstractive Summarization](#4)\n",
    "    * [4.1 Walkthrough of Encoder-Decoder Seq2Seq model](#4.1)\n",
    "    * [4.2 T5](#4.2)\n",
    "    * [4.3 Bart](#4.3)\n",
    "* [5. Results](#5)\n",
    "    * [5.1 Subjective measures](#5.1)\n",
    "    * [5.2 Objective measures](#5.2)\n",
    "* [6. Summary](#6)"
   ]
  },
  {
   "cell_type": "code",
   "execution_count": 552,
   "metadata": {},
   "outputs": [],
   "source": [
    "import numpy as np\n",
    "import pandas as pd\n",
    "from matplotlib import pyplot as plt\n",
    "import seaborn as sns\n",
    "import re\n",
    "import ast\n",
    "import statistics"
   ]
  },
  {
   "cell_type": "markdown",
   "metadata": {},
   "source": [
    "<a id = '1'></a>\n",
    "<h3 style = \"font-family:garamond; font-size:35px; background-color: white; color : royalblue; border-radius: 100px 100px; text-align:left\">Data Loading</h3>"
   ]
  },
  {
   "cell_type": "code",
   "execution_count": 2,
   "metadata": {},
   "outputs": [],
   "source": [
    "df = pd.read_csv('../data/df_final.csv')"
   ]
  },
  {
   "cell_type": "code",
   "execution_count": 3,
   "metadata": {},
   "outputs": [
    {
     "data": {
      "text/html": [
       "<div>\n",
       "<style scoped>\n",
       "    .dataframe tbody tr th:only-of-type {\n",
       "        vertical-align: middle;\n",
       "    }\n",
       "\n",
       "    .dataframe tbody tr th {\n",
       "        vertical-align: top;\n",
       "    }\n",
       "\n",
       "    .dataframe thead th {\n",
       "        text-align: right;\n",
       "    }\n",
       "</style>\n",
       "<table border=\"1\" class=\"dataframe\">\n",
       "  <thead>\n",
       "    <tr style=\"text-align: right;\">\n",
       "      <th></th>\n",
       "      <th>Release Year</th>\n",
       "      <th>Title</th>\n",
       "      <th>Plot</th>\n",
       "      <th>Overview</th>\n",
       "      <th>cleaned_plot</th>\n",
       "      <th>cleaned_overview</th>\n",
       "    </tr>\n",
       "  </thead>\n",
       "  <tbody>\n",
       "    <tr>\n",
       "      <th>0</th>\n",
       "      <td>1902</td>\n",
       "      <td>Jack and the Beanstalk</td>\n",
       "      <td>The earliest known adaptation of the classic f...</td>\n",
       "      <td>Abbott and Costello's version of the famous fa...</td>\n",
       "      <td>the earliest known adaptation of the classic f...</td>\n",
       "      <td>sostok _START_ abbott and costello version of ...</td>\n",
       "    </tr>\n",
       "    <tr>\n",
       "      <th>1</th>\n",
       "      <td>1905</td>\n",
       "      <td>The Night Before Christmas</td>\n",
       "      <td>Scenes are introduced using lines of the poem....</td>\n",
       "      <td>A cartoon based on the works of Nikolay Gogol....</td>\n",
       "      <td>scenes are introduced using lines of the poem ...</td>\n",
       "      <td>sostok _START_ a cartoon based on the works of...</td>\n",
       "    </tr>\n",
       "    <tr>\n",
       "      <th>2</th>\n",
       "      <td>1906</td>\n",
       "      <td>Dream of a Rarebit Fiend</td>\n",
       "      <td>The Rarebit Fiend gorges on Welsh rarebit at a...</td>\n",
       "      <td>Adapted from Winsor McCay's films and comics o...</td>\n",
       "      <td>the rarebit fiend gorges on welsh rarebit at r...</td>\n",
       "      <td>sostok _START_ adapted from winsor mccay films...</td>\n",
       "    </tr>\n",
       "    <tr>\n",
       "      <th>3</th>\n",
       "      <td>1908</td>\n",
       "      <td>A Christmas Carol</td>\n",
       "      <td>No prints of the first American film adaptatio...</td>\n",
       "      <td>Reginald Owen portrays Charles Dickens' holida...</td>\n",
       "      <td>no prints of the first american film adaptatio...</td>\n",
       "      <td>sostok _START_ reginald owen portrays charles ...</td>\n",
       "    </tr>\n",
       "    <tr>\n",
       "      <th>4</th>\n",
       "      <td>1910</td>\n",
       "      <td>Ramona</td>\n",
       "      <td>Ramona chronicles the romance between Ramona (...</td>\n",
       "      <td>Half-Indian girl brought up in a wealthy house...</td>\n",
       "      <td>ramona chronicles the romance between ramona m...</td>\n",
       "      <td>sostok _START_ half-indian girl brought up in ...</td>\n",
       "    </tr>\n",
       "    <tr>\n",
       "      <th>...</th>\n",
       "      <td>...</td>\n",
       "      <td>...</td>\n",
       "      <td>...</td>\n",
       "      <td>...</td>\n",
       "      <td>...</td>\n",
       "      <td>...</td>\n",
       "    </tr>\n",
       "    <tr>\n",
       "      <th>3022</th>\n",
       "      <td>2016</td>\n",
       "      <td>The Age of Shadows</td>\n",
       "      <td>A Korean police captain named Lee Jung-chool (...</td>\n",
       "      <td>Movie follows the activities of the Heroic Cor...</td>\n",
       "      <td>a korean police captain named lee jung-chool s...</td>\n",
       "      <td>sostok _START_ movie follows the activities of...</td>\n",
       "    </tr>\n",
       "    <tr>\n",
       "      <th>3023</th>\n",
       "      <td>2016</td>\n",
       "      <td>My Annoying Brother</td>\n",
       "      <td>National Judo athlete Doo-young (Do Kyung-soo)...</td>\n",
       "      <td>Doo-Sik (Jo Jung-suk) gets paroled from prison...</td>\n",
       "      <td>national judo athlete doo-young do kyung-soo d...</td>\n",
       "      <td>sostok _START_ doo-sik jo jung-suk gets parole...</td>\n",
       "    </tr>\n",
       "    <tr>\n",
       "      <th>3024</th>\n",
       "      <td>2017</td>\n",
       "      <td>Fabricated City</td>\n",
       "      <td>In real life, Kwon Yoo (Ji Chang-wook) is unem...</td>\n",
       "      <td>In real life, Kwon Yoo is unemployed, but in t...</td>\n",
       "      <td>in real life kwon yoo ji chang-wook is unemplo...</td>\n",
       "      <td>sostok _START_ in real life kwon yoo is unempl...</td>\n",
       "    </tr>\n",
       "    <tr>\n",
       "      <th>3025</th>\n",
       "      <td>2017</td>\n",
       "      <td>New Trial</td>\n",
       "      <td>The film tells the story of a man whose life w...</td>\n",
       "      <td>A taxi driver is found dead, and Hyun-woo, the...</td>\n",
       "      <td>the film tells the story of man whose life was...</td>\n",
       "      <td>sostok _START_ a taxi driver is found dead and...</td>\n",
       "    </tr>\n",
       "    <tr>\n",
       "      <th>3026</th>\n",
       "      <td>2009</td>\n",
       "      <td>Recep İvedik 2</td>\n",
       "      <td>The grandmother of rude big man Recep İvedik (...</td>\n",
       "      <td>Recep İvedik'in güldüren, tartışmaları da düşü...</td>\n",
       "      <td>the grandmother of rude big man recep i̇vedik ...</td>\n",
       "      <td>sostok _START_ recep i̇vedik in güldüren tartı...</td>\n",
       "    </tr>\n",
       "  </tbody>\n",
       "</table>\n",
       "<p>3027 rows × 6 columns</p>\n",
       "</div>"
      ],
      "text/plain": [
       "      Release Year                       Title  \\\n",
       "0             1902      Jack and the Beanstalk   \n",
       "1             1905  The Night Before Christmas   \n",
       "2             1906    Dream of a Rarebit Fiend   \n",
       "3             1908           A Christmas Carol   \n",
       "4             1910                      Ramona   \n",
       "...            ...                         ...   \n",
       "3022          2016          The Age of Shadows   \n",
       "3023          2016         My Annoying Brother   \n",
       "3024          2017             Fabricated City   \n",
       "3025          2017                   New Trial   \n",
       "3026          2009              Recep İvedik 2   \n",
       "\n",
       "                                                   Plot  \\\n",
       "0     The earliest known adaptation of the classic f...   \n",
       "1     Scenes are introduced using lines of the poem....   \n",
       "2     The Rarebit Fiend gorges on Welsh rarebit at a...   \n",
       "3     No prints of the first American film adaptatio...   \n",
       "4     Ramona chronicles the romance between Ramona (...   \n",
       "...                                                 ...   \n",
       "3022  A Korean police captain named Lee Jung-chool (...   \n",
       "3023  National Judo athlete Doo-young (Do Kyung-soo)...   \n",
       "3024  In real life, Kwon Yoo (Ji Chang-wook) is unem...   \n",
       "3025  The film tells the story of a man whose life w...   \n",
       "3026  The grandmother of rude big man Recep İvedik (...   \n",
       "\n",
       "                                               Overview  \\\n",
       "0     Abbott and Costello's version of the famous fa...   \n",
       "1     A cartoon based on the works of Nikolay Gogol....   \n",
       "2     Adapted from Winsor McCay's films and comics o...   \n",
       "3     Reginald Owen portrays Charles Dickens' holida...   \n",
       "4     Half-Indian girl brought up in a wealthy house...   \n",
       "...                                                 ...   \n",
       "3022  Movie follows the activities of the Heroic Cor...   \n",
       "3023  Doo-Sik (Jo Jung-suk) gets paroled from prison...   \n",
       "3024  In real life, Kwon Yoo is unemployed, but in t...   \n",
       "3025  A taxi driver is found dead, and Hyun-woo, the...   \n",
       "3026  Recep İvedik'in güldüren, tartışmaları da düşü...   \n",
       "\n",
       "                                           cleaned_plot  \\\n",
       "0     the earliest known adaptation of the classic f...   \n",
       "1     scenes are introduced using lines of the poem ...   \n",
       "2     the rarebit fiend gorges on welsh rarebit at r...   \n",
       "3     no prints of the first american film adaptatio...   \n",
       "4     ramona chronicles the romance between ramona m...   \n",
       "...                                                 ...   \n",
       "3022  a korean police captain named lee jung-chool s...   \n",
       "3023  national judo athlete doo-young do kyung-soo d...   \n",
       "3024  in real life kwon yoo ji chang-wook is unemplo...   \n",
       "3025  the film tells the story of man whose life was...   \n",
       "3026  the grandmother of rude big man recep i̇vedik ...   \n",
       "\n",
       "                                       cleaned_overview  \n",
       "0     sostok _START_ abbott and costello version of ...  \n",
       "1     sostok _START_ a cartoon based on the works of...  \n",
       "2     sostok _START_ adapted from winsor mccay films...  \n",
       "3     sostok _START_ reginald owen portrays charles ...  \n",
       "4     sostok _START_ half-indian girl brought up in ...  \n",
       "...                                                 ...  \n",
       "3022  sostok _START_ movie follows the activities of...  \n",
       "3023  sostok _START_ doo-sik jo jung-suk gets parole...  \n",
       "3024  sostok _START_ in real life kwon yoo is unempl...  \n",
       "3025  sostok _START_ a taxi driver is found dead and...  \n",
       "3026  sostok _START_ recep i̇vedik in güldüren tartı...  \n",
       "\n",
       "[3027 rows x 6 columns]"
      ]
     },
     "execution_count": 3,
     "metadata": {},
     "output_type": "execute_result"
    }
   ],
   "source": [
    "df"
   ]
  },
  {
   "cell_type": "markdown",
   "metadata": {},
   "source": [
    "<a id = '2'></a>\n",
    "<h3 style = \"font-family:garamond; font-size:35px; background-color: white; color : royalblue; border-radius: 100px 100px; text-align:left\">Introduction to Text Summarization</h3>"
   ]
  },
  {
   "cell_type": "markdown",
   "metadata": {},
   "source": [
    "- Text summarization is the method of extracting summaries from original text without losing any vital information. It has many applications and, much like NLP in general, has seen much improvement over the past few years. In this notebook, we will use our cleaned movie dataset to explore the more common approaches to text summarization and compare which is best. We will use some objective criteria like cosine similarity scores and rouge scores to compare the various methods, but at the time of this writing, nothing evaluates the results of summarization better than humans. Thus, we cannot avoid invoking our own subjective and flawed evaluations.\n",
    "\n",
    "- The first thing to know is that text summarization methods can be grouped into two categories: Extractive and Abstractive methods.\n",
    "- Extractive summarization seeks to identify the most significant sentences of the text and use them to create a summary. Thus, the summary contains the exact sentences from the original text.\n",
    "- Abstractive summarization seeks to identify the important sections and interpret the context in order to generate sentences for the summary. This method is far more advanced and has much more room for improvement over extractive methods. \n",
    "- *** Due to hardware constraints, we will not be able to train our neural network with the full dataset. Thus, we do not expect good results, but the purpose is to provide a walkthrough of setting up a sequence to sequence recurrent neural network (RNN)."
   ]
  },
  {
   "cell_type": "markdown",
   "metadata": {},
   "source": [
    "<a id = '3'></a>\n",
    "<h3 style = \"font-family:garamond; font-size:35px; background-color: white; color : royalblue; border-radius: 100px 100px; text-align:left\">Extractive Models</h3>"
   ]
  },
  {
   "cell_type": "markdown",
   "metadata": {},
   "source": [
    "To save time we are going to use a selection of 100 movies to compare the generated summaries from"
   ]
  },
  {
   "cell_type": "code",
   "execution_count": 600,
   "metadata": {},
   "outputs": [
    {
     "data": {
      "text/html": [
       "<div>\n",
       "<style scoped>\n",
       "    .dataframe tbody tr th:only-of-type {\n",
       "        vertical-align: middle;\n",
       "    }\n",
       "\n",
       "    .dataframe tbody tr th {\n",
       "        vertical-align: top;\n",
       "    }\n",
       "\n",
       "    .dataframe thead th {\n",
       "        text-align: right;\n",
       "    }\n",
       "</style>\n",
       "<table border=\"1\" class=\"dataframe\">\n",
       "  <thead>\n",
       "    <tr style=\"text-align: right;\">\n",
       "      <th></th>\n",
       "      <th>Release Year</th>\n",
       "      <th>Title</th>\n",
       "      <th>Plot</th>\n",
       "      <th>Overview</th>\n",
       "      <th>cleaned_plot</th>\n",
       "      <th>cleaned_overview</th>\n",
       "    </tr>\n",
       "  </thead>\n",
       "  <tbody>\n",
       "    <tr>\n",
       "      <th>0</th>\n",
       "      <td>1968</td>\n",
       "      <td>Boom!</td>\n",
       "      <td>Flora 'Sissy' Goforth (Taylor, in a part writt...</td>\n",
       "      <td>Explores the confrontation between the woman w...</td>\n",
       "      <td>flora sissy goforth taylor in part written for...</td>\n",
       "      <td>sostok _START_ explores the confrontation betw...</td>\n",
       "    </tr>\n",
       "    <tr>\n",
       "      <th>1</th>\n",
       "      <td>1960</td>\n",
       "      <td>Weddings and Babies</td>\n",
       "      <td>The film focuses on the stormy relationship be...</td>\n",
       "      <td>Photographer struggles to make enough money to...</td>\n",
       "      <td>the film focuses on the stormy relationship be...</td>\n",
       "      <td>sostok _START_ photographer struggles to make ...</td>\n",
       "    </tr>\n",
       "    <tr>\n",
       "      <th>2</th>\n",
       "      <td>2016</td>\n",
       "      <td>Railroad Tigers</td>\n",
       "      <td>In December 1941, Japan expands the occupation...</td>\n",
       "      <td>A railroad worker in China in 1941 leads a tea...</td>\n",
       "      <td>in december 1941 japan expands the occupation ...</td>\n",
       "      <td>sostok _START_ a railroad worker in china in 1...</td>\n",
       "    </tr>\n",
       "    <tr>\n",
       "      <th>3</th>\n",
       "      <td>1975</td>\n",
       "      <td>W.W. and the Dixie Dancekings</td>\n",
       "      <td>In 1957, W.W. Bright (Burt Reynolds) is an eas...</td>\n",
       "      <td>Story of a happy-go-lucky small time crook who...</td>\n",
       "      <td>in 1957 w.w bright burt reynolds is an easygoi...</td>\n",
       "      <td>sostok _START_ story of happy-go-lucky small t...</td>\n",
       "    </tr>\n",
       "    <tr>\n",
       "      <th>4</th>\n",
       "      <td>1963</td>\n",
       "      <td>This Sporting Life</td>\n",
       "      <td>Set in Wakefield, the film concerns Frank Mach...</td>\n",
       "      <td>In Northern England in the early 1960s, Frank ...</td>\n",
       "      <td>set in wakefield the film concerns frank machi...</td>\n",
       "      <td>sostok _START_ in northern england in the earl...</td>\n",
       "    </tr>\n",
       "    <tr>\n",
       "      <th>...</th>\n",
       "      <td>...</td>\n",
       "      <td>...</td>\n",
       "      <td>...</td>\n",
       "      <td>...</td>\n",
       "      <td>...</td>\n",
       "      <td>...</td>\n",
       "    </tr>\n",
       "    <tr>\n",
       "      <th>95</th>\n",
       "      <td>2015</td>\n",
       "      <td>Tracers</td>\n",
       "      <td>Cam (Taylor Lautner) is a bike messenger in Ne...</td>\n",
       "      <td>Wanted by the mafia, a New York City bike mess...</td>\n",
       "      <td>cam taylor lautner is bike messenger in new yo...</td>\n",
       "      <td>sostok _START_ wanted by the mafia new york ci...</td>\n",
       "    </tr>\n",
       "    <tr>\n",
       "      <th>96</th>\n",
       "      <td>1947</td>\n",
       "      <td>Arirang</td>\n",
       "      <td>Yeong-jin is a student who has become mentally...</td>\n",
       "      <td>Documentary on director Kim Ki-Duk looking bac...</td>\n",
       "      <td>yeong-jin is student who has become mentally i...</td>\n",
       "      <td>sostok _START_ documentary on director kim ki-...</td>\n",
       "    </tr>\n",
       "    <tr>\n",
       "      <th>97</th>\n",
       "      <td>1934</td>\n",
       "      <td>Midnight</td>\n",
       "      <td>The movie begins at the murder trial of Ethel ...</td>\n",
       "      <td>An unemployed showgirl poses as Hungarian roya...</td>\n",
       "      <td>the movie begins at the murder trial of ethel ...</td>\n",
       "      <td>sostok _START_ an unemployed showgirl poses as...</td>\n",
       "    </tr>\n",
       "    <tr>\n",
       "      <th>98</th>\n",
       "      <td>1984</td>\n",
       "      <td>Finders Keepers</td>\n",
       "      <td>Con man Michael Rangeloff (Michael O'Keefe) is...</td>\n",
       "      <td>A haunted doll teaches one little girl why chi...</td>\n",
       "      <td>con man michael rangeloff michael keefe is fug...</td>\n",
       "      <td>sostok _START_ a haunted doll teaches one litt...</td>\n",
       "    </tr>\n",
       "    <tr>\n",
       "      <th>99</th>\n",
       "      <td>1948</td>\n",
       "      <td>Adventures of Don Juan</td>\n",
       "      <td>Late in the reign of Elizabeth I of England, S...</td>\n",
       "      <td>A 1948 adventure Technicolor romance film made...</td>\n",
       "      <td>late in the reign of elizabeth of england span...</td>\n",
       "      <td>sostok _START_ a 1948 adventure technicolor ro...</td>\n",
       "    </tr>\n",
       "  </tbody>\n",
       "</table>\n",
       "<p>100 rows × 6 columns</p>\n",
       "</div>"
      ],
      "text/plain": [
       "    Release Year                          Title  \\\n",
       "0           1968                          Boom!   \n",
       "1           1960            Weddings and Babies   \n",
       "2           2016                Railroad Tigers   \n",
       "3           1975  W.W. and the Dixie Dancekings   \n",
       "4           1963             This Sporting Life   \n",
       "..           ...                            ...   \n",
       "95          2015                        Tracers   \n",
       "96          1947                        Arirang   \n",
       "97          1934                       Midnight   \n",
       "98          1984                Finders Keepers   \n",
       "99          1948         Adventures of Don Juan   \n",
       "\n",
       "                                                 Plot  \\\n",
       "0   Flora 'Sissy' Goforth (Taylor, in a part writt...   \n",
       "1   The film focuses on the stormy relationship be...   \n",
       "2   In December 1941, Japan expands the occupation...   \n",
       "3   In 1957, W.W. Bright (Burt Reynolds) is an eas...   \n",
       "4   Set in Wakefield, the film concerns Frank Mach...   \n",
       "..                                                ...   \n",
       "95  Cam (Taylor Lautner) is a bike messenger in Ne...   \n",
       "96  Yeong-jin is a student who has become mentally...   \n",
       "97  The movie begins at the murder trial of Ethel ...   \n",
       "98  Con man Michael Rangeloff (Michael O'Keefe) is...   \n",
       "99  Late in the reign of Elizabeth I of England, S...   \n",
       "\n",
       "                                             Overview  \\\n",
       "0   Explores the confrontation between the woman w...   \n",
       "1   Photographer struggles to make enough money to...   \n",
       "2   A railroad worker in China in 1941 leads a tea...   \n",
       "3   Story of a happy-go-lucky small time crook who...   \n",
       "4   In Northern England in the early 1960s, Frank ...   \n",
       "..                                                ...   \n",
       "95  Wanted by the mafia, a New York City bike mess...   \n",
       "96  Documentary on director Kim Ki-Duk looking bac...   \n",
       "97  An unemployed showgirl poses as Hungarian roya...   \n",
       "98  A haunted doll teaches one little girl why chi...   \n",
       "99  A 1948 adventure Technicolor romance film made...   \n",
       "\n",
       "                                         cleaned_plot  \\\n",
       "0   flora sissy goforth taylor in part written for...   \n",
       "1   the film focuses on the stormy relationship be...   \n",
       "2   in december 1941 japan expands the occupation ...   \n",
       "3   in 1957 w.w bright burt reynolds is an easygoi...   \n",
       "4   set in wakefield the film concerns frank machi...   \n",
       "..                                                ...   \n",
       "95  cam taylor lautner is bike messenger in new yo...   \n",
       "96  yeong-jin is student who has become mentally i...   \n",
       "97  the movie begins at the murder trial of ethel ...   \n",
       "98  con man michael rangeloff michael keefe is fug...   \n",
       "99  late in the reign of elizabeth of england span...   \n",
       "\n",
       "                                     cleaned_overview  \n",
       "0   sostok _START_ explores the confrontation betw...  \n",
       "1   sostok _START_ photographer struggles to make ...  \n",
       "2   sostok _START_ a railroad worker in china in 1...  \n",
       "3   sostok _START_ story of happy-go-lucky small t...  \n",
       "4   sostok _START_ in northern england in the earl...  \n",
       "..                                                ...  \n",
       "95  sostok _START_ wanted by the mafia new york ci...  \n",
       "96  sostok _START_ documentary on director kim ki-...  \n",
       "97  sostok _START_ an unemployed showgirl poses as...  \n",
       "98  sostok _START_ a haunted doll teaches one litt...  \n",
       "99  sostok _START_ a 1948 adventure technicolor ro...  \n",
       "\n",
       "[100 rows x 6 columns]"
      ]
     },
     "execution_count": 600,
     "metadata": {},
     "output_type": "execute_result"
    }
   ],
   "source": [
    "df_100 = df.loc[(df['Overview'].str.split().str.len() <= 30)].sample(n=100)\n",
    "df_100 = df_100.reset_index(drop=True)\n",
    "df_100"
   ]
  },
  {
   "cell_type": "markdown",
   "metadata": {},
   "source": [
    "<a id = '3.1'></a>\n",
    "<h3 style = \"font-family:garamond; font-size:30px; background-color: white; color : royalblue; border-radius: 100px 100px; text-align:left\">SpaCy</h3>"
   ]
  },
  {
   "cell_type": "markdown",
   "metadata": {},
   "source": [
    " - spaCy is a free, open-source natural language processing library. \n",
    " - Utilizes TF-IDF (Term-Frequency-Inverse Data Frequency) to weigh the importance of each sentence\n",
    "    - TF: measures how frequently a term occurs in a document (divided by document length)\n",
    "    - IDF: measures how important the term is. \n",
    " - Each sentence will be weighed based on the frequency of the token present in each sentence."
   ]
  },
  {
   "cell_type": "markdown",
   "metadata": {},
   "source": [
    "Import the modules"
   ]
  },
  {
   "cell_type": "code",
   "execution_count": 5,
   "metadata": {},
   "outputs": [],
   "source": [
    "'''!python -m spacy download en_core_web_sm'''\n",
    "import spacy\n",
    "from spacy.lang.en.stop_words import STOP_WORDS\n",
    "from string import punctuation\n",
    "from collections import Counter\n",
    "from heapq import nlargest"
   ]
  },
  {
   "cell_type": "markdown",
   "metadata": {},
   "source": [
    "Load the English model into spaCy"
   ]
  },
  {
   "cell_type": "code",
   "execution_count": 6,
   "metadata": {},
   "outputs": [],
   "source": [
    "nlp = spacy.load('en_core_web_sm')"
   ]
  },
  {
   "cell_type": "markdown",
   "metadata": {},
   "source": [
    "We will come back to our 100 movies. For now we will demonstrate this process on 1 random film"
   ]
  },
  {
   "cell_type": "code",
   "execution_count": 8,
   "metadata": {},
   "outputs": [
    {
     "data": {
      "text/html": [
       "<div>\n",
       "<style scoped>\n",
       "    .dataframe tbody tr th:only-of-type {\n",
       "        vertical-align: middle;\n",
       "    }\n",
       "\n",
       "    .dataframe tbody tr th {\n",
       "        vertical-align: top;\n",
       "    }\n",
       "\n",
       "    .dataframe thead th {\n",
       "        text-align: right;\n",
       "    }\n",
       "</style>\n",
       "<table border=\"1\" class=\"dataframe\">\n",
       "  <thead>\n",
       "    <tr style=\"text-align: right;\">\n",
       "      <th></th>\n",
       "      <th>Release Year</th>\n",
       "      <th>Title</th>\n",
       "      <th>Plot</th>\n",
       "      <th>Overview</th>\n",
       "      <th>cleaned_plot</th>\n",
       "      <th>cleaned_overview</th>\n",
       "    </tr>\n",
       "  </thead>\n",
       "  <tbody>\n",
       "    <tr>\n",
       "      <th>2485</th>\n",
       "      <td>1993</td>\n",
       "      <td>The Secret Adventures of Tom Thumb</td>\n",
       "      <td>The story follows the tiny Tom Thumb as he is ...</td>\n",
       "      <td>A boy born the size of a small doll is kidnapp...</td>\n",
       "      <td>the story follows the tiny tom thumb as he is ...</td>\n",
       "      <td>sostok _START_ a boy born the size of small do...</td>\n",
       "    </tr>\n",
       "  </tbody>\n",
       "</table>\n",
       "</div>"
      ],
      "text/plain": [
       "      Release Year                               Title  \\\n",
       "2485          1993  The Secret Adventures of Tom Thumb   \n",
       "\n",
       "                                                   Plot  \\\n",
       "2485  The story follows the tiny Tom Thumb as he is ...   \n",
       "\n",
       "                                               Overview  \\\n",
       "2485  A boy born the size of a small doll is kidnapp...   \n",
       "\n",
       "                                           cleaned_plot  \\\n",
       "2485  the story follows the tiny tom thumb as he is ...   \n",
       "\n",
       "                                       cleaned_overview  \n",
       "2485  sostok _START_ a boy born the size of small do...  "
      ]
     },
     "execution_count": 8,
     "metadata": {},
     "output_type": "execute_result"
    }
   ],
   "source": [
    "single_samp = df.sample()\n",
    "single_samp = single_samp.reset_index()\n",
    "single_samp"
   ]
  },
  {
   "cell_type": "markdown",
   "metadata": {},
   "source": [
    "We take the plot only and pass the string into the nlp function"
   ]
  },
  {
   "cell_type": "code",
   "execution_count": 9,
   "metadata": {},
   "outputs": [],
   "source": [
    "doc = single_samp['Plot']\n",
    "doc = doc.iloc[0]['Plot']\n",
    "doc = nlp(doc)"
   ]
  },
  {
   "cell_type": "markdown",
   "metadata": {},
   "source": [
    "Filtering Tokens: We need to create 2 lists for parts-of-speech and stop words to validate each token followed by filtering of the necessary tokens and saving them in the keywords list. "
   ]
  },
  {
   "cell_type": "code",
   "execution_count": 10,
   "metadata": {},
   "outputs": [],
   "source": [
    "keyword = []\n",
    "stopwords = list(STOP_WORDS)\n",
    "pos_tag = ['PROPN', 'ADJ', 'NOUN', 'VERB']\n",
    "for token in doc:\n",
    "    if(token.text in stopwords or token.text in punctuation):\n",
    "        continue\n",
    "    if(token.pos_ in pos_tag):\n",
    "        keyword.append(token.text)"
   ]
  },
  {
   "cell_type": "markdown",
   "metadata": {},
   "source": [
    "Next lets calculate the frequency of each token"
   ]
  },
  {
   "cell_type": "code",
   "execution_count": 11,
   "metadata": {},
   "outputs": [],
   "source": [
    "freq_word = Counter(keyword)"
   ]
  },
  {
   "cell_type": "markdown",
   "metadata": {},
   "source": [
    "Normalization of the list"
   ]
  },
  {
   "cell_type": "code",
   "execution_count": 12,
   "metadata": {},
   "outputs": [],
   "source": [
    "max_freq = Counter(keyword).most_common(1)[0][1]\n",
    "for word in freq_word.keys():  \n",
    "    freq_word[word] = (freq_word[word]/max_freq)"
   ]
  },
  {
   "cell_type": "markdown",
   "metadata": {},
   "source": [
    "We can see what this list should look like"
   ]
  },
  {
   "cell_type": "code",
   "execution_count": 13,
   "metadata": {},
   "outputs": [
    {
     "data": {
      "text/plain": [
       "[('parents', 1.0),\n",
       " ('story', 0.5),\n",
       " ('follows', 0.5),\n",
       " ('tiny', 0.5),\n",
       " ('Tom', 0.5)]"
      ]
     },
     "execution_count": 13,
     "metadata": {},
     "output_type": "execute_result"
    }
   ],
   "source": [
    "freq_word.most_common(5)"
   ]
  },
  {
   "cell_type": "markdown",
   "metadata": {},
   "source": [
    "Weighing sentences: Each sentence will be weighed based on the frequency of the token present in each sentence. sent_strength is a python dictionary where the keys are the sentences and the string doc and the values are the weight of each sentence."
   ]
  },
  {
   "cell_type": "code",
   "execution_count": 14,
   "metadata": {},
   "outputs": [],
   "source": [
    "sent_strength={}\n",
    "for sent in doc.sents:\n",
    "    for word in sent:\n",
    "        if word.text in freq_word.keys():\n",
    "            if sent in sent_strength.keys():\n",
    "                sent_strength[sent]+=freq_word[word.text]\n",
    "            else:\n",
    "                sent_strength[sent]=freq_word[word.text]"
   ]
  },
  {
   "cell_type": "markdown",
   "metadata": {},
   "source": [
    "We can see what this looks like"
   ]
  },
  {
   "cell_type": "code",
   "execution_count": 15,
   "metadata": {},
   "outputs": [
    {
     "data": {
      "text/plain": [
       "{The story follows the tiny Tom Thumb as he is abducted from his loving parents and taken to an experimental laboratory, and his subsequent escape.: 7.0,\n",
       " He discovers a community of similarly-sized people living in a swamp, who help him on his journey to return to his parents.: 5.5,\n",
       " The film is largely dialogue-free, limited mostly to grunts and other non-verbal vocalizations.: 4.0}"
      ]
     },
     "execution_count": 15,
     "metadata": {},
     "output_type": "execute_result"
    }
   ],
   "source": [
    "sent_strength"
   ]
  },
  {
   "cell_type": "markdown",
   "metadata": {},
   "source": [
    "Lastly, nlargest is used to summarize the string with 3 arguments: number of sentences to extract (we will do 5 sentences here); the list/tuple/dictionary to iterate over; the condition that needs to be satisfied. The resulting summarized_sentences is a list of sentences of spaCy.span type, which will be converted to a string. "
   ]
  },
  {
   "cell_type": "code",
   "execution_count": 16,
   "metadata": {},
   "outputs": [
    {
     "name": "stdout",
     "output_type": "stream",
     "text": [
      "The story follows the tiny Tom Thumb as he is abducted from his loving parents and taken to an experimental laboratory, and his subsequent escape. He discovers a community of similarly-sized people living in a swamp, who help him on his journey to return to his parents. The film is largely dialogue-free, limited mostly to grunts and other non-verbal vocalizations.\n"
     ]
    }
   ],
   "source": [
    "summarized_sentences = nlargest(8, sent_strength, key=sent_strength.get)\n",
    "final_sentences = [ w.text for w in summarized_sentences ]\n",
    "summary = ' '.join(final_sentences)\n",
    "print(summary)"
   ]
  },
  {
   "cell_type": "markdown",
   "metadata": {},
   "source": [
    "Now, back to our 100 random movies to use for comparison. Let's take everything we just did and make it into a function that we can use in a for loop for our 10 random movies dataframe."
   ]
  },
  {
   "cell_type": "code",
   "execution_count": 17,
   "metadata": {},
   "outputs": [],
   "source": [
    "def spacy_extract(df_plot):\n",
    "    nlp = spacy.load('en_core_web_sm')\n",
    "    doc = nlp(df_plot)\n",
    "    keyword = []\n",
    "    stopwords = list(STOP_WORDS)\n",
    "    pos_tag = ['PROPN', 'ADJ', 'NOUN', 'VERB']\n",
    "    for token in doc:\n",
    "        if(token.text in stopwords or token.text in punctuation):\n",
    "            continue\n",
    "        if(token.pos_ in pos_tag):\n",
    "            keyword.append(token.text)\n",
    "    freq_word = Counter(keyword)\n",
    "    max_freq = Counter(keyword).most_common(1)[0][1]\n",
    "    for word in freq_word.keys():  \n",
    "        freq_word[word] = (freq_word[word]/max_freq)\n",
    "    sent_strength={}\n",
    "    for sent in doc.sents:\n",
    "        for word in sent:\n",
    "            if word.text in freq_word.keys():\n",
    "                if sent in sent_strength.keys():\n",
    "                    sent_strength[sent]+=freq_word[word.text]\n",
    "                else:\n",
    "                    sent_strength[sent]=freq_word[word.text]\n",
    "    summarized_sentences = nlargest(3, sent_strength, key=sent_strength.get)\n",
    "    final_sentences = [ w.text for w in summarized_sentences ]\n",
    "    summary = ' '.join(final_sentences)\n",
    "    return summary"
   ]
  },
  {
   "cell_type": "code",
   "execution_count": 601,
   "metadata": {},
   "outputs": [],
   "source": [
    "spacy_generated_overview = []\n",
    "for i in df_100['Plot']:\n",
    "    spacy_generated_overview.append(spacy_extract(i))"
   ]
  },
  {
   "cell_type": "markdown",
   "metadata": {},
   "source": [
    "<a id = '3.2'></a>\n",
    "<h3 style = \"font-family:garamond; font-size:30px; background-color: white; color : royalblue; border-radius: 100px 100px; text-align:left\">From sumy library</h3>"
   ]
  },
  {
   "cell_type": "markdown",
   "metadata": {},
   "source": [
    "The sumy library is much easier to use. We simply parse and tokenize the text and feed it into our summarizers. There are quite a few techiniques in the sumy library, but shall explore two, LSA and Luhn. "
   ]
  },
  {
   "cell_type": "code",
   "execution_count": 181,
   "metadata": {},
   "outputs": [],
   "source": [
    "from sumy.nlp.tokenizers import Tokenizer\n",
    "from sumy.parsers.plaintext import PlaintextParser"
   ]
  },
  {
   "cell_type": "markdown",
   "metadata": {},
   "source": [
    "<a id = '3.2'></a>\n",
    "<h3 style = \"font-family:garamond; font-size:30px; background-color: white; color : royalblue; border-radius: 100px 100px; text-align:left\">LSA</h3>"
   ]
  },
  {
   "cell_type": "markdown",
   "metadata": {},
   "source": [
    " - LSA, or latent semantic analysis, is one of the more recent extractive summarization techniques. It is an unsupervised method that combines term frequency techniques with SVD (singular value decomposition). \n",
    "     - SVD can identify the patterns of relationships between the terms\n",
    "     - Based on the principle that words which occur in the same contexts tend to have similar meanings\n",
    "     - Computes a set of matrices which give the similarity between the documents"
   ]
  },
  {
   "cell_type": "code",
   "execution_count": 180,
   "metadata": {},
   "outputs": [],
   "source": [
    "from sumy.summarizers.lsa import LsaSummarizer"
   ]
  },
  {
   "cell_type": "markdown",
   "metadata": {},
   "source": [
    "initialize the parser"
   ]
  },
  {
   "cell_type": "code",
   "execution_count": 197,
   "metadata": {},
   "outputs": [],
   "source": [
    "parser=PlaintextParser.from_string(single_samp.iloc[0]['Plot'],Tokenizer('english'))"
   ]
  },
  {
   "cell_type": "markdown",
   "metadata": {},
   "source": [
    "We will choose 6 sentences"
   ]
  },
  {
   "cell_type": "code",
   "execution_count": 193,
   "metadata": {},
   "outputs": [
    {
     "name": "stdout",
     "output_type": "stream",
     "text": [
      "The story follows the tiny Tom Thumb as he is abducted from his loving parents and taken to an experimental laboratory, and his subsequent escape.\n",
      "He discovers a community of similarly-sized people living in a swamp, who help him on his journey to return to his parents.\n",
      "The film is largely dialogue-free, limited mostly to grunts and other non-verbal vocalizations.\n"
     ]
    }
   ],
   "source": [
    "lsa_summarizer = LsaSummarizer()\n",
    "lsa_summary = lsa_summarizer(parser.document,6)\n",
    "for sentence in lsa_summary:\n",
    " print(sentence)"
   ]
  },
  {
   "cell_type": "markdown",
   "metadata": {},
   "source": [
    "Now let's run this on our 100 movies for comparison"
   ]
  },
  {
   "cell_type": "code",
   "execution_count": 602,
   "metadata": {},
   "outputs": [],
   "source": [
    "sumy_lsa_generated_overview = []\n",
    "for i in df_100['Plot']:\n",
    "    parser=PlaintextParser.from_string(i, Tokenizer('english'))\n",
    "    lsa_summarizer = LsaSummarizer()\n",
    "    lsa_summary = lsa_summarizer(parser.document, sentences_count=3)\n",
    "    gen_sum = ''\n",
    "    for sen in lsa_summary:\n",
    "        gen_sum = gen_sum + str(sen) + ' '\n",
    "    sumy_lsa_generated_overview.append(gen_sum)"
   ]
  },
  {
   "cell_type": "markdown",
   "metadata": {},
   "source": [
    "<a id = '3.3'></a>\n",
    "<h3 style = \"font-family:garamond; font-size:30px; background-color: white; color : royalblue; border-radius: 100px 100px; text-align:left\">Luhn</h3>"
   ]
  },
  {
   "cell_type": "markdown",
   "metadata": {},
   "source": [
    "Also utilizes TF-IDF, but it assigns higher weights to sentences occurring near the beginning of a document. "
   ]
  },
  {
   "cell_type": "code",
   "execution_count": 21,
   "metadata": {},
   "outputs": [],
   "source": [
    "from sumy.summarizers.luhn import LuhnSummarizer"
   ]
  },
  {
   "cell_type": "markdown",
   "metadata": {},
   "source": [
    "Initialize the parser"
   ]
  },
  {
   "cell_type": "code",
   "execution_count": 198,
   "metadata": {},
   "outputs": [],
   "source": [
    "parser=PlaintextParser.from_string(single_samp.iloc[0]['Plot'],Tokenizer('english'))"
   ]
  },
  {
   "cell_type": "markdown",
   "metadata": {},
   "source": [
    "instantiate the summarizer with the text document and choose the number of sentences"
   ]
  },
  {
   "cell_type": "code",
   "execution_count": 199,
   "metadata": {},
   "outputs": [],
   "source": [
    "luhn_summarizer=LuhnSummarizer()\n",
    "luhn_summary=luhn_summarizer(parser.document,sentences_count=6)"
   ]
  },
  {
   "cell_type": "code",
   "execution_count": 201,
   "metadata": {},
   "outputs": [
    {
     "name": "stdout",
     "output_type": "stream",
     "text": [
      "The story follows the tiny Tom Thumb as he is abducted from his loving parents and taken to an experimental laboratory, and his subsequent escape.\n",
      "He discovers a community of similarly-sized people living in a swamp, who help him on his journey to return to his parents.\n",
      "The film is largely dialogue-free, limited mostly to grunts and other non-verbal vocalizations.\n"
     ]
    }
   ],
   "source": [
    "for sentence in luhn_summary:\n",
    " print(sentence)"
   ]
  },
  {
   "cell_type": "markdown",
   "metadata": {},
   "source": [
    "Now let's run this on our 100 movies"
   ]
  },
  {
   "cell_type": "code",
   "execution_count": 603,
   "metadata": {},
   "outputs": [],
   "source": [
    "sumy_luhn_generated_overview = []\n",
    "for i in df_100['Plot']:\n",
    "    parser=PlaintextParser.from_string(i, Tokenizer('english'))\n",
    "    luhn_summarizer = LuhnSummarizer()\n",
    "    luhn_summary = luhn_summarizer(parser.document, sentences_count=3)\n",
    "    gen_sum = ''\n",
    "    for sen in luhn_summary:\n",
    "        gen_sum = gen_sum + str(sen) + ' '\n",
    "    sumy_luhn_generated_overview.append(gen_sum)"
   ]
  },
  {
   "cell_type": "markdown",
   "metadata": {},
   "source": [
    "<a id = '4'></a>\n",
    "<h3 style = \"font-family:garamond; font-size:35px; background-color: white; color : royalblue; border-radius: 100px 100px; text-align:left\">Abstractive Summarization</h3>"
   ]
  },
  {
   "cell_type": "markdown",
   "metadata": {},
   "source": [
    "<a id = '4.1'></a>\n",
    "<h3 style = \"font-family:garamond; font-size:30px; background-color: white; color : royalblue; border-radius: 100px 100px; text-align:left\">Walkthrough of building Encoder-Decoder Seq2Seq recurrent neural network (RNN)</h3>"
   ]
  },
  {
   "cell_type": "markdown",
   "metadata": {},
   "source": [
    "<h3 style = \"font-family:garamond; font-size:25px; background-color: white; color : royalblue; border-radius: 100px 100px; text-align:left\">Introduction</h3>"
   ]
  },
  {
   "cell_type": "markdown",
   "metadata": {},
   "source": [
    " - RNNs usually have fixed size input and output vectors. This is obviously quite undesirable for machine translation. Seq2Seq models can help us solve this problem. How? Because the fixed size output vector generated by the encoder need not be the same size as the input vector given to the decoder. It can be passed in whole or can be connected to the hidden units of the decoder unit at every time step. \n",
    " - For text summarization, our model will have an encoder that accepts the pre-processed Plot and Overview, trains the model to create an encoded representation, and sends it to a decoder which decodes the encoded representation into a reliable summary. With more and more training, the model can be used to perform inference on new texts to generate new summaries. "
   ]
  },
  {
   "cell_type": "code",
   "execution_count": 27,
   "metadata": {},
   "outputs": [],
   "source": [
    "from sklearn.model_selection import train_test_split\n",
    "\n",
    "x_tr, x_val, y_tr, y_val = train_test_split(\n",
    "    np.array(df[\"cleaned_plot\"]),\n",
    "    np.array(df[\"cleaned_overview\"]),\n",
    "    test_size=0.1,\n",
    "    random_state=0,\n",
    "    shuffle=True,\n",
    ")"
   ]
  },
  {
   "cell_type": "markdown",
   "metadata": {},
   "source": [
    "Let's tokenize the training text to get the vocab count and the rare words"
   ]
  },
  {
   "cell_type": "code",
   "execution_count": 28,
   "metadata": {},
   "outputs": [],
   "source": [
    "from tensorflow.keras.preprocessing.text import Tokenizer \n",
    "from tensorflow.keras.preprocessing.sequence import pad_sequences\n",
    "\n",
    "x_tokenizer = Tokenizer() \n",
    "x_tokenizer.fit_on_texts(list(x_tr))"
   ]
  },
  {
   "cell_type": "code",
   "execution_count": 29,
   "metadata": {},
   "outputs": [
    {
     "name": "stdout",
     "output_type": "stream",
     "text": [
      "% of rare words in vocabulary:  68.75295006136128\n"
     ]
    }
   ],
   "source": [
    "thresh = 5\n",
    "\n",
    "cnt = 0\n",
    "tot_cnt = 0\n",
    "\n",
    "for key, value in x_tokenizer.word_counts.items():\n",
    "    tot_cnt = tot_cnt + 1\n",
    "    if value < thresh:\n",
    "        cnt = cnt + 1\n",
    "    \n",
    "print(\"% of rare words in vocabulary: \", (cnt / tot_cnt) * 100)"
   ]
  },
  {
   "cell_type": "markdown",
   "metadata": {},
   "source": [
    "Unfortuntely, we have trimmed down our dataset to allow for *some* training. We are limited due to our hardware configuration, as there currently is not a tensorflow and CUDA toolkit version match that supports this GPU. Thus, we have to use our CPU. "
   ]
  },
  {
   "cell_type": "code",
   "execution_count": 30,
   "metadata": {},
   "outputs": [],
   "source": [
    "max_plot_len = 375\n",
    "max_overview_len = 55"
   ]
  },
  {
   "cell_type": "markdown",
   "metadata": {},
   "source": [
    "We prepare another tokenize, but this time not considering the rare words"
   ]
  },
  {
   "cell_type": "code",
   "execution_count": 31,
   "metadata": {},
   "outputs": [
    {
     "name": "stdout",
     "output_type": "stream",
     "text": [
      "Size of vocabulary in X = 9931\n"
     ]
    }
   ],
   "source": [
    "x_tokenizer = Tokenizer(num_words = tot_cnt - cnt) \n",
    "x_tokenizer.fit_on_texts(list(x_tr))\n",
    "\n",
    "# This is where we convert our text sequences to integer sequences\n",
    "x_tr_seq = x_tokenizer.texts_to_sequences(x_tr) \n",
    "x_val_seq = x_tokenizer.texts_to_sequences(x_val)\n",
    "\n",
    "# Since some of the text is below the max length, we need to pad with zeros at the end ('post') to get up to the max length\n",
    "x_tr = pad_sequences(x_tr_seq,  maxlen=max_plot_len, padding='post')\n",
    "x_val = pad_sequences(x_val_seq, maxlen=max_plot_len, padding='post')\n",
    "\n",
    "# We need to get the size of the vocabulary, plus one because of the padding \"word\"\n",
    "x_voc = x_tokenizer.num_words + 1\n",
    "\n",
    "print(\"Size of vocabulary in X = {}\".format(x_voc))"
   ]
  },
  {
   "cell_type": "markdown",
   "metadata": {},
   "source": [
    "We do the same thing with our testing data"
   ]
  },
  {
   "cell_type": "code",
   "execution_count": 32,
   "metadata": {},
   "outputs": [
    {
     "name": "stdout",
     "output_type": "stream",
     "text": [
      "% of rare words in vocabulary: 81.22323664862245\n",
      "Size of vocabulary in Y = 2325\n"
     ]
    }
   ],
   "source": [
    "y_tokenizer = Tokenizer()   \n",
    "y_tokenizer.fit_on_texts(list(y_tr))\n",
    "\n",
    "thresh = 5\n",
    "\n",
    "cnt = 0\n",
    "tot_cnt = 0\n",
    "\n",
    "for key, value in y_tokenizer.word_counts.items():\n",
    "    tot_cnt = tot_cnt + 1\n",
    "    if value < thresh:\n",
    "        cnt = cnt + 1\n",
    "    \n",
    "print(\"% of rare words in vocabulary:\",(cnt / tot_cnt) * 100)\n",
    "\n",
    "y_tokenizer = Tokenizer(num_words=tot_cnt-cnt) \n",
    "y_tokenizer.fit_on_texts(list(y_tr))\n",
    "\n",
    "y_tr_seq = y_tokenizer.texts_to_sequences(y_tr) \n",
    "y_val_seq = y_tokenizer.texts_to_sequences(y_val) \n",
    "\n",
    "y_tr = pad_sequences(y_tr_seq, maxlen=max_overview_len, padding='post')\n",
    "y_val = pad_sequences(y_val_seq, maxlen=max_overview_len, padding='post')\n",
    "\n",
    "y_voc = y_tokenizer.num_words + 1\n",
    "\n",
    "print(\"Size of vocabulary in Y = {}\".format(y_voc))"
   ]
  },
  {
   "cell_type": "markdown",
   "metadata": {},
   "source": [
    "Let's remove empty summaries (those with only the 2 words of START and END)"
   ]
  },
  {
   "cell_type": "code",
   "execution_count": 33,
   "metadata": {},
   "outputs": [],
   "source": [
    "ind = []\n",
    "\n",
    "for i in range(len(y_tr)):\n",
    "    cnt = 0\n",
    "    for j in y_tr[i]:\n",
    "        if j != 0:\n",
    "            cnt = cnt + 1\n",
    "    if cnt == 2:\n",
    "        ind.append(i)\n",
    "\n",
    "y_tr = np.delete(y_tr, ind, axis=0)\n",
    "x_tr = np.delete(x_tr, ind, axis=0)"
   ]
  },
  {
   "cell_type": "code",
   "execution_count": 34,
   "metadata": {},
   "outputs": [],
   "source": [
    "ind = []\n",
    "for i in range(len(y_val)):\n",
    "    cnt = 0\n",
    "    for j in y_val[i]:\n",
    "        if j != 0:\n",
    "            cnt = cnt + 1\n",
    "    if cnt == 2:\n",
    "        ind.append(i)\n",
    "\n",
    "y_val = np.delete(y_val, ind, axis=0)\n",
    "x_val = np.delete(x_val, ind, axis=0)"
   ]
  },
  {
   "cell_type": "code",
   "execution_count": 35,
   "metadata": {},
   "outputs": [],
   "source": [
    "from tensorflow.keras.preprocessing.text import Tokenizer\n",
    "from tensorflow.keras.preprocessing.sequence import pad_sequences\n",
    "from tensorflow.keras.layers import Input, LSTM, Embedding, Dense, \\\n",
    "    Concatenate, TimeDistributed\n",
    "from tensorflow.keras.models import Model\n",
    "from tensorflow.keras.callbacks import EarlyStopping"
   ]
  },
  {
   "cell_type": "markdown",
   "metadata": {},
   "source": [
    "This is where we set up our seq2seq RNN. Normally, we would play around with the number of layers and hyperparameters, but due to time and system constraints, we shall only note them rather than trying to find the optimal model. \n",
    " - Sequence to Sequence models have a sequences as both the input and the output. \n",
    " - Normally this requires the inputs and outputs to be the same size, but an encoder-decoder architecture gets around this.\n",
    "     - The encoder maps the input sequence to a vector and the decoder converts the vector to a sequence.\n",
    " - DNNs and RNNs suffer from what is known as vanishing/exploding gradients, both of which lead to loss of information. \n",
    "     - We will deal with this by using LSTMs, which are a kind of gated recurrent network\n",
    "     - This introduces a set of parameters, one for every time step, which leaves it up to the network about what to remember and what to forget. These new parameters effectively act as gates. Thus, LSTMs solve the vanishing/exploding gradient problem.\n",
    " - First we set up the encoder.\n",
    " - Next we feed the encoder into the embedding layer\n",
    " - Next we set up the encoder LSTM layers.\n",
    "     - the encoder accepts the embedding layer.\n",
    "     - At each LSTM we generate an encoder output to be passed to the next LSTM, and a hidden state (working memory) and cell state (long term memory) which are used to control what to do with memory (i.e. to forget or to write new information). The hidden states and cell states will be used later to predict words for an output sequence.\n",
    " - Then we set up the decoder, using the encoder_states as the initial state. Thus, we have our embedding layer and then the decoder LSTM, followed by a dense layer with a softmax activation, which is typical for the last layer.\n",
    " - Finally, we compile the model and print a summary."
   ]
  },
  {
   "cell_type": "code",
   "execution_count": 36,
   "metadata": {},
   "outputs": [
    {
     "name": "stdout",
     "output_type": "stream",
     "text": [
      "Model: \"model\"\n",
      "__________________________________________________________________________________________________\n",
      " Layer (type)                   Output Shape         Param #     Connected to                     \n",
      "==================================================================================================\n",
      " input_1 (InputLayer)           [(None, 375)]        0           []                               \n",
      "                                                                                                  \n",
      " embedding (Embedding)          (None, 375, 200)     1986200     ['input_1[0][0]']                \n",
      "                                                                                                  \n",
      " lstm (LSTM)                    [(None, 375, 300),   601200      ['embedding[0][0]']              \n",
      "                                 (None, 300),                                                     \n",
      "                                 (None, 300)]                                                     \n",
      "                                                                                                  \n",
      " input_2 (InputLayer)           [(None, None)]       0           []                               \n",
      "                                                                                                  \n",
      " lstm_1 (LSTM)                  [(None, 375, 300),   721200      ['lstm[0][0]']                   \n",
      "                                 (None, 300),                                                     \n",
      "                                 (None, 300)]                                                     \n",
      "                                                                                                  \n",
      " embedding_1 (Embedding)        (None, None, 200)    465000      ['input_2[0][0]']                \n",
      "                                                                                                  \n",
      " lstm_2 (LSTM)                  [(None, 375, 300),   721200      ['lstm_1[0][0]']                 \n",
      "                                 (None, 300),                                                     \n",
      "                                 (None, 300)]                                                     \n",
      "                                                                                                  \n",
      " lstm_3 (LSTM)                  [(None, None, 300),  601200      ['embedding_1[0][0]',            \n",
      "                                 (None, 300),                     'lstm_2[0][1]',                 \n",
      "                                 (None, 300)]                     'lstm_2[0][2]']                 \n",
      "                                                                                                  \n",
      " time_distributed (TimeDistribu  (None, None, 2325)  699825      ['lstm_3[0][0]']                 \n",
      " ted)                                                                                             \n",
      "                                                                                                  \n",
      "==================================================================================================\n",
      "Total params: 5,795,825\n",
      "Trainable params: 5,795,825\n",
      "Non-trainable params: 0\n",
      "__________________________________________________________________________________________________\n"
     ]
    }
   ],
   "source": [
    "latent_dim = 300\n",
    "embedding_dim = 200\n",
    "\n",
    "# Encoder with our max plot length for input\n",
    "encoder_inputs = Input(shape=(max_plot_len, ))\n",
    "\n",
    "# Embedding layer\n",
    "enc_emb = Embedding(x_voc, embedding_dim,\n",
    "                    trainable=True)(encoder_inputs)\n",
    "\n",
    "# Encoder LSTM 1\n",
    "encoder_lstm1 = LSTM(latent_dim, return_sequences=True,\n",
    "                     return_state=True, dropout=0.4,\n",
    "                     recurrent_dropout=0.4)\n",
    "(encoder_output1, state_h1, state_c1) = encoder_lstm1(enc_emb)\n",
    "\n",
    "# Encoder LSTM 2\n",
    "encoder_lstm2 = LSTM(latent_dim, return_sequences=True,\n",
    "                     return_state=True, dropout=0.4,\n",
    "                     recurrent_dropout=0.4)\n",
    "(encoder_output2, state_h2, state_c2) = encoder_lstm2(encoder_output1)\n",
    "\n",
    "# Encoder LSTM 3\n",
    "encoder_lstm3 = LSTM(latent_dim, return_state=True,\n",
    "                     return_sequences=True, dropout=0.4,\n",
    "                     recurrent_dropout=0.4)\n",
    "(encoder_outputs, state_h, state_c) = encoder_lstm3(encoder_output2)\n",
    "\n",
    "# Set up the decoder\n",
    "decoder_inputs = Input(shape=(None, ))\n",
    "\n",
    "# Embedding layer\n",
    "dec_emb_layer = Embedding(y_voc, embedding_dim, trainable=True)\n",
    "dec_emb = dec_emb_layer(decoder_inputs)\n",
    "\n",
    "# Decoder LSTM\n",
    "decoder_lstm = LSTM(latent_dim, return_sequences=True,\n",
    "                    return_state=True, dropout=0.4,\n",
    "                    recurrent_dropout=0.2)\n",
    "(decoder_outputs, decoder_fwd_state, decoder_back_state) = \\\n",
    "    decoder_lstm(dec_emb, initial_state=[state_h, state_c])\n",
    "\n",
    "# Dense layer\n",
    "decoder_dense = TimeDistributed(Dense(y_voc, activation='softmax'))\n",
    "decoder_outputs = decoder_dense(decoder_outputs)\n",
    "\n",
    "# Define the model\n",
    "model = Model([encoder_inputs, decoder_inputs], decoder_outputs)\n",
    "\n",
    "model.summary()"
   ]
  },
  {
   "cell_type": "markdown",
   "metadata": {},
   "source": [
    "- We use the optimizer 'rmsprop' to minimize the sparese cross entropy loss\n",
    "- We will impliment an early stopping mechanism to avoid overfitting, based on if the value loss goes up twice in a row. "
   ]
  },
  {
   "cell_type": "code",
   "execution_count": 37,
   "metadata": {},
   "outputs": [],
   "source": [
    "model.compile(optimizer='rmsprop', loss='sparse_categorical_crossentropy')\n",
    "\n",
    "es = EarlyStopping(monitor='val_loss', mode='min', verbose=1, patience=2)"
   ]
  },
  {
   "cell_type": "markdown",
   "metadata": {},
   "source": [
    "And then we train"
   ]
  },
  {
   "cell_type": "code",
   "execution_count": 38,
   "metadata": {
    "scrolled": false
   },
   "outputs": [
    {
     "name": "stdout",
     "output_type": "stream",
     "text": [
      "Epoch 1/30\n",
      "43/43 [==============================] - 1974s 46s/step - loss: 3.5879 - val_loss: 2.7901\n",
      "Epoch 2/30\n",
      "43/43 [==============================] - 2573s 60s/step - loss: 2.9037 - val_loss: 2.6377\n",
      "Epoch 3/30\n",
      "43/43 [==============================] - 2745s 64s/step - loss: 2.8260 - val_loss: 2.5829\n",
      "Epoch 4/30\n",
      "43/43 [==============================] - 2844s 66s/step - loss: 2.7532 - val_loss: 2.5530\n",
      "Epoch 5/30\n",
      "43/43 [==============================] - 2990s 70s/step - loss: 2.7116 - val_loss: 2.5345\n",
      "Epoch 6/30\n",
      "43/43 [==============================] - 3123s 73s/step - loss: 2.6775 - val_loss: 2.5112\n",
      "Epoch 7/30\n",
      "43/43 [==============================] - 3204s 75s/step - loss: 2.6456 - val_loss: 2.4916\n",
      "Epoch 8/30\n",
      "43/43 [==============================] - 3314s 77s/step - loss: 2.6144 - val_loss: 2.4743\n",
      "Epoch 9/30\n",
      "43/43 [==============================] - 3344s 78s/step - loss: 2.5825 - val_loss: 2.4563\n",
      "Epoch 10/30\n",
      "43/43 [==============================] - 3383s 79s/step - loss: 2.5507 - val_loss: 2.4382\n",
      "Epoch 11/30\n",
      "43/43 [==============================] - 3451s 80s/step - loss: 2.5188 - val_loss: 2.4277\n",
      "Epoch 12/30\n",
      "43/43 [==============================] - 3503s 82s/step - loss: 2.4884 - val_loss: 2.4114\n",
      "Epoch 13/30\n",
      "43/43 [==============================] - 3555s 83s/step - loss: 2.4593 - val_loss: 2.3995\n",
      "Epoch 14/30\n",
      "43/43 [==============================] - 3620s 84s/step - loss: 2.4321 - val_loss: 2.3922\n",
      "Epoch 15/30\n",
      "43/43 [==============================] - 3640s 85s/step - loss: 2.4051 - val_loss: 2.3821\n",
      "Epoch 16/30\n",
      "43/43 [==============================] - 3694s 86s/step - loss: 2.3796 - val_loss: 2.3779\n",
      "Epoch 17/30\n",
      "43/43 [==============================] - 3742s 87s/step - loss: 2.3553 - val_loss: 2.3723\n",
      "Epoch 18/30\n",
      "43/43 [==============================] - 3905s 91s/step - loss: 2.3297 - val_loss: 2.3652\n",
      "Epoch 19/30\n",
      "43/43 [==============================] - 3858s 90s/step - loss: 2.3055 - val_loss: 2.3650\n",
      "Epoch 20/30\n",
      "43/43 [==============================] - 3887s 90s/step - loss: 2.2818 - val_loss: 2.3611\n",
      "Epoch 21/30\n",
      "43/43 [==============================] - 3932s 92s/step - loss: 2.2588 - val_loss: 2.3614\n",
      "Epoch 22/30\n",
      "43/43 [==============================] - 3983s 93s/step - loss: 2.2347 - val_loss: 2.3608\n",
      "Epoch 23/30\n",
      "43/43 [==============================] - 4032s 94s/step - loss: 2.2118 - val_loss: 2.3597\n",
      "Epoch 24/30\n",
      "43/43 [==============================] - 4058s 94s/step - loss: 2.1904 - val_loss: 2.3614\n",
      "Epoch 25/30\n",
      "43/43 [==============================] - 4084s 95s/step - loss: 2.1680 - val_loss: 2.3619\n",
      "Epoch 00025: early stopping\n"
     ]
    }
   ],
   "source": [
    "history = model.fit(\n",
    "    [x_tr, y_tr[:, :-1]],\n",
    "    y_tr.reshape(y_tr.shape[0], y_tr.shape[1], 1)[:, 1:],\n",
    "    epochs=30,\n",
    "    callbacks=[es],\n",
    "    batch_size=64,\n",
    "    validation_data=([x_val, y_val[:, :-1]],\n",
    "                     y_val.reshape(y_val.shape[0], y_val.shape[1], 1)[:\n",
    "                     , 1:]),\n",
    "    )"
   ]
  },
  {
   "cell_type": "markdown",
   "metadata": {},
   "source": [
    "As we can see, there was an early stopping due to consecutive val_loss increases. We can see in the plot below that the val_loss on the test data started to be worse than the training data after about 15 epochs. It is very likely given a small dataset that we would overfit.  "
   ]
  },
  {
   "cell_type": "code",
   "execution_count": 39,
   "metadata": {
    "scrolled": true
   },
   "outputs": [
    {
     "data": {
      "image/png": "[encoded data removed]",
      "text/plain": [
       "<Figure size 432x288 with 1 Axes>"
      ]
     },
     "metadata": {
      "needs_background": "light"
     },
     "output_type": "display_data"
    }
   ],
   "source": [
    "from matplotlib import pyplot\n",
    "\n",
    "pyplot.plot(history.history['loss'], label='train')\n",
    "pyplot.plot(history.history['val_loss'], label='test')\n",
    "pyplot.legend()\n",
    "pyplot.show()"
   ]
  },
  {
   "cell_type": "markdown",
   "metadata": {},
   "source": [
    "Let's save the model"
   ]
  },
  {
   "cell_type": "code",
   "execution_count": 40,
   "metadata": {},
   "outputs": [],
   "source": [
    "model.save('../models/model.h5')"
   ]
  },
  {
   "cell_type": "markdown",
   "metadata": {},
   "source": [
    "Here is the fun part of generating predictions\n",
    " - We need to reverse map the indices to the words\n",
    " - map the words to indices from the summaries tokenizer "
   ]
  },
  {
   "cell_type": "code",
   "execution_count": 41,
   "metadata": {},
   "outputs": [],
   "source": [
    "reverse_target_word_index = y_tokenizer.index_word\n",
    "reverse_source_word_index = x_tokenizer.index_word\n",
    "target_word_index = y_tokenizer.word_index"
   ]
  },
  {
   "cell_type": "markdown",
   "metadata": {},
   "source": [
    "Then we define the encoder and decoder inference models to start making predictions.\n",
    " - The encoder inference model accepts text and returns the output generated from the 3 LSTMs and the hidden states and cell states. \n",
    " - The decoder inference model accepts the start of the sequence identifier (in our case this is sostok) and predicts the next word until we have a complete summary. "
   ]
  },
  {
   "cell_type": "code",
   "execution_count": 42,
   "metadata": {},
   "outputs": [],
   "source": [
    "# Inference Models\n",
    "\n",
    "# Encode the input sequence to get the feature vector\n",
    "encoder_model = Model(inputs=encoder_inputs, outputs=[encoder_outputs,\n",
    "                      state_h, state_c])\n",
    "\n",
    "# Decoder setup\n",
    "\n",
    "# Below tensors will hold the states of the previous time step\n",
    "decoder_state_input_h = Input(shape=(latent_dim, ))\n",
    "decoder_state_input_c = Input(shape=(latent_dim, ))\n",
    "decoder_hidden_state_input = Input(shape=(max_plot_len, latent_dim))\n",
    "\n",
    "# Get the embeddings of the decoder sequence\n",
    "dec_emb2 = dec_emb_layer(decoder_inputs)\n",
    "\n",
    "# To predict the next word in the sequence, set the initial states to the states from the previous time step\n",
    "(decoder_outputs2, state_h2, state_c2) = decoder_lstm(dec_emb2,\n",
    "        initial_state=[decoder_state_input_h, decoder_state_input_c])\n",
    "\n",
    "# A dense softmax layer to generate prob dist. over the target vocabulary\n",
    "decoder_outputs2 = decoder_dense(decoder_outputs2)\n",
    "\n",
    "# Final decoder model\n",
    "decoder_model = Model([decoder_inputs] + [decoder_hidden_state_input,\n",
    "                      decoder_state_input_h, decoder_state_input_c],\n",
    "                      [decoder_outputs2] + [state_h2, state_c2])"
   ]
  },
  {
   "cell_type": "markdown",
   "metadata": {},
   "source": [
    "Then we create the function that accepts the input text and outputs a predicted summary. \n",
    " - It starts with sostok and will continue generating words until eostok is seen or the max summary length is reached.\n",
    " - It will predict the upcoming word from a given word by choosing the word with the max probability, and then updates the internal state of the decoder."
   ]
  },
  {
   "cell_type": "code",
   "execution_count": 43,
   "metadata": {},
   "outputs": [],
   "source": [
    "def decode_sequence(input_seq):\n",
    "\n",
    "    # Encode the input as vectors.\n",
    "    (e_out, e_h, e_c) = encoder_model.predict(input_seq)\n",
    "\n",
    "    # Generate empty target sequence of length 1\n",
    "    target_seq = np.zeros((1, 1))\n",
    "\n",
    "    # Populate the first word of target sequence with the start word.\n",
    "    target_seq[0, 0] = target_word_index['sostok']\n",
    "\n",
    "    stop_condition = False\n",
    "    decoded_sentence = ''\n",
    "\n",
    "    while not stop_condition:\n",
    "        (output_tokens, h, c) = decoder_model.predict([target_seq]\n",
    "                + [e_out, e_h, e_c])\n",
    "\n",
    "        # Sample a token\n",
    "        sampled_token_index = np.argmax(output_tokens[0, -1, :])\n",
    "        sampled_token = reverse_target_word_index[sampled_token_index]\n",
    "\n",
    "        if sampled_token != 'eostok':\n",
    "            decoded_sentence += ' ' + sampled_token\n",
    "\n",
    "        # Exit condition: \n",
    "        if sampled_token == 'eostok' or len(decoded_sentence.split()) \\\n",
    "            >= max_overview_len - 1:\n",
    "            stop_condition = True\n",
    "\n",
    "        # Update the target sequence\n",
    "        target_seq = np.zeros((1, 1))\n",
    "        target_seq[0, 0] = sampled_token_index\n",
    "\n",
    "        # Update internal states\n",
    "        (e_h, e_c) = (h, c)\n",
    "\n",
    "    return decoded_sentence"
   ]
  },
  {
   "cell_type": "markdown",
   "metadata": {},
   "source": [
    "Let's use a sample of 10. We will prepare df_10_full_plots to be passed to our new function"
   ]
  },
  {
   "cell_type": "code",
   "execution_count": 167,
   "metadata": {},
   "outputs": [],
   "source": [
    "df_10_full_plots = np.array(df_100['Plot']).sample(n=10)"
   ]
  },
  {
   "cell_type": "code",
   "execution_count": 168,
   "metadata": {},
   "outputs": [],
   "source": [
    "df_10_full_plots_seq = x_tokenizer.texts_to_sequences(df_10_full_plots)"
   ]
  },
  {
   "cell_type": "code",
   "execution_count": 169,
   "metadata": {},
   "outputs": [],
   "source": [
    "df_10_full_plots = pad_sequences(df_10_full_plots_seq,  maxlen=max_plot_len, padding='post')"
   ]
  },
  {
   "cell_type": "markdown",
   "metadata": {},
   "source": [
    "Let's see how this does with some of our 10 movies"
   ]
  },
  {
   "cell_type": "code",
   "execution_count": 174,
   "metadata": {},
   "outputs": [
    {
     "name": "stdout",
     "output_type": "stream",
     "text": [
      "Title: The Basketball Diaries\n",
      "\n",
      "Original summary: Film adaptation of street tough Jim Carroll's epistle about his kaleidoscopic free fall into the harrowing world of drug addiction.\n",
      "\n",
      "Predicted summary:  start a young woman who is by the of the of his wife end\n",
      "\n",
      "\n",
      "\n",
      "Title: Full of It\n",
      "\n",
      "Original summary: A young kid (Pinkston) is forced to live out the lies he told to become popular.\n",
      "\n",
      "Predicted summary:  start a young woman who is by the of the of his wife end\n",
      "\n",
      "\n",
      "\n",
      "Title: Cradle Will Rock\n",
      "\n",
      "Original summary: A true story of politics and art in the 1930s USA, centered around a leftist musical drama and attempts to stop its production.\n",
      "\n",
      "Predicted summary:  start a young woman who is by the of the of his wife end\n",
      "\n",
      "\n",
      "\n",
      "Title: True Blue\n",
      "\n",
      "Original summary: The story of the year the Oxford and Cambridge boat race changed from a gentleman's race to one where winning was everything.\n",
      "\n",
      "Predicted summary:  start a young woman who is by the of the of his wife end\n",
      "\n",
      "\n",
      "\n"
     ]
    }
   ],
   "source": [
    "for i in range(0, 4):\n",
    "    print ('Title:', df_100.iloc[i]['Title'])\n",
    "    print ('\\nOriginal summary:', df_100.iloc[i]['Overview'])\n",
    "    print ('\\nPredicted summary:', decode_sequence(df_10_full_plots[i].reshape(1,\n",
    "           max_plot_len)))\n",
    "    print ('\\n\\n')"
   ]
  },
  {
   "cell_type": "markdown",
   "metadata": {},
   "source": [
    "Obviously the output isn't anything we would be satisfied with. However, this was meant as a learning tutorial and walkthrough of setting up a seq2seq RNN. Given our small dataset, we were never going to be able to learn something as complex as the English language. However, even if we did not have computational constraints and had a big enough dataset, we would still run into the problem of length. It is well known that LSTM seq2seq RNNs alone start to perform very poorly after about 30 or 40 words. This brings us to our next topic, \"Attention\"."
   ]
  },
  {
   "cell_type": "markdown",
   "metadata": {},
   "source": [
    "\"Attention\" is simply the idea of freeing the encoder-decoder from the fixed-length internal representation. How is this accomplished?\n",
    " - In a simple encoder-decoder architecture the decoder starts making predictions by looking only at the final output of the encoder step.\n",
    " - With \"attention\", we build an architecture that attends every hidden state from each encoder node at every time step and then makes predictions. It learns which hidden encoder states to attend to and by how much. "
   ]
  },
  {
   "cell_type": "markdown",
   "metadata": {},
   "source": [
    "<a id = '4.2'></a>\n",
    "<h3 style = \"font-family:garamond; font-size:30px; background-color: white; color : royalblue; border-radius: 100px 100px; text-align:left\">Transformers Library (pre-trained)</h3>"
   ]
  },
  {
   "cell_type": "markdown",
   "metadata": {},
   "source": [
    "- Now we get to transformers, what arguably changed NLP completely.The biggest benefit comes from how the transformer lends itself to parallelization. Unlike RNNs, transformers do not require the sequential data to be processed in order. This, among other things, drastically reduces training times. \n",
    "- We will look at 2 implementations of transformers from the hugginngface's transformers library, T5 and Bart. Each is a pre-trained model with its own architecture and weights. "
   ]
  },
  {
   "cell_type": "markdown",
   "metadata": {},
   "source": [
    "<a id = '4.2'></a>\n",
    "<h3 style = \"font-family:garamond; font-size:30px; background-color: white; color : royalblue; border-radius: 100px 100px; text-align:left\">T5</h3>"
   ]
  },
  {
   "cell_type": "markdown",
   "metadata": {},
   "source": [
    " - T5 is pre-trained on a multi-task mixture of unsupervised and supervised tasks and for which each task is converted into a text-to-text format. \n",
    " - It uses relative scalar embeddings and encoder input padding can be done on the left and the right."
   ]
  },
  {
   "cell_type": "code",
   "execution_count": 210,
   "metadata": {},
   "outputs": [],
   "source": [
    "import torch\n",
    "import json \n",
    "from transformers import T5Tokenizer, T5ForConditionalGeneration, T5Config"
   ]
  },
  {
   "cell_type": "markdown",
   "metadata": {},
   "source": [
    "We simply choose from one of the pre-trained models to tokenize with. In our case we went with t5-base, but there are smaller and larger ones to choose from."
   ]
  },
  {
   "cell_type": "code",
   "execution_count": 215,
   "metadata": {},
   "outputs": [
    {
     "data": {
      "application/vnd.jupyter.widget-view+json": {
       "model_id": "296a22c8811240e7b13973b303219578",
       "version_major": 2,
       "version_minor": 0
      },
      "text/plain": [
       "Downloading:   0%|          | 0.00/1.17k [00:00<?, ?B/s]"
      ]
     },
     "metadata": {},
     "output_type": "display_data"
    },
    {
     "data": {
      "application/vnd.jupyter.widget-view+json": {
       "model_id": "648b4989040848e49e6c7a759b272ac6",
       "version_major": 2,
       "version_minor": 0
      },
      "text/plain": [
       "Downloading:   0%|          | 0.00/850M [00:00<?, ?B/s]"
      ]
     },
     "metadata": {},
     "output_type": "display_data"
    },
    {
     "data": {
      "application/vnd.jupyter.widget-view+json": {
       "model_id": "a4d28c1e31aa430abe2f18ed4b60f639",
       "version_major": 2,
       "version_minor": 0
      },
      "text/plain": [
       "Downloading:   0%|          | 0.00/773k [00:00<?, ?B/s]"
      ]
     },
     "metadata": {},
     "output_type": "display_data"
    },
    {
     "data": {
      "application/vnd.jupyter.widget-view+json": {
       "model_id": "40b46beacd1f4d1086a975b2ff8c45c2",
       "version_major": 2,
       "version_minor": 0
      },
      "text/plain": [
       "Downloading:   0%|          | 0.00/1.32M [00:00<?, ?B/s]"
      ]
     },
     "metadata": {},
     "output_type": "display_data"
    }
   ],
   "source": [
    "T5model = T5ForConditionalGeneration.from_pretrained('t5-base')\n",
    "T5tokenizer = T5Tokenizer.from_pretrained('t5-base')"
   ]
  },
  {
   "cell_type": "code",
   "execution_count": 222,
   "metadata": {},
   "outputs": [],
   "source": [
    "processed_text = single_samp.iloc[0]['Plot'].strip().replace(\"\\n\",\"\")"
   ]
  },
  {
   "cell_type": "markdown",
   "metadata": {},
   "source": [
    " - Then we simply encode the inputs and pass that to T5model.generate(), setting the desired parameters. "
   ]
  },
  {
   "cell_type": "code",
   "execution_count": 223,
   "metadata": {},
   "outputs": [
    {
     "name": "stdout",
     "output_type": "stream",
     "text": [
      "<pad> the film follows the tiny Tom Thumb as he is abducted from his loving parents. he is taken to an experimental laboratory and his subsequent escape. the film is largely dialogue-free, limited mostly to grunts and other non-verbal vocalizations.</s>\n"
     ]
    }
   ],
   "source": [
    "tokens_input = T5tokenizer.encode(Preprocessed_text,return_tensors=\"pt\", max_length=512, truncation=True)\n",
    "summary_ids = T5model.generate(tokens_input, \n",
    "                               min_length=40, \n",
    "                               max_length=400, \n",
    "                               num_beams=4, \n",
    "                               no_repeat_ngram_size=2, \n",
    "                               early_stopping=True)\n",
    "summary = T5tokenizer.decode(summary_ids[0])\n",
    "print(summary)"
   ]
  },
  {
   "cell_type": "markdown",
   "metadata": {},
   "source": [
    "Now let's make overviews for our 100 movies"
   ]
  },
  {
   "cell_type": "code",
   "execution_count": 604,
   "metadata": {},
   "outputs": [],
   "source": [
    "T5_generated_overview = []\n",
    "for i in df_100.Plot:\n",
    "    t5_prepared_Text = \"summarize: \"+ i\n",
    "    tokenized_text = T5tokenizer.encode(t5_prepared_Text, return_tensors=\"pt\")\n",
    "    summary_ids = T5model.generate(tokenized_text,\n",
    "                                num_beams=4,\n",
    "                                no_repeat_ngram_size=2,\n",
    "                                min_length=40,\n",
    "                                max_length=400,\n",
    "                                early_stopping=True)\n",
    "\n",
    "    output = T5tokenizer.decode(summary_ids[0], skip_special_tokens=True)\n",
    "    T5_generated_overview.append(output)"
   ]
  },
  {
   "cell_type": "markdown",
   "metadata": {},
   "source": [
    "<a id = '4.3'></a>\n",
    "<h3 style = \"font-family:garamond; font-size:30px; background-color: white; color : royalblue; border-radius: 100px 100px; text-align:left\">BART</h3>"
   ]
  },
  {
   "cell_type": "markdown",
   "metadata": {},
   "source": [
    " - At this time of this writing, BART reigns as king of text summarization.\n",
    " - BART is a denoising autoencoder for pre-training seq2seq models.\n",
    " - It uses both BERT (bidirectional encoder) and GPT (left to the right decoder) architecture. \n",
    " - As described by huggingface, BART is trained by:\n",
    "     - (1) corrupting text with an arbitrary noising function, and \n",
    "     - (2) learning a model to reconstruct the original text. \n",
    " - BART does well on many tasks like abstractive dialogue, question answering and summarization.\n",
    " - It is trained on the CNN/Daily Mail data set\n",
    " "
   ]
  },
  {
   "cell_type": "code",
   "execution_count": 203,
   "metadata": {},
   "outputs": [
    {
     "data": {
      "text/plain": [
       "'os.environ[\"CUDA_VISIBLE_DEVICES\"] = \"0\"'"
      ]
     },
     "execution_count": 203,
     "metadata": {},
     "output_type": "execute_result"
    }
   ],
   "source": [
    "from transformers import pipeline\n",
    "import os\n",
    "\n",
    "'''os.environ[\"CUDA_VISIBLE_DEVICES\"] = \"0\"'''"
   ]
  },
  {
   "cell_type": "markdown",
   "metadata": {},
   "source": [
    "Instantiate the pipeline passing in the desired task. We can also pass in a specific model, otherwise it defaults to the sshleifer/distilbart-cnn-12-6 model. "
   ]
  },
  {
   "cell_type": "code",
   "execution_count": 204,
   "metadata": {},
   "outputs": [
    {
     "name": "stderr",
     "output_type": "stream",
     "text": [
      "No model was supplied, defaulted to sshleifer/distilbart-cnn-12-6 (https://huggingface.co/sshleifer/distilbart-cnn-12-6)\n"
     ]
    }
   ],
   "source": [
    "summarizer = pipeline(\"summarization\")"
   ]
  },
  {
   "cell_type": "markdown",
   "metadata": {},
   "source": [
    "We shall use single_sample_plot again. We simply pass in the text we want, along with the max and min length.  "
   ]
  },
  {
   "cell_type": "code",
   "execution_count": 206,
   "metadata": {},
   "outputs": [
    {
     "name": "stderr",
     "output_type": "stream",
     "text": [
      "Your max_length is set to 120, but you input_length is only 77. You might consider decreasing max_length manually, e.g. summarizer('...', max_length=50)\n"
     ]
    }
   ],
   "source": [
    "summary_text = summarizer(single_samp.iloc[0]['Plot'], max_length=120, min_length=15, do_sample=False)[0]['summary_text']"
   ]
  },
  {
   "cell_type": "code",
   "execution_count": 207,
   "metadata": {},
   "outputs": [
    {
     "name": "stdout",
     "output_type": "stream",
     "text": [
      "\n",
      "\n",
      "Pytorch Bart Overview:   The story follows the tiny Tom Thumb as he is abducted from his loving parents and taken to an experimental laboratory . He discovers a community of similarly-sized people living in a swamp . The film is largely dialogue-free, limited mostly to grunts and other non-verbal vocalizations .\n"
     ]
    }
   ],
   "source": [
    "print(\"\\n\\nPytorch Bart Overview: \", summary_text)"
   ]
  },
  {
   "cell_type": "code",
   "execution_count": 605,
   "metadata": {},
   "outputs": [
    {
     "name": "stderr",
     "output_type": "stream",
     "text": [
      "No model was supplied, defaulted to sshleifer/distilbart-cnn-12-6 (https://huggingface.co/sshleifer/distilbart-cnn-12-6)\n",
      "No model was supplied, defaulted to sshleifer/distilbart-cnn-12-6 (https://huggingface.co/sshleifer/distilbart-cnn-12-6)\n",
      "No model was supplied, defaulted to sshleifer/distilbart-cnn-12-6 (https://huggingface.co/sshleifer/distilbart-cnn-12-6)\n",
      "No model was supplied, defaulted to sshleifer/distilbart-cnn-12-6 (https://huggingface.co/sshleifer/distilbart-cnn-12-6)\n",
      "No model was supplied, defaulted to sshleifer/distilbart-cnn-12-6 (https://huggingface.co/sshleifer/distilbart-cnn-12-6)\n",
      "No model was supplied, defaulted to sshleifer/distilbart-cnn-12-6 (https://huggingface.co/sshleifer/distilbart-cnn-12-6)\n",
      "No model was supplied, defaulted to sshleifer/distilbart-cnn-12-6 (https://huggingface.co/sshleifer/distilbart-cnn-12-6)\n",
      "No model was supplied, defaulted to sshleifer/distilbart-cnn-12-6 (https://huggingface.co/sshleifer/distilbart-cnn-12-6)\n",
      "No model was supplied, defaulted to sshleifer/distilbart-cnn-12-6 (https://huggingface.co/sshleifer/distilbart-cnn-12-6)\n",
      "Your max_length is set to 120, but you input_length is only 117. You might consider decreasing max_length manually, e.g. summarizer('...', max_length=50)\n",
      "No model was supplied, defaulted to sshleifer/distilbart-cnn-12-6 (https://huggingface.co/sshleifer/distilbart-cnn-12-6)\n",
      "No model was supplied, defaulted to sshleifer/distilbart-cnn-12-6 (https://huggingface.co/sshleifer/distilbart-cnn-12-6)\n",
      "No model was supplied, defaulted to sshleifer/distilbart-cnn-12-6 (https://huggingface.co/sshleifer/distilbart-cnn-12-6)\n",
      "No model was supplied, defaulted to sshleifer/distilbart-cnn-12-6 (https://huggingface.co/sshleifer/distilbart-cnn-12-6)\n",
      "Your max_length is set to 120, but you input_length is only 79. You might consider decreasing max_length manually, e.g. summarizer('...', max_length=50)\n",
      "No model was supplied, defaulted to sshleifer/distilbart-cnn-12-6 (https://huggingface.co/sshleifer/distilbart-cnn-12-6)\n",
      "No model was supplied, defaulted to sshleifer/distilbart-cnn-12-6 (https://huggingface.co/sshleifer/distilbart-cnn-12-6)\n",
      "Your max_length is set to 120, but you input_length is only 78. You might consider decreasing max_length manually, e.g. summarizer('...', max_length=50)\n",
      "No model was supplied, defaulted to sshleifer/distilbart-cnn-12-6 (https://huggingface.co/sshleifer/distilbart-cnn-12-6)\n",
      "No model was supplied, defaulted to sshleifer/distilbart-cnn-12-6 (https://huggingface.co/sshleifer/distilbart-cnn-12-6)\n",
      "No model was supplied, defaulted to sshleifer/distilbart-cnn-12-6 (https://huggingface.co/sshleifer/distilbart-cnn-12-6)\n",
      "No model was supplied, defaulted to sshleifer/distilbart-cnn-12-6 (https://huggingface.co/sshleifer/distilbart-cnn-12-6)\n",
      "Your max_length is set to 120, but you input_length is only 85. You might consider decreasing max_length manually, e.g. summarizer('...', max_length=50)\n",
      "No model was supplied, defaulted to sshleifer/distilbart-cnn-12-6 (https://huggingface.co/sshleifer/distilbart-cnn-12-6)\n",
      "No model was supplied, defaulted to sshleifer/distilbart-cnn-12-6 (https://huggingface.co/sshleifer/distilbart-cnn-12-6)\n",
      "No model was supplied, defaulted to sshleifer/distilbart-cnn-12-6 (https://huggingface.co/sshleifer/distilbart-cnn-12-6)\n",
      "No model was supplied, defaulted to sshleifer/distilbart-cnn-12-6 (https://huggingface.co/sshleifer/distilbart-cnn-12-6)\n",
      "Your max_length is set to 120, but you input_length is only 86. You might consider decreasing max_length manually, e.g. summarizer('...', max_length=50)\n",
      "No model was supplied, defaulted to sshleifer/distilbart-cnn-12-6 (https://huggingface.co/sshleifer/distilbart-cnn-12-6)\n",
      "No model was supplied, defaulted to sshleifer/distilbart-cnn-12-6 (https://huggingface.co/sshleifer/distilbart-cnn-12-6)\n",
      "No model was supplied, defaulted to sshleifer/distilbart-cnn-12-6 (https://huggingface.co/sshleifer/distilbart-cnn-12-6)\n",
      "No model was supplied, defaulted to sshleifer/distilbart-cnn-12-6 (https://huggingface.co/sshleifer/distilbart-cnn-12-6)\n",
      "No model was supplied, defaulted to sshleifer/distilbart-cnn-12-6 (https://huggingface.co/sshleifer/distilbart-cnn-12-6)\n",
      "No model was supplied, defaulted to sshleifer/distilbart-cnn-12-6 (https://huggingface.co/sshleifer/distilbart-cnn-12-6)\n",
      "No model was supplied, defaulted to sshleifer/distilbart-cnn-12-6 (https://huggingface.co/sshleifer/distilbart-cnn-12-6)\n",
      "No model was supplied, defaulted to sshleifer/distilbart-cnn-12-6 (https://huggingface.co/sshleifer/distilbart-cnn-12-6)\n",
      "No model was supplied, defaulted to sshleifer/distilbart-cnn-12-6 (https://huggingface.co/sshleifer/distilbart-cnn-12-6)\n",
      "No model was supplied, defaulted to sshleifer/distilbart-cnn-12-6 (https://huggingface.co/sshleifer/distilbart-cnn-12-6)\n",
      "No model was supplied, defaulted to sshleifer/distilbart-cnn-12-6 (https://huggingface.co/sshleifer/distilbart-cnn-12-6)\n",
      "No model was supplied, defaulted to sshleifer/distilbart-cnn-12-6 (https://huggingface.co/sshleifer/distilbart-cnn-12-6)\n",
      "No model was supplied, defaulted to sshleifer/distilbart-cnn-12-6 (https://huggingface.co/sshleifer/distilbart-cnn-12-6)\n",
      "No model was supplied, defaulted to sshleifer/distilbart-cnn-12-6 (https://huggingface.co/sshleifer/distilbart-cnn-12-6)\n",
      "No model was supplied, defaulted to sshleifer/distilbart-cnn-12-6 (https://huggingface.co/sshleifer/distilbart-cnn-12-6)\n",
      "No model was supplied, defaulted to sshleifer/distilbart-cnn-12-6 (https://huggingface.co/sshleifer/distilbart-cnn-12-6)\n",
      "No model was supplied, defaulted to sshleifer/distilbart-cnn-12-6 (https://huggingface.co/sshleifer/distilbart-cnn-12-6)\n",
      "No model was supplied, defaulted to sshleifer/distilbart-cnn-12-6 (https://huggingface.co/sshleifer/distilbart-cnn-12-6)\n",
      "No model was supplied, defaulted to sshleifer/distilbart-cnn-12-6 (https://huggingface.co/sshleifer/distilbart-cnn-12-6)\n",
      "No model was supplied, defaulted to sshleifer/distilbart-cnn-12-6 (https://huggingface.co/sshleifer/distilbart-cnn-12-6)\n",
      "No model was supplied, defaulted to sshleifer/distilbart-cnn-12-6 (https://huggingface.co/sshleifer/distilbart-cnn-12-6)\n",
      "No model was supplied, defaulted to sshleifer/distilbart-cnn-12-6 (https://huggingface.co/sshleifer/distilbart-cnn-12-6)\n",
      "No model was supplied, defaulted to sshleifer/distilbart-cnn-12-6 (https://huggingface.co/sshleifer/distilbart-cnn-12-6)\n",
      "No model was supplied, defaulted to sshleifer/distilbart-cnn-12-6 (https://huggingface.co/sshleifer/distilbart-cnn-12-6)\n",
      "Your max_length is set to 120, but you input_length is only 105. You might consider decreasing max_length manually, e.g. summarizer('...', max_length=50)\n",
      "No model was supplied, defaulted to sshleifer/distilbart-cnn-12-6 (https://huggingface.co/sshleifer/distilbart-cnn-12-6)\n",
      "No model was supplied, defaulted to sshleifer/distilbart-cnn-12-6 (https://huggingface.co/sshleifer/distilbart-cnn-12-6)\n",
      "Your max_length is set to 120, but you input_length is only 104. You might consider decreasing max_length manually, e.g. summarizer('...', max_length=50)\n",
      "No model was supplied, defaulted to sshleifer/distilbart-cnn-12-6 (https://huggingface.co/sshleifer/distilbart-cnn-12-6)\n",
      "No model was supplied, defaulted to sshleifer/distilbart-cnn-12-6 (https://huggingface.co/sshleifer/distilbart-cnn-12-6)\n",
      "No model was supplied, defaulted to sshleifer/distilbart-cnn-12-6 (https://huggingface.co/sshleifer/distilbart-cnn-12-6)\n",
      "Your max_length is set to 120, but you input_length is only 100. You might consider decreasing max_length manually, e.g. summarizer('...', max_length=50)\n",
      "No model was supplied, defaulted to sshleifer/distilbart-cnn-12-6 (https://huggingface.co/sshleifer/distilbart-cnn-12-6)\n",
      "No model was supplied, defaulted to sshleifer/distilbart-cnn-12-6 (https://huggingface.co/sshleifer/distilbart-cnn-12-6)\n",
      "No model was supplied, defaulted to sshleifer/distilbart-cnn-12-6 (https://huggingface.co/sshleifer/distilbart-cnn-12-6)\n",
      "No model was supplied, defaulted to sshleifer/distilbart-cnn-12-6 (https://huggingface.co/sshleifer/distilbart-cnn-12-6)\n",
      "Your max_length is set to 120, but you input_length is only 98. You might consider decreasing max_length manually, e.g. summarizer('...', max_length=50)\n",
      "No model was supplied, defaulted to sshleifer/distilbart-cnn-12-6 (https://huggingface.co/sshleifer/distilbart-cnn-12-6)\n"
     ]
    },
    {
     "name": "stderr",
     "output_type": "stream",
     "text": [
      "No model was supplied, defaulted to sshleifer/distilbart-cnn-12-6 (https://huggingface.co/sshleifer/distilbart-cnn-12-6)\n",
      "No model was supplied, defaulted to sshleifer/distilbart-cnn-12-6 (https://huggingface.co/sshleifer/distilbart-cnn-12-6)\n",
      "No model was supplied, defaulted to sshleifer/distilbart-cnn-12-6 (https://huggingface.co/sshleifer/distilbart-cnn-12-6)\n",
      "Your max_length is set to 120, but you input_length is only 103. You might consider decreasing max_length manually, e.g. summarizer('...', max_length=50)\n",
      "No model was supplied, defaulted to sshleifer/distilbart-cnn-12-6 (https://huggingface.co/sshleifer/distilbart-cnn-12-6)\n",
      "No model was supplied, defaulted to sshleifer/distilbart-cnn-12-6 (https://huggingface.co/sshleifer/distilbart-cnn-12-6)\n",
      "No model was supplied, defaulted to sshleifer/distilbart-cnn-12-6 (https://huggingface.co/sshleifer/distilbart-cnn-12-6)\n",
      "No model was supplied, defaulted to sshleifer/distilbart-cnn-12-6 (https://huggingface.co/sshleifer/distilbart-cnn-12-6)\n",
      "No model was supplied, defaulted to sshleifer/distilbart-cnn-12-6 (https://huggingface.co/sshleifer/distilbart-cnn-12-6)\n",
      "No model was supplied, defaulted to sshleifer/distilbart-cnn-12-6 (https://huggingface.co/sshleifer/distilbart-cnn-12-6)\n",
      "Your max_length is set to 120, but you input_length is only 113. You might consider decreasing max_length manually, e.g. summarizer('...', max_length=50)\n",
      "No model was supplied, defaulted to sshleifer/distilbart-cnn-12-6 (https://huggingface.co/sshleifer/distilbart-cnn-12-6)\n",
      "No model was supplied, defaulted to sshleifer/distilbart-cnn-12-6 (https://huggingface.co/sshleifer/distilbart-cnn-12-6)\n",
      "No model was supplied, defaulted to sshleifer/distilbart-cnn-12-6 (https://huggingface.co/sshleifer/distilbart-cnn-12-6)\n",
      "No model was supplied, defaulted to sshleifer/distilbart-cnn-12-6 (https://huggingface.co/sshleifer/distilbart-cnn-12-6)\n",
      "No model was supplied, defaulted to sshleifer/distilbart-cnn-12-6 (https://huggingface.co/sshleifer/distilbart-cnn-12-6)\n",
      "No model was supplied, defaulted to sshleifer/distilbart-cnn-12-6 (https://huggingface.co/sshleifer/distilbart-cnn-12-6)\n",
      "No model was supplied, defaulted to sshleifer/distilbart-cnn-12-6 (https://huggingface.co/sshleifer/distilbart-cnn-12-6)\n",
      "No model was supplied, defaulted to sshleifer/distilbart-cnn-12-6 (https://huggingface.co/sshleifer/distilbart-cnn-12-6)\n",
      "No model was supplied, defaulted to sshleifer/distilbart-cnn-12-6 (https://huggingface.co/sshleifer/distilbart-cnn-12-6)\n",
      "No model was supplied, defaulted to sshleifer/distilbart-cnn-12-6 (https://huggingface.co/sshleifer/distilbart-cnn-12-6)\n",
      "No model was supplied, defaulted to sshleifer/distilbart-cnn-12-6 (https://huggingface.co/sshleifer/distilbart-cnn-12-6)\n",
      "No model was supplied, defaulted to sshleifer/distilbart-cnn-12-6 (https://huggingface.co/sshleifer/distilbart-cnn-12-6)\n",
      "No model was supplied, defaulted to sshleifer/distilbart-cnn-12-6 (https://huggingface.co/sshleifer/distilbart-cnn-12-6)\n",
      "No model was supplied, defaulted to sshleifer/distilbart-cnn-12-6 (https://huggingface.co/sshleifer/distilbart-cnn-12-6)\n",
      "No model was supplied, defaulted to sshleifer/distilbart-cnn-12-6 (https://huggingface.co/sshleifer/distilbart-cnn-12-6)\n",
      "No model was supplied, defaulted to sshleifer/distilbart-cnn-12-6 (https://huggingface.co/sshleifer/distilbart-cnn-12-6)\n",
      "No model was supplied, defaulted to sshleifer/distilbart-cnn-12-6 (https://huggingface.co/sshleifer/distilbart-cnn-12-6)\n",
      "No model was supplied, defaulted to sshleifer/distilbart-cnn-12-6 (https://huggingface.co/sshleifer/distilbart-cnn-12-6)\n",
      "No model was supplied, defaulted to sshleifer/distilbart-cnn-12-6 (https://huggingface.co/sshleifer/distilbart-cnn-12-6)\n",
      "No model was supplied, defaulted to sshleifer/distilbart-cnn-12-6 (https://huggingface.co/sshleifer/distilbart-cnn-12-6)\n",
      "No model was supplied, defaulted to sshleifer/distilbart-cnn-12-6 (https://huggingface.co/sshleifer/distilbart-cnn-12-6)\n",
      "No model was supplied, defaulted to sshleifer/distilbart-cnn-12-6 (https://huggingface.co/sshleifer/distilbart-cnn-12-6)\n",
      "No model was supplied, defaulted to sshleifer/distilbart-cnn-12-6 (https://huggingface.co/sshleifer/distilbart-cnn-12-6)\n",
      "No model was supplied, defaulted to sshleifer/distilbart-cnn-12-6 (https://huggingface.co/sshleifer/distilbart-cnn-12-6)\n",
      "Your max_length is set to 120, but you input_length is only 108. You might consider decreasing max_length manually, e.g. summarizer('...', max_length=50)\n",
      "No model was supplied, defaulted to sshleifer/distilbart-cnn-12-6 (https://huggingface.co/sshleifer/distilbart-cnn-12-6)\n",
      "No model was supplied, defaulted to sshleifer/distilbart-cnn-12-6 (https://huggingface.co/sshleifer/distilbart-cnn-12-6)\n",
      "No model was supplied, defaulted to sshleifer/distilbart-cnn-12-6 (https://huggingface.co/sshleifer/distilbart-cnn-12-6)\n",
      "No model was supplied, defaulted to sshleifer/distilbart-cnn-12-6 (https://huggingface.co/sshleifer/distilbart-cnn-12-6)\n",
      "Your max_length is set to 120, but you input_length is only 111. You might consider decreasing max_length manually, e.g. summarizer('...', max_length=50)\n",
      "No model was supplied, defaulted to sshleifer/distilbart-cnn-12-6 (https://huggingface.co/sshleifer/distilbart-cnn-12-6)\n",
      "No model was supplied, defaulted to sshleifer/distilbart-cnn-12-6 (https://huggingface.co/sshleifer/distilbart-cnn-12-6)\n",
      "No model was supplied, defaulted to sshleifer/distilbart-cnn-12-6 (https://huggingface.co/sshleifer/distilbart-cnn-12-6)\n",
      "No model was supplied, defaulted to sshleifer/distilbart-cnn-12-6 (https://huggingface.co/sshleifer/distilbart-cnn-12-6)\n",
      "No model was supplied, defaulted to sshleifer/distilbart-cnn-12-6 (https://huggingface.co/sshleifer/distilbart-cnn-12-6)\n",
      "Your max_length is set to 120, but you input_length is only 107. You might consider decreasing max_length manually, e.g. summarizer('...', max_length=50)\n",
      "No model was supplied, defaulted to sshleifer/distilbart-cnn-12-6 (https://huggingface.co/sshleifer/distilbart-cnn-12-6)\n"
     ]
    }
   ],
   "source": [
    "bart_generated_overview = []\n",
    "for i in df_100['Plot']:\n",
    "    summarizer = pipeline('summarization')\n",
    "    summary_text = summarizer(i, max_length=120, min_length=15, do_sample=False)[0]['summary_text']\n",
    "    bart_generated_overview.append(summary_text)"
   ]
  },
  {
   "cell_type": "markdown",
   "metadata": {},
   "source": [
    "<a id = '5'></a>\n",
    "<h1 style = \"font-family: garamond; font-size: 35px; font-style: normal; letter-spcaing: 3px; background-color: #f6f5f5; color :royalblue; border-radius: 100px 100px; text-align:left \" >Results</h1>"
   ]
  },
  {
   "cell_type": "markdown",
   "metadata": {},
   "source": [
    "<a id = '5.1'></a>\n",
    "<h1 style = \"font-family: garamond; font-size: 30px; font-style: normal; letter-spcaing: 3px; background-color: #f6f5f5; color :royalblue; border-radius: 100px 100px; text-align:left \" >Subjective measures</h1>"
   ]
  },
  {
   "cell_type": "code",
   "execution_count": 606,
   "metadata": {},
   "outputs": [
    {
     "name": "stderr",
     "output_type": "stream",
     "text": [
      "C:\\Users\\rotzn\\AppData\\Local\\Temp/ipykernel_18768/2124523483.py:2: SettingWithCopyWarning: \n",
      "A value is trying to be set on a copy of a slice from a DataFrame.\n",
      "Try using .loc[row_indexer,col_indexer] = value instead\n",
      "\n",
      "See the caveats in the documentation: https://pandas.pydata.org/pandas-docs/stable/user_guide/indexing.html#returning-a-view-versus-a-copy\n",
      "  df_100_all['spacy_overview'] = spacy_generated_overview\n",
      "C:\\Users\\rotzn\\AppData\\Local\\Temp/ipykernel_18768/2124523483.py:3: SettingWithCopyWarning: \n",
      "A value is trying to be set on a copy of a slice from a DataFrame.\n",
      "Try using .loc[row_indexer,col_indexer] = value instead\n",
      "\n",
      "See the caveats in the documentation: https://pandas.pydata.org/pandas-docs/stable/user_guide/indexing.html#returning-a-view-versus-a-copy\n",
      "  df_100_all['lsa_overview'] = sumy_lsa_generated_overview\n"
     ]
    }
   ],
   "source": [
    "df_100_all = df_100[['Title', 'Plot', 'Overview']]\n",
    "df_100_all['spacy_overview'] = spacy_generated_overview\n",
    "df_100_all['lsa_overview'] = sumy_lsa_generated_overview\n",
    "df_100_all['luhn_overview'] = sumy_luhn_generated_overview\n",
    "df_100_all['T5_overview'] = T5_generated_overview\n",
    "df_100_all['bart_overview'] = bart_generated_overview"
   ]
  },
  {
   "cell_type": "code",
   "execution_count": 607,
   "metadata": {},
   "outputs": [
    {
     "name": "stdout",
     "output_type": "stream",
     "text": [
      "Title:  Boom! \n",
      "\n",
      "Legit Overview:  Explores the confrontation between the woman who has everything, including emptiness, and a penniless poet who has nothing but the ability to fill a wealthy woman's needs. \n",
      "\n",
      "spacy Overview:  Into her life comes a mysterious man, Christopher Flanders, nicknamed \"Angelo Del Morte\" (played by then-husband Burton, in a part intended for a very young man). \r\n",
      "The interaction between Goforth and Flanders forms the backbone of the plot, with both of the major characters voicing lines of dialogue that carry allegorical and Symbolist significance. Flora 'Sissy' Goforth (Taylor, in a part written for an older woman) is a terminally ill woman living with a coterie of servants in a large mansion on a secluded island. \n",
      "\n",
      "LSA overview:  Secondary characters chime in, such as \"the Witch of Capri\" (Coward). The movie mingles respect and contempt for human beings who, like Goforth, continue to deny their own death even as it draws closer and closer. It examines how these characters can enlist and redirect their fading erotic drive into the reinforcement of this denial.  \n",
      "\n",
      "luhn overview:  Flora 'Sissy' Goforth (Taylor, in a part written for an older woman) is a terminally ill woman living with a coterie of servants in a large mansion on a secluded island. The mysterious man may or may not be \"The Angel of Death\". The interaction between Goforth and Flanders forms the backbone of the plot, with both of the major characters voicing lines of dialogue that carry allegorical and Symbolist significance.  \n",
      "\n",
      "T5 overview:  the movie mingles respect and contempt for human beings who deny their own death. it examines how these characters can enlist and redirect their fading erotic drive into the reinforcement of this denial. \n",
      "\n",
      "bart overview:   Flora 'Sissy' Goforth (Taylor) is a terminally ill woman living with a coterie of servants in a large mansion on a secluded island . The movie mingles respect and contempt for human beings who, like Goforth, continue to deny their own death even as it draws closer and closer .\n"
     ]
    }
   ],
   "source": [
    "print('Title: ', df_100.iloc[0]['Title'],\n",
    "      '\\n\\nLegit Overview: ',  df_100.iloc[0][\"Overview\"],\n",
    "      \"\\n\\nspacy Overview: \", spacy_generated_overview[0],\n",
    "      \"\\n\\nLSA overview: \", sumy_lsa_generated_overview[0],\n",
    "      \"\\n\\nluhn overview: \", sumy_luhn_generated_overview[0],\n",
    "      \"\\n\\nT5 overview: \", T5_generated_overview[0],\n",
    "      \"\\n\\nbart overview: \", bart_generated_overview[0]\n",
    "     )\n"
   ]
  },
  {
   "cell_type": "code",
   "execution_count": 608,
   "metadata": {},
   "outputs": [
    {
     "name": "stdout",
     "output_type": "stream",
     "text": [
      "Title:  Weddings and Babies \n",
      "\n",
      "Legit Overview:  Photographer struggles to make enough money to marry his fiancee, who is starting to believe he's delaying their marriage deliberately. \n",
      "\n",
      "spacy Overview:  The film focuses on the stormy relationship between New York City wedding photographer Al Capetti (Myhers) and his Swedish-born girlfriend and assistant Bea (Lindfors). At one point, his mother runs away to the cemetery where her husband is buried, as one critic later put it, \"to see the grave site that awaits her, one stone among a million in that vast necropolis gazing on the city's distant skyline from the shadow of the BQE.\"[1] As the film begins, Bea tells Al how anxious she is to get married and have children of her own. \n",
      "\n",
      "LSA overview:  The film focuses on the stormy relationship between New York City wedding photographer Al Capetti (Myhers) and his Swedish-born girlfriend and assistant Bea (Lindfors). As the film begins, Bea tells Al how anxious she is to get married and have children of her own. Al, however, resists getting married until he has substantial savings.  \n",
      "\n",
      "luhn overview:  As the film begins, Bea tells Al how anxious she is to get married and have children of her own. Meanwhile, Al is under pressure from his elderly mother, who he has just committed to a home for the elderly. At one point, his mother runs away to the cemetery where her husband is buried, as one critic later put it, \"to see the grave site that awaits her, one stone among a million in that vast necropolis gazing on the city's distant skyline from the shadow of the BQE.  \n",
      "\n",
      "T5 overview:  film focuses on the stormy relationship between wedding photographer and his girlfriend. film is about a man who resists getting married until he has savings to spend on his business in nyc, says cnn.com's tom charity. \n",
      "\n",
      "bart overview:   The film focuses on the stormy relationship between New York City wedding photographer Al Capetti and his Swedish-born girlfriend and assistant Bea . Al is under pressure from his elderly mother, who he has just committed to a home for the elderly .\n"
     ]
    }
   ],
   "source": [
    "print('Title: ', df_100.iloc[1]['Title'],\n",
    "      '\\n\\nLegit Overview: ',  df_100.iloc[1][\"Overview\"],\n",
    "      \"\\n\\nspacy Overview: \", spacy_generated_overview[1],\n",
    "      \"\\n\\nLSA overview: \", sumy_lsa_generated_overview[1],\n",
    "      \"\\n\\nluhn overview: \", sumy_luhn_generated_overview[1],\n",
    "      \"\\n\\nT5 overview: \", T5_generated_overview[1],\n",
    "      \"\\n\\nbart overview: \", bart_generated_overview[1]\n",
    "     )\n"
   ]
  },
  {
   "cell_type": "code",
   "execution_count": 609,
   "metadata": {},
   "outputs": [
    {
     "name": "stdout",
     "output_type": "stream",
     "text": [
      "Title:  Railroad Tigers \n",
      "\n",
      "Legit Overview:  A railroad worker in China in 1941 leads a team of freedom fighters against the Japanese in order to get food for the poor. \n",
      "\n",
      "spacy Overview:  Using his deep knowledge of the train network, he and his men sabotage it, ambushing Japanese soldiers and stealing supplies to feed the starving Chinese. Although the freedom fighters have no weapons of their own, they employ whatever tools are at hand, including shovels, loose railway track planks and diverted trains. The railway from Tianjin to Nanjing in East China became a key military transportation route, heavily guarded by Japanese soldiers. \n",
      "\n",
      "LSA overview:  The railway from Tianjin to Nanjing in East China became a key military transportation route, heavily guarded by Japanese soldiers. Although the freedom fighters have no weapons of their own, they employ whatever tools are at hand, including shovels, loose railway track planks and diverted trains. In an act of defiance, Ma Yuan launches his most dangerous mission yet, blowing up a heavily guarded railroad bridge.  \n",
      "\n",
      "luhn overview:  Railroad worker Ma Yuan (Jackie Chan) leads a team of freedom fighters. The freedom fighters find themselves on the wrong side of the tracks when the Japanese send reinforcements to Shandong. When the Japanese learn of the crippling plan, which will derail the war effort, the stakes are raised even higher.  \n",
      "\n",
      "T5 overview:  in 1941, Japan expands the occupation of its neighbouring countries to Southeast Asia. the railway from Tianjin to Nanjing in east china became a key military transportation route - heavily guarded by japanese soldiers 'railroad Tigers' the freedom fighters have no weapons of their own, but employ whatever tools are at hand, including shovels, loose railway planks and diverted trains. \n",
      "\n",
      "bart overview:   Railroad worker Ma Yuan (Jackie Chan) leads a team of freedom fighters . The railway from Tianjin to Nanjing in East China became a key military transportation route . Using his deep knowledge of the train network, he and his men sabotage it .\n"
     ]
    }
   ],
   "source": [
    "print('Title: ', df_100.iloc[2]['Title'],\n",
    "      '\\n\\nLegit Overview: ',  df_100.iloc[2][\"Overview\"],\n",
    "      \"\\n\\nspacy Overview: \", spacy_generated_overview[2],\n",
    "      \"\\n\\nLSA overview: \", sumy_lsa_generated_overview[2],\n",
    "      \"\\n\\nluhn overview: \", sumy_luhn_generated_overview[2],\n",
    "      \"\\n\\nT5 overview: \", T5_generated_overview[2],\n",
    "      \"\\n\\nbart overview: \", bart_generated_overview[2]\n",
    "     )\n"
   ]
  },
  {
   "cell_type": "code",
   "execution_count": 610,
   "metadata": {},
   "outputs": [
    {
     "name": "stdout",
     "output_type": "stream",
     "text": [
      "Title:  W.W. and the Dixie Dancekings \n",
      "\n",
      "Legit Overview:  Story of a happy-go-lucky small time crook who runs into a country music group looking for their big break. They end up helping each other out in unexpected ways. \n",
      "\n",
      "spacy Overview:  \r\n",
      "W.W. only steals from SOS gas stations, so the company's chairman sends for Bible-thumping ex-lawman Deacon John Wesley Gore (Art Carney) to track him down. When Gore broadcasts the description of the getaway car on a radio revival show, W.W. burns up his car. \r\n",
      "W.W. talks the Dancekings into a bank robbery (SOS has just opened a bank branch) that does not work out quite as planned. \n",
      "\n",
      "LSA overview:  W.W. only steals from SOS gas stations, so the company's chairman sends for Bible-thumping ex-lawman Deacon John Wesley Gore (Art Carney) to track him down. Meanwhile, W.W. and the newly outfitted band go to see Country Bull (Ned Beatty), a highly successful singer-songwriter. There Gore catches W.W. using an exact replica of his burnt car as bait.  \n",
      "\n",
      "luhn overview:  He is ready to separate from the Dancekings in order to shield them, but then he hears them rehearsing Wayne's new song. He persuades Country Bull to listen to it; the man is so impressed, he puts them on the Grand Ole Opry. Gore makes him drive to the police department, but just as they arrive, Gore realizes it is now Sunday, so rather than violating the Sabbath, he lets him go.  \n",
      "\n",
      "T5 overview:  in 1957, an easygoing crook meets the Dixie Dancekings, a country music band. W.W. only steals from gas stations, so the company's chairman sends for deacon to track him down. \n",
      "\n",
      "bart overview:   In 1957, Burt Reynolds is an easygoing crook who robs gas stations . He meets the Dixie Dancekings, a country music band, while fleeing from a policeman . He claims to be in the music business, and ends up promoting the group .\n"
     ]
    }
   ],
   "source": [
    "print('Title: ', df_100.iloc[3]['Title'],\n",
    "      '\\n\\nLegit Overview: ',  df_100.iloc[3][\"Overview\"],\n",
    "      \"\\n\\nspacy Overview: \", spacy_generated_overview[3],\n",
    "      \"\\n\\nLSA overview: \", sumy_lsa_generated_overview[3],\n",
    "      \"\\n\\nluhn overview: \", sumy_luhn_generated_overview[3],\n",
    "      \"\\n\\nT5 overview: \", T5_generated_overview[3],\n",
    "      \"\\n\\nbart overview: \", bart_generated_overview[3]\n",
    "     )\n"
   ]
  },
  {
   "cell_type": "code",
   "execution_count": 611,
   "metadata": {},
   "outputs": [
    {
     "name": "stdout",
     "output_type": "stream",
     "text": [
      "Title:  This Sporting Life \n",
      "\n",
      "Legit Overview:  In Northern England in the early 1960s, Frank Machin is mean, tough and ambitious enough to become an immediate star in the rugby league team run by local employer Weaver. \n",
      "\n",
      "spacy Overview:  His recently widowed landlady, Mrs Margaret Hammond (Roberts), a mother of two young children, lost her husband in an accident at Weaver's engineering firm but received no financial compensation, because the death was ruled a suicide. Following a nightclub altercation, in which he takes on the captain of the local rugby league club and punches a couple of the others, he is recruited by the team's manager, who sees profit in his aggressive streak. \r\n",
      "Although at first somewhat uncoordinated at league, he impresses the team's owner, Gerald Weaver (Badel), with the spirit and brutality of his playing style during the trial. \n",
      "\n",
      "LSA overview:  His recently widowed landlady, Mrs Margaret Hammond (Roberts), a mother of two young children, lost her husband in an accident at Weaver's engineering firm but received no financial compensation, because the death was ruled a suicide. Frank eventually has sexual relations with Margaret but in her grief she cannot return any affection. In the end he is seen as \"just a great ape on a football field\", vulnerable to the ravages of time and injury.  \n",
      "\n",
      "luhn overview:  Following a nightclub altercation, in which he takes on the captain of the local rugby league club and punches a couple of the others, he is recruited by the team's manager, who sees profit in his aggressive streak. She sometimes insults him, referring to him as \"just a great ape\" and finds his boorish behaviour at a smart restaurant off-putting. In the end he is seen as \"just a great ape on a football field\", vulnerable to the ravages of time and injury.  \n",
      "\n",
      "T5 overview:  a bitter young coal miner from the west riding of Yorkshire is portrayed in the film. he is recruited by the team's manager, who sees profit in his aggressive streak. his landlady, Mrs Margaret Hammond, lost her husband in an accident but received no financial compensation. \n",
      "\n",
      "bart overview:   Film concerns Frank Machin (Harris) a bitter young coal miner from the West Riding of Yorkshire . He is recruited by the team's manager, who sees profit in his aggressive streak . His recently widowed landlady, Mrs Margaret Hammond, lost her husband in an accident but received no financial compensation because the death was ruled a suicide . He eventually has sexual relations with Margaret but she cannot return any affection .\n"
     ]
    }
   ],
   "source": [
    "print('Title: ', df_100.iloc[4]['Title'],\n",
    "      '\\n\\nLegit Overview: ',  df_100.iloc[4][\"Overview\"],\n",
    "      \"\\n\\nspacy Overview: \", spacy_generated_overview[4],\n",
    "      \"\\n\\nLSA overview: \", sumy_lsa_generated_overview[4],\n",
    "      \"\\n\\nluhn overview: \", sumy_luhn_generated_overview[4],\n",
    "      \"\\n\\nT5 overview: \", T5_generated_overview[4],\n",
    "      \"\\n\\nbart overview: \", bart_generated_overview[4]\n",
    "     )\n"
   ]
  },
  {
   "cell_type": "markdown",
   "metadata": {},
   "source": [
    "<a id = '5.2'></a>\n",
    "<h1 style = \"font-family: garamond; font-size: 35px; font-style: normal; letter-spcaing: 3px; background-color: #f6f5f5; color :royalblue; border-radius: 100px 100px; text-align:left \" >5.2 Objective measures</h1>"
   ]
  },
  {
   "cell_type": "markdown",
   "metadata": {},
   "source": [
    "<h1 style = \"font-family: garamond; font-size: 30px; font-style: normal; letter-spcaing: 3px; background-color: #f6f5f5; color :royalblue; border-radius: 100px 100px; text-align:left \" >Cosine Similarity</h1>"
   ]
  },
  {
   "cell_type": "markdown",
   "metadata": {},
   "source": [
    "<p style=\"font-family:Georgia; font-size:18px\">Cosine similarity is a metric that measures how similar two documents are regardless of their size. It measures the cosine of the angle between two vectors projected in a multi-dimensional space. It is advantageous because even if the two documents are far apart in their Euclidean distance (because of the difference in document sizes), they may still be oriented close together. Thus, a smaller angle means a higher cosine similarity. </p>"
   ]
  },
  {
   "cell_type": "code",
   "execution_count": 612,
   "metadata": {},
   "outputs": [],
   "source": [
    "df_100_scores = df_100[['Title']]"
   ]
  },
  {
   "cell_type": "markdown",
   "metadata": {},
   "source": [
    "We will use a pre-trained word vector"
   ]
  },
  {
   "cell_type": "code",
   "execution_count": 259,
   "metadata": {},
   "outputs": [],
   "source": [
    "from gensim.scripts.glove2word2vec import glove2word2vec\n",
    "import scipy"
   ]
  },
  {
   "cell_type": "code",
   "execution_count": 246,
   "metadata": {},
   "outputs": [
    {
     "name": "stderr",
     "output_type": "stream",
     "text": [
      "C:\\Users\\rotzn\\AppData\\Local\\Temp/ipykernel_18768/2554914634.py:2: DeprecationWarning: Call to deprecated `glove2word2vec` (KeyedVectors.load_word2vec_format(.., binary=False, no_header=True) loads GLoVE text vectors.).\n",
      "  final = glove2word2vec(path ,\"./glove.6B.200d.txt\")\n"
     ]
    }
   ],
   "source": [
    "path = \"../global_vectors_for_word_rep/glove.6B.200d.txt\"\n",
    "final = glove2word2vec(path ,\"./glove.6B.200d.txt\")"
   ]
  },
  {
   "cell_type": "code",
   "execution_count": 247,
   "metadata": {},
   "outputs": [],
   "source": [
    "glove = gensim.models.KeyedVectors.load_word2vec_format(\"./glove.6B.200d.txt\")"
   ]
  },
  {
   "cell_type": "code",
   "execution_count": 248,
   "metadata": {},
   "outputs": [],
   "source": [
    "def cosine_distance_wordembedding_method(sent1, sent2):\n",
    "    vector_1 = np.mean([glove[word] for word in sent1 if word in glove],axis=0)\n",
    "    vector_2 = np.mean([glove[word] for word in sent2 if word in glove],axis=0)\n",
    "    cosine = scipy.spatial.distance.cosine(vector_1, vector_2)\n",
    "    return 1-cosine"
   ]
  },
  {
   "cell_type": "code",
   "execution_count": 257,
   "metadata": {},
   "outputs": [],
   "source": [
    "def get_cosine(dataframe, over_col, gen_over_col):\n",
    "    overview_tokens = dataframe[over_col].apply(lambda x: x.split(\" \"))\n",
    "    gen_overview_tokens = dataframe[gen_over_col].apply(lambda x: x.split(\" \"))\n",
    "    df_tokens = pd.DataFrame()\n",
    "    df_tokens['over_tokens'] = overview_tokens\n",
    "    df_tokens['gen_tokens'] = gen_overview_tokens\n",
    "    scores = df_tokens.apply(lambda x: cosine_distance_wordembedding_method(x.gen_tokens, x.over_tokens), axis=1)\n",
    "    return scores   "
   ]
  },
  {
   "cell_type": "code",
   "execution_count": 613,
   "metadata": {},
   "outputs": [
    {
     "name": "stdout",
     "output_type": "stream",
     "text": [
      "0     [Into, her, life, comes, a, mysterious, man,, ...\n",
      "1     [The, film, focuses, on, the, stormy, relation...\n",
      "2     [Using, his, deep, knowledge, of, the, train, ...\n",
      "3     [\\r\\nW.W., only, steals, from, SOS, gas, stati...\n",
      "4     [His, recently, widowed, landlady,, Mrs, Marga...\n",
      "                            ...                        \n",
      "95    [Cam, learns, that, Nikki, is, involved, with,...\n",
      "96    [Hyeon-gu, fights, Gi-ho,, while, Yeong-jin, w...\n",
      "97    [Edward, is, dealing, with, the, consequences,...\n",
      "98    [Con, man, Michael, Rangeloff, (Michael, O'Kee...\n",
      "99    [Late, in, the, reign, of, Elizabeth, I, of, E...\n",
      "Name: gen_tokens, Length: 100, dtype: object\n",
      "0     [Secondary, characters, chime, in,, such, as, ...\n",
      "1     [The, film, focuses, on, the, stormy, relation...\n",
      "2     [The, railway, from, Tianjin, to, Nanjing, in,...\n",
      "3     [W.W., only, steals, from, SOS, gas, stations,...\n",
      "4     [His, recently, widowed, landlady,, Mrs, Marga...\n",
      "                            ...                        \n",
      "95    [Cam, (Taylor, Lautner), is, a, bike, messenge...\n",
      "96    [His, old, friend, Hyeon-gu, is, now, in, love...\n",
      "97    [The, movie, begins, at, the, murder, trial, o...\n",
      "98    [Con, man, Michael, Rangeloff, (Michael, O'Kee...\n",
      "99    [During, his, time, at, court,, he, secretly, ...\n",
      "Name: gen_tokens, Length: 100, dtype: object\n",
      "0     [Flora, 'Sissy', Goforth, (Taylor,, in, a, par...\n",
      "1     [As, the, film, begins,, Bea, tells, Al, how, ...\n",
      "2     [Railroad, worker, Ma, Yuan, (Jackie, Chan), l...\n",
      "3     [He, is, ready, to, separate, from, the, Dance...\n",
      "4     [Following, a, nightclub, altercation,, in, wh...\n",
      "                            ...                        \n",
      "95    [Cam, learns, that, Nikki, is, involved, with,...\n",
      "96    [Yeong-jin, is, a, student, who, has, become, ...\n",
      "97    [During, the, trial,, Edward, Weldon,, the, ju...\n",
      "98    [Con, man, Michael, Rangeloff, (Michael, O'Kee...\n",
      "99    [He, requests, that, she, provide, an, opportu...\n",
      "Name: gen_tokens, Length: 100, dtype: object\n",
      "0     [the, movie, mingles, respect, and, contempt, ...\n",
      "1     [film, focuses, on, the, stormy, relationship,...\n",
      "2     [in, 1941,, Japan, expands, the, occupation, o...\n",
      "3     [in, 1957,, an, easygoing, crook, meets, the, ...\n",
      "4     [a, bitter, young, coal, miner, from, the, wes...\n",
      "                            ...                        \n",
      "95    [taylor, lautner, plays, a, bike, messenger, i...\n",
      "96    [the, film, is, about, a, student, who, has, b...\n",
      "97    [the, film, is, about, a, woman, who, shot, he...\n",
      "98    [michael, o'keefe, plays, con, man, Michael, R...\n",
      "99    [don, Juan, de, Maraa, (errol, flynn), is, rep...\n",
      "Name: gen_tokens, Length: 100, dtype: object\n",
      "0     [, Flora, 'Sissy', Goforth, (Taylor), is, a, t...\n",
      "1     [, The, film, focuses, on, the, stormy, relati...\n",
      "2     [, Railroad, worker, Ma, Yuan, (Jackie, Chan),...\n",
      "3     [, In, 1957,, Burt, Reynolds, is, an, easygoin...\n",
      "4     [, Film, concerns, Frank, Machin, (Harris), a,...\n",
      "                            ...                        \n",
      "95    [, Taylor, Lautner, is, a, bike, messenger, in...\n",
      "96    [, Yeong-jin, is, a, student, who, has, become...\n",
      "97    [, The, movie, begins, at, the, murder, trial,...\n",
      "98    [, Michael, Rangeloff, (Michael, O'Keefe), is,...\n",
      "99    [, Don, Juan, de, Maraña, (Errol, Flynn), is, ...\n",
      "Name: gen_tokens, Length: 100, dtype: object\n"
     ]
    },
    {
     "name": "stderr",
     "output_type": "stream",
     "text": [
      "C:\\Users\\rotzn\\AppData\\Local\\Temp/ipykernel_18768/3407265984.py:3: SettingWithCopyWarning: \n",
      "A value is trying to be set on a copy of a slice from a DataFrame.\n",
      "Try using .loc[row_indexer,col_indexer] = value instead\n",
      "\n",
      "See the caveats in the documentation: https://pandas.pydata.org/pandas-docs/stable/user_guide/indexing.html#returning-a-view-versus-a-copy\n",
      "  df_100_scores[item] = get_cosine(df_100_all, 'Overview', item)\n"
     ]
    }
   ],
   "source": [
    "my_list = ['spacy_overview', 'lsa_overview', 'luhn_overview', 'T5_overview', 'bart_overview']\n",
    "for item in my_list:\n",
    "    df_100_scores[item] = get_cosine(df_100_all, 'Overview', item)"
   ]
  },
  {
   "cell_type": "code",
   "execution_count": 614,
   "metadata": {},
   "outputs": [
    {
     "data": {
      "text/html": [
       "<div>\n",
       "<style scoped>\n",
       "    .dataframe tbody tr th:only-of-type {\n",
       "        vertical-align: middle;\n",
       "    }\n",
       "\n",
       "    .dataframe tbody tr th {\n",
       "        vertical-align: top;\n",
       "    }\n",
       "\n",
       "    .dataframe thead th {\n",
       "        text-align: right;\n",
       "    }\n",
       "</style>\n",
       "<table border=\"1\" class=\"dataframe\">\n",
       "  <thead>\n",
       "    <tr style=\"text-align: right;\">\n",
       "      <th></th>\n",
       "      <th>Title</th>\n",
       "      <th>spacy_overview</th>\n",
       "      <th>lsa_overview</th>\n",
       "      <th>luhn_overview</th>\n",
       "      <th>T5_overview</th>\n",
       "      <th>bart_overview</th>\n",
       "    </tr>\n",
       "  </thead>\n",
       "  <tbody>\n",
       "    <tr>\n",
       "      <th>0</th>\n",
       "      <td>Boom!</td>\n",
       "      <td>0.956625</td>\n",
       "      <td>0.907491</td>\n",
       "      <td>0.953906</td>\n",
       "      <td>0.903018</td>\n",
       "      <td>0.954672</td>\n",
       "    </tr>\n",
       "    <tr>\n",
       "      <th>1</th>\n",
       "      <td>Weddings and Babies</td>\n",
       "      <td>0.899885</td>\n",
       "      <td>0.907039</td>\n",
       "      <td>0.913053</td>\n",
       "      <td>0.903635</td>\n",
       "      <td>0.905819</td>\n",
       "    </tr>\n",
       "    <tr>\n",
       "      <th>2</th>\n",
       "      <td>Railroad Tigers</td>\n",
       "      <td>0.940029</td>\n",
       "      <td>0.936788</td>\n",
       "      <td>0.957776</td>\n",
       "      <td>0.943896</td>\n",
       "      <td>0.966406</td>\n",
       "    </tr>\n",
       "    <tr>\n",
       "      <th>3</th>\n",
       "      <td>W.W. and the Dixie Dancekings</td>\n",
       "      <td>0.955427</td>\n",
       "      <td>0.948790</td>\n",
       "      <td>0.938117</td>\n",
       "      <td>0.951027</td>\n",
       "      <td>0.964297</td>\n",
       "    </tr>\n",
       "    <tr>\n",
       "      <th>4</th>\n",
       "      <td>This Sporting Life</td>\n",
       "      <td>0.955333</td>\n",
       "      <td>0.942036</td>\n",
       "      <td>0.961149</td>\n",
       "      <td>0.943838</td>\n",
       "      <td>0.939142</td>\n",
       "    </tr>\n",
       "    <tr>\n",
       "      <th>...</th>\n",
       "      <td>...</td>\n",
       "      <td>...</td>\n",
       "      <td>...</td>\n",
       "      <td>...</td>\n",
       "      <td>...</td>\n",
       "      <td>...</td>\n",
       "    </tr>\n",
       "    <tr>\n",
       "      <th>95</th>\n",
       "      <td>Tracers</td>\n",
       "      <td>0.904565</td>\n",
       "      <td>0.904662</td>\n",
       "      <td>0.907387</td>\n",
       "      <td>0.913975</td>\n",
       "      <td>0.934366</td>\n",
       "    </tr>\n",
       "    <tr>\n",
       "      <th>96</th>\n",
       "      <td>Arirang</td>\n",
       "      <td>0.855901</td>\n",
       "      <td>0.861315</td>\n",
       "      <td>0.855901</td>\n",
       "      <td>0.894324</td>\n",
       "      <td>0.882153</td>\n",
       "    </tr>\n",
       "    <tr>\n",
       "      <th>97</th>\n",
       "      <td>Midnight</td>\n",
       "      <td>0.675486</td>\n",
       "      <td>0.677797</td>\n",
       "      <td>0.659579</td>\n",
       "      <td>0.668706</td>\n",
       "      <td>0.654457</td>\n",
       "    </tr>\n",
       "    <tr>\n",
       "      <th>98</th>\n",
       "      <td>Finders Keepers</td>\n",
       "      <td>0.813926</td>\n",
       "      <td>0.813926</td>\n",
       "      <td>0.813926</td>\n",
       "      <td>0.816498</td>\n",
       "      <td>0.798579</td>\n",
       "    </tr>\n",
       "    <tr>\n",
       "      <th>99</th>\n",
       "      <td>Adventures of Don Juan</td>\n",
       "      <td>0.712357</td>\n",
       "      <td>0.716494</td>\n",
       "      <td>0.705264</td>\n",
       "      <td>0.686595</td>\n",
       "      <td>0.717149</td>\n",
       "    </tr>\n",
       "  </tbody>\n",
       "</table>\n",
       "<p>100 rows × 6 columns</p>\n",
       "</div>"
      ],
      "text/plain": [
       "                            Title  spacy_overview  lsa_overview  \\\n",
       "0                           Boom!        0.956625      0.907491   \n",
       "1             Weddings and Babies        0.899885      0.907039   \n",
       "2                 Railroad Tigers        0.940029      0.936788   \n",
       "3   W.W. and the Dixie Dancekings        0.955427      0.948790   \n",
       "4              This Sporting Life        0.955333      0.942036   \n",
       "..                            ...             ...           ...   \n",
       "95                        Tracers        0.904565      0.904662   \n",
       "96                        Arirang        0.855901      0.861315   \n",
       "97                       Midnight        0.675486      0.677797   \n",
       "98                Finders Keepers        0.813926      0.813926   \n",
       "99         Adventures of Don Juan        0.712357      0.716494   \n",
       "\n",
       "    luhn_overview  T5_overview  bart_overview  \n",
       "0        0.953906     0.903018       0.954672  \n",
       "1        0.913053     0.903635       0.905819  \n",
       "2        0.957776     0.943896       0.966406  \n",
       "3        0.938117     0.951027       0.964297  \n",
       "4        0.961149     0.943838       0.939142  \n",
       "..            ...          ...            ...  \n",
       "95       0.907387     0.913975       0.934366  \n",
       "96       0.855901     0.894324       0.882153  \n",
       "97       0.659579     0.668706       0.654457  \n",
       "98       0.813926     0.816498       0.798579  \n",
       "99       0.705264     0.686595       0.717149  \n",
       "\n",
       "[100 rows x 6 columns]"
      ]
     },
     "execution_count": 614,
     "metadata": {},
     "output_type": "execute_result"
    }
   ],
   "source": [
    "df_100_scores"
   ]
  },
  {
   "cell_type": "code",
   "execution_count": 615,
   "metadata": {},
   "outputs": [
    {
     "data": {
      "text/plain": [
       "Text(0.125, -0.16, \" We can see that the extractive methods perhaps had slightly better means but it's pretty close so not much we \\n can take from this. However, our sample size is very small. Additionally, cosine similarity is a very basic way to \\n evaluate how similar two different pieces of text are. Nowadays, ROUGE score is the prefered text summarization \\n evaluation metric. \")"
      ]
     },
     "execution_count": 615,
     "metadata": {},
     "output_type": "execute_result"
    },
    {
     "data": {
      "image/png": "[encoded data removed]",
      "text/plain": [
       "<Figure size 1152x432 with 1 Axes>"
      ]
     },
     "metadata": {},
     "output_type": "display_data"
    }
   ],
   "source": [
    "cosine_dict = {'spacy': list(df_100_scores.spacy_overview),\n",
    "              'lsa': list(df_100_scores.lsa_overview),\n",
    "              'luhn': list(df_100_scores.luhn_overview),\n",
    "              'T5': list(df_100_scores.T5_overview),\n",
    "              'bart': list(df_100_scores.bart_overview)}\n",
    "\n",
    "font_1 = {'font': 'Serif','weight':'bold','size': '16','style':'normal', 'color':'#fc0fc0'}\n",
    "ax_background_color = '#ebecf0'\n",
    "titles_font = {'font': 'Serif', 'size': '18','weight':'bold', 'color':'black'}\n",
    "fig_background_color = '#c5c6d0'\n",
    "\n",
    "fig, ax = plt.subplots(nrows=1, ncols=1, figsize=(16, 6))\n",
    "fig.suptitle('Cosine Similarity', font = 'Serif', weight='bold', color='black', size=22)\n",
    "fig.patch.set_facecolor(fig_background_color)\n",
    "\n",
    "\n",
    "ax.boxplot(cosine_dict.values(), patch_artist=True, boxprops=dict(facecolor='lightblue', color='blue'), medianprops=dict(color='red'))\n",
    "ax.set_xticklabels(cosine_dict.keys())\n",
    "ax.set_facecolor(ax_background_color)\n",
    "ax.grid()\n",
    "ax.tick_params(axis='both', which='major', labelsize=14)\n",
    "\n",
    "fig.text(0.125, 0.025, 'Summary:',\n",
    "         {'font':'Serif', 'size':18,'weight':'bold' ,'color':'black'})\n",
    "fig.text(0.125, -0.16, \" We can see that the extractive methods perhaps had slightly better means but it's pretty close so not much we \\n can take from this. However, our sample size is very small. Additionally, cosine similarity is a very basic way to \\n evaluate how similar two different pieces of text are. Nowadays, ROUGE score is the prefered text summarization \\n evaluation metric. \",\n",
    "         {'font':'Serif', 'size':16,'weight':'normal' ,'color':'black'})\n",
    "\n"
   ]
  },
  {
   "cell_type": "markdown",
   "metadata": {},
   "source": [
    "<h1 style = \"font-family: garamond; font-size: 30px; font-style: normal; letter-spcaing: 3px; background-color: #f6f5f5; color :royalblue; border-radius: 100px 100px; text-align:left \" >ROUGE Score</h1>"
   ]
  },
  {
   "cell_type": "code",
   "execution_count": 273,
   "metadata": {},
   "outputs": [
    {
     "name": "stdout",
     "output_type": "stream",
     "text": [
      "Looking in indexes: https://pypi.org/simple, https://pypi.ngc.nvidia.com\n",
      "Collecting rouge\n",
      "  Downloading rouge-1.0.1-py3-none-any.whl (13 kB)\n",
      "Requirement already satisfied: six in c:\\users\\rotzn\\anaconda3\\lib\\site-packages (from rouge) (1.16.0)\n",
      "Installing collected packages: rouge\n",
      "Successfully installed rouge-1.0.1\n"
     ]
    }
   ],
   "source": [
    "!pip install rouge"
   ]
  },
  {
   "cell_type": "code",
   "execution_count": 274,
   "metadata": {},
   "outputs": [],
   "source": [
    "from rouge import Rouge"
   ]
  },
  {
   "cell_type": "markdown",
   "metadata": {},
   "source": [
    " -  <b><i>What is ROUGE score?</i></b>\n",
    "     - ROUGE is actually a set of metrics. ROUGE is comprised of a ROUGE-N (ROUGE-1, ROUGE-2, etc.), ROUGE-L and sometimes ROUGE-S (not covered here), each of which has a recall, precision and F1 score.\n",
    " -  <b>ROUGE-N</b>: Measures the number of matching 'n-grams' between generated text and the reference text. Thus ROUGE-1 measures the matching number of unigrams (1 token/word). ROUGE-2 measures the matching number of bigrams (2 consecutive tokens/words).\n",
    "     - <b>Recall</b>: counts the number of overlapping n-grams found in both the model output and reference divided by the total number of n-grams in the reference. This ensures our model is getting all the information in the reference, but does NOT ensure our model isn't just producing a large number of words to improve the recall score.\n",
    "     - <b>Precision</b>: counts the number of overlapping n-grams found in the model output and reference, and then divides this by the model n-gram count (rather than the reference n-gram count). It essentially measures how much of the output of the machine generated summary was in fact relevant or needed. This helps us to avoid the problem with recall mentioned above. Thus, precision is crucial when you are trying to generate summaries that are concise rather than verbose. \n",
    "     - <b>F1</b>: The best of both worlds, F1 is 2 * ((precision * recall) / (precision + recall)). This gives us a nice balance between precision and recall.\n",
    " - <b>ROUGE-L</b>: measures the LCS (longest common sequence) between the model output and the reference. In other words, we count the longest sequence of tokens that is shared between them. Essentially the idea is that a longer shared sequence indicates more similarity. Recall, Precision and F1 are used just as before but instead of matched n-grams we use LCS as the numerator."
   ]
  },
  {
   "cell_type": "code",
   "execution_count": 616,
   "metadata": {},
   "outputs": [],
   "source": [
    "rouge = Rouge()\n",
    "spacy_rouge = rouge.get_scores(df_100_all['spacy_overview'], df_100_all.Overview, avg=True)\n",
    "lsa_rouge = rouge.get_scores(df_100_all['lsa_overview'], df_100_all.Overview, avg=True)\n",
    "luhn_rouge = rouge.get_scores(df_100_all['luhn_overview'], df_100_all.Overview, avg=True)\n",
    "T5_rouge = rouge.get_scores(df_100_all['T5_overview'], df_100_all.Overview, avg=True)\n",
    "bart_rouge = rouge.get_scores(df_100_all['bart_overview'], df_100_all.Overview, avg=True)"
   ]
  },
  {
   "cell_type": "code",
   "execution_count": 617,
   "metadata": {},
   "outputs": [],
   "source": [
    "rouge_1_scores = pd.DataFrame()\n",
    "rouge_2_scores = pd.DataFrame()\n",
    "rouge_L_scores = pd.DataFrame()"
   ]
  },
  {
   "cell_type": "code",
   "execution_count": 350,
   "metadata": {},
   "outputs": [],
   "source": [
    "def extract_scores(dictionary, rouge):\n",
    "    return pd.Series(data=dictionary[rouge], index=['r','p','f']).rename(index={'r': 'recall', 'p':'precision','f':'f1'})"
   ]
  },
  {
   "cell_type": "code",
   "execution_count": 618,
   "metadata": {},
   "outputs": [],
   "source": [
    "scores_list = [spacy_rouge, lsa_rouge, luhn_rouge, T5_rouge, bart_rouge]\n",
    "names = ['spacy', 'lsa', 'luhn', 'T5', 'bart']\n",
    "\n",
    "for i in range(len(scores_list)):\n",
    "    temp = extract_scores(scores_list[i], 'rouge-1', ).rename(names[i])\n",
    "    rouge_1_scores = rouge_1_scores.append(temp)\n",
    "    \n",
    "for i in range(len(scores_list)):\n",
    "    temp = extract_scores(scores_list[i], 'rouge-2', ).rename(names[i])\n",
    "    rouge_2_scores = rouge_2_scores.append(temp)\n",
    "\n",
    "for i in range(len(scores_list)):\n",
    "    temp = extract_scores(scores_list[i], 'rouge-l', ).rename(names[i])\n",
    "    rouge_L_scores = rouge_L_scores.append(temp)"
   ]
  },
  {
   "cell_type": "code",
   "execution_count": 677,
   "metadata": {},
   "outputs": [
    {
     "data": {
      "text/plain": [
       "Text(0.125, -0.055, \"We can see here that none of the models really stood out when it comes to recall. This demonstrates that most of our models \\n are retaining a simliar amount of the information from the reference, but does not ensure that the model isn't just repeating \\n words. This is why precision and f1 are better measures of summarization. With precision and f1, we can see the Bart \\n model is the clear winner. This is not surprising, as it is currently considered the best text summarizing model. The high \\n precision score and f1 score indicates that it produces an output that is concise rather than verbose.  \")"
      ]
     },
     "execution_count": 677,
     "metadata": {},
     "output_type": "execute_result"
    },
    {
     "data": {
      "image/png": "[encoded data removed]",
      "text/plain": [
       "<Figure size 1296x504 with 3 Axes>"
      ]
     },
     "metadata": {},
     "output_type": "display_data"
    }
   ],
   "source": [
    "fig, ax = plt.subplots(nrows=1, ncols=3, figsize=(18, 7))\n",
    "fig.suptitle('ROUGE SCORES', font = 'Serif', weight='bold', color='black', size=22)\n",
    "fig.patch.set_facecolor(fig_background_color)\n",
    "\n",
    "# ROUGE-1\n",
    "ax[0].set_title('ROUGE-1', titles_font)\n",
    "ax[0].set_position([0.125, 0.3, 0.22794117647058826, 0.55])\n",
    "ax[0].plot(rouge_1_scores.iloc[0], label = rouge_1_scores.iloc[0].name, linestyle='--', marker='o' )\n",
    "ax[0].plot(rouge_1_scores.iloc[1], label = rouge_1_scores.iloc[1].name, linestyle='--', marker='o' )\n",
    "ax[0].plot(rouge_1_scores.iloc[2], label = rouge_1_scores.iloc[2].name, linestyle='--', marker='o' )\n",
    "ax[0].plot(rouge_1_scores.iloc[3], label = rouge_1_scores.iloc[3].name, linestyle='--', marker='D' )\n",
    "ax[0].plot(rouge_1_scores.iloc[4], label = rouge_1_scores.iloc[4].name, linestyle='--', marker='D' )\n",
    "ax[0].set_facecolor(ax_background_color)\n",
    "ax[0].tick_params(axis='both', which='major', labelsize=14)\n",
    "ax[0].legend()\n",
    "\n",
    "# ROUGE-2\n",
    "ax[1].set_title('ROUGE-2', titles_font)\n",
    "ax[1].set_position([0.3985294117647059, 0.3, 0.2279411764705882, 0.55])\n",
    "ax[1].plot(rouge_2_scores.iloc[0], label = rouge_2_scores.iloc[0].name, linestyle='--', marker='o' )\n",
    "ax[1].plot(rouge_2_scores.iloc[1], label = rouge_2_scores.iloc[1].name, linestyle='--', marker='o' )\n",
    "ax[1].plot(rouge_2_scores.iloc[2], label = rouge_2_scores.iloc[2].name, linestyle='--', marker='o' )\n",
    "ax[1].plot(rouge_2_scores.iloc[3], label = rouge_2_scores.iloc[3].name, linestyle='--', marker='D' )\n",
    "ax[1].plot(rouge_2_scores.iloc[4], label = rouge_2_scores.iloc[4].name, linestyle='--', marker='D' )\n",
    "ax[1].set_facecolor(ax_background_color)\n",
    "ax[1].tick_params(axis='both', which='major', labelsize=14)\n",
    "ax[1].legend()\n",
    "\n",
    "# ROUGE-L\n",
    "ax[2].set_title('ROUGE-L', titles_font)\n",
    "ax[2].set_position([0.6720588235294118, 0.3, 0.2279411764705883, 0.55])\n",
    "ax[2].plot(rouge_L_scores.iloc[0], label = rouge_L_scores.iloc[0].name, linestyle='--', marker='o' )\n",
    "ax[2].plot(rouge_L_scores.iloc[1], label = rouge_L_scores.iloc[1].name, linestyle='--', marker='o' )\n",
    "ax[2].plot(rouge_L_scores.iloc[2], label = rouge_L_scores.iloc[2].name, linestyle='--', marker='o' )\n",
    "ax[2].plot(rouge_L_scores.iloc[3], label = rouge_L_scores.iloc[3].name, linestyle='--', marker='D' )\n",
    "ax[2].plot(rouge_L_scores.iloc[4], label = rouge_L_scores.iloc[4].name, linestyle='--', marker='D' )\n",
    "ax[2].set_facecolor(ax_background_color)\n",
    "ax[2].tick_params(axis='both', which='major', labelsize=14)\n",
    "ax[2].legend()\n",
    "\n",
    "\n",
    "fig.text(0.125, 0.15, 'Summary:',\n",
    "         {'font':'Serif', 'size':18,'weight':'bold' ,'color':'black'})\n",
    "fig.text(0.125, -0.055, \"We can see here that none of the models really stood out when it comes to recall. This demonstrates that most of our models \\n are retaining a simliar amount of the information from the reference, but does not ensure that the model isn't just repeating \\n words. This is why precision and f1 are better measures of summarization. With precision and f1, we can see the Bart \\n model is the clear winner. This is not surprising, as it is currently considered the best text summarizing model. The high \\n precision score and f1 score indicates that it produces an output that is concise rather than verbose.  \",\n",
    "         {'font':'Serif', 'size':16,'weight':'normal' ,'color':'black'})"
   ]
  },
  {
   "cell_type": "markdown",
   "metadata": {},
   "source": [
    "<a id = '6'></a>\n",
    "<h1 style = \"font-family: garamond; font-size: 45px; font-style: normal; letter-spcaing: 3px; background-color: #f6f5f5; color :royalblue; border-radius: 100px 100px; text-align:center \" >Summary</h1>"
   ]
  },
  {
   "cell_type": "markdown",
   "metadata": {},
   "source": [
    "<p style=\"font-family:Georgia; font-size:18px\">As we can see, the extractive approaches do similarly to the abstractive approaches with cosine similarity. This is likely because the extractive approach literally lifts full sentences from the original text. With the ROUGE scores, the clear winner is the Bart model. It has by far the highest precision and f1 scores for all three ROUGE scores. Spacy does notably well with recall, but poorly in precision and f1.</p>\n",
    "<p style=\"font-family:Georgia; font-size:18px\"> However, the real test is the human subjective test. With the extractive approaches, it is pretty hit or miss if the generated summary is actually able to capture the essence of the original plot and because they use fully lifted sentences, most of the sentences of the generated summaries do not flow into one another naturally. They all seem out of place. This is where the abstractive methods really shine. They are not perfect, but they actually do really well to capture the essence of the plot in a concise manner where sentences flow naturally. Again, this is subjective, but almost anyone would agree the abstractive methods are the clear winners. It is perhaps hard to choose between T5 and Bart by comparing summaries alone, but along with the objective scores, it seems Bart is the clear winner here.</p>"
   ]
  }
 ],
 "metadata": {
  "kernelspec": {
   "display_name": "Python 3 (ipykernel)",
   "language": "python",
   "name": "python3"
  },
  "language_info": {
   "codemirror_mode": {
    "name": "ipython",
    "version": 3
   },
   "file_extension": ".py",
   "mimetype": "text/x-python",
   "name": "python",
   "nbconvert_exporter": "python",
   "pygments_lexer": "ipython3",
   "version": "3.9.7"
  }
 },
 "nbformat": 4,
 "nbformat_minor": 4
}
