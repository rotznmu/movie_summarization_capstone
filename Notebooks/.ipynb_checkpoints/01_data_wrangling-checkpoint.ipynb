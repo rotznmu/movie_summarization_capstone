{
 "cells": [
  {
   "cell_type": "markdown",
   "metadata": {},
   "source": [
    "<h1 style = \"font-family: garamond; font-size: 50px; font-style: normal; letter-spcaing: 3px; background-color: #f6f5f5; color :royalblue; border-radius: 100px 100px; text-align:center \" >Movie Plot Summarizer</h1>\n",
    "<h1 style = \"font-family: garamond; font-size: 30px; font-style: normal; letter-spcaing: 3px; background-color: #f6f5f5; color :royalblue; border-radius: 100px 100px; text-align:center \" >Wrangling</h1>"
   ]
  },
  {
   "cell_type": "markdown",
   "metadata": {},
   "source": [
    "<h1 style = \"font-family: garamond; font-size: 45px; font-style: normal; letter-spacing: 3px; background-color: #f6f5f5; color :royalblue; border-radius: 100px 100px; text-align:center \" >Table of Contents</h1>\n",
    "\n",
    "\n",
    "* [1. Introduction](#1)\n",
    "    * [1.1 Problem Statement](#1.1)\n",
    "    * [1.2 Questions we want to answer](#1.2)\n",
    "    * [1.3 Libraries](#1.3)\n",
    "* [2. Data Wrangling](#2)\n",
    "    * [2.1 Data Loading](#2.1)\n",
    "    * [2.2 Data Cleaning and Merging](#2.2)\n",
    "* [3. Summary](#3)"
   ]
  },
  {
   "cell_type": "markdown",
   "metadata": {},
   "source": [
    "<a id = '1'></a>\n",
    "<h1 style = \"font-family: garamond; font-size: 45px; font-style: normal; letter-spcaing: 3px; background-color: #f6f5f5; color :royalblue; border-radius: 100px 100px; text-align:center \" >Introduction</h1>"
   ]
  },
  {
   "cell_type": "markdown",
   "metadata": {},
   "source": [
    "Over the past few years Natural Language Processing (NLP) abilities and applications have seen a lot of growth, and text summarization is a big part of that. Text summarization is generating intelligent, accurate and coherent summaries for long pieces of text. There are two fundamental approaches to text summarization: extractive and abstractive. The extractive approach takes exact words, phrases and sentences from the original text to create a summary. The abstractive approach learns the internal representation of the text to generate new sentences for the summary. "
   ]
  },
  {
   "cell_type": "markdown",
   "metadata": {},
   "source": [
    "<a id = '1.1'></a>\n",
    "<h3 style = \"font-family:garamond; font-size:35px; background-color: white; color : royalblue; border-radius: 100px 100px; text-align:left\">Problem Statement</h3>"
   ]
  },
  {
   "cell_type": "markdown",
   "metadata": {},
   "source": [
    "To determine which approach gives a better summary, abstractive or extractive. One objective measure we will use to compare these approaches is cosine similarity scores between the generated summary and the actual summary. Another is their rouge score. Unfortunately, these do not tell us what is most important, which is how coherent and accurate the generated summaries are. At this point humans are simply better at evaluating summaries. Thus, we will need to use our subjective opinions on the accuracy and coherence of the text produced. "
   ]
  },
  {
   "cell_type": "markdown",
   "metadata": {},
   "source": [
    "<a id = '1.2'></a>\n",
    "<h3 style = \"font-family:garamond; font-size:35px; background-color: white; color : royalblue; border-radius: 100px 100px; text-align:left\">Questions/Problems We Want to Explore</h3>"
   ]
  },
  {
   "cell_type": "markdown",
   "metadata": {},
   "source": [
    "1. Which approach produces better objective measures?\n",
    "2. Which approach seems subjectively better?"
   ]
  },
  {
   "cell_type": "markdown",
   "metadata": {},
   "source": [
    "<a id = '1.3'></a>\n",
    "<h3 style = \"font-family:garamond; font-size:35px; background-color: white; color : royalblue; border-radius: 100px 100px; text-align:left\">Importing Libraries</h3>"
   ]
  },
  {
   "cell_type": "code",
   "execution_count": 1,
   "metadata": {},
   "outputs": [],
   "source": [
    "import numpy as np\n",
    "import pandas as pd\n",
    "from matplotlib import pyplot as plt\n",
    "import seaborn as sns\n",
    "import re\n",
    "import ast\n",
    "import statistics"
   ]
  },
  {
   "cell_type": "markdown",
   "metadata": {},
   "source": [
    "<a id = '2'></a>\n",
    "<h1 style = \"font-family: garamond; font-size: 45px; font-style: normal; letter-spcaing: 3px; background-color: #f6f5f5; color :royalblue; border-radius: 100px 100px; text-align:center \" >Data Wrangling</h1>"
   ]
  },
  {
   "cell_type": "markdown",
   "metadata": {},
   "source": [
    "<a id = '2.1'></a>\n",
    "<h3 style = \"font-family:garamond; font-size:35px; background-color: white; color : royalblue; border-radius: 100px 100px; text-align:left\">Loading the Data</h3>"
   ]
  },
  {
   "cell_type": "code",
   "execution_count": 2,
   "metadata": {},
   "outputs": [
    {
     "name": "stderr",
     "output_type": "stream",
     "text": [
      "C:\\Users\\rotzn\\anaconda3\\lib\\site-packages\\IPython\\core\\interactiveshell.py:3146: DtypeWarning: Columns (10) have mixed types.Specify dtype option on import or set low_memory=False.\n",
      "  has_raised = await self.run_ast_nodes(code_ast.body, cell_name,\n"
     ]
    }
   ],
   "source": [
    "movie_data1 = pd.read_csv('../raw_data/wiki_movie_plots_deduped.csv')\n",
    "movie_data2 = pd.read_csv('../raw_data/movies_metadata.csv')"
   ]
  },
  {
   "cell_type": "markdown",
   "metadata": {},
   "source": [
    "<h3 style = \"font-family:garamond; font-size:25px; background-color: white; color : royalblue; border-radius: 100px 100px; text-align:left\">Data Definition and Understanding the Data</h3>"
   ]
  },
  {
   "cell_type": "code",
   "execution_count": 3,
   "metadata": {},
   "outputs": [
    {
     "data": {
      "text/html": [
       "<div>\n",
       "<style scoped>\n",
       "    .dataframe tbody tr th:only-of-type {\n",
       "        vertical-align: middle;\n",
       "    }\n",
       "\n",
       "    .dataframe tbody tr th {\n",
       "        vertical-align: top;\n",
       "    }\n",
       "\n",
       "    .dataframe thead th {\n",
       "        text-align: right;\n",
       "    }\n",
       "</style>\n",
       "<table border=\"1\" class=\"dataframe\">\n",
       "  <thead>\n",
       "    <tr style=\"text-align: right;\">\n",
       "      <th></th>\n",
       "      <th>Release Year</th>\n",
       "      <th>Title</th>\n",
       "      <th>Origin/Ethnicity</th>\n",
       "      <th>Director</th>\n",
       "      <th>Cast</th>\n",
       "      <th>Genre</th>\n",
       "      <th>Wiki Page</th>\n",
       "      <th>Plot</th>\n",
       "    </tr>\n",
       "  </thead>\n",
       "  <tbody>\n",
       "    <tr>\n",
       "      <th>0</th>\n",
       "      <td>1901</td>\n",
       "      <td>Kansas Saloon Smashers</td>\n",
       "      <td>American</td>\n",
       "      <td>Unknown</td>\n",
       "      <td>NaN</td>\n",
       "      <td>unknown</td>\n",
       "      <td>https://en.wikipedia.org/wiki/Kansas_Saloon_Sm...</td>\n",
       "      <td>A bartender is working at a saloon, serving dr...</td>\n",
       "    </tr>\n",
       "    <tr>\n",
       "      <th>1</th>\n",
       "      <td>1901</td>\n",
       "      <td>Love by the Light of the Moon</td>\n",
       "      <td>American</td>\n",
       "      <td>Unknown</td>\n",
       "      <td>NaN</td>\n",
       "      <td>unknown</td>\n",
       "      <td>https://en.wikipedia.org/wiki/Love_by_the_Ligh...</td>\n",
       "      <td>The moon, painted with a smiling face hangs ov...</td>\n",
       "    </tr>\n",
       "    <tr>\n",
       "      <th>2</th>\n",
       "      <td>1901</td>\n",
       "      <td>The Martyred Presidents</td>\n",
       "      <td>American</td>\n",
       "      <td>Unknown</td>\n",
       "      <td>NaN</td>\n",
       "      <td>unknown</td>\n",
       "      <td>https://en.wikipedia.org/wiki/The_Martyred_Pre...</td>\n",
       "      <td>The film, just over a minute long, is composed...</td>\n",
       "    </tr>\n",
       "    <tr>\n",
       "      <th>3</th>\n",
       "      <td>1901</td>\n",
       "      <td>Terrible Teddy, the Grizzly King</td>\n",
       "      <td>American</td>\n",
       "      <td>Unknown</td>\n",
       "      <td>NaN</td>\n",
       "      <td>unknown</td>\n",
       "      <td>https://en.wikipedia.org/wiki/Terrible_Teddy,_...</td>\n",
       "      <td>Lasting just 61 seconds and consisting of two ...</td>\n",
       "    </tr>\n",
       "    <tr>\n",
       "      <th>4</th>\n",
       "      <td>1902</td>\n",
       "      <td>Jack and the Beanstalk</td>\n",
       "      <td>American</td>\n",
       "      <td>George S. Fleming, Edwin S. Porter</td>\n",
       "      <td>NaN</td>\n",
       "      <td>unknown</td>\n",
       "      <td>https://en.wikipedia.org/wiki/Jack_and_the_Bea...</td>\n",
       "      <td>The earliest known adaptation of the classic f...</td>\n",
       "    </tr>\n",
       "  </tbody>\n",
       "</table>\n",
       "</div>"
      ],
      "text/plain": [
       "   Release Year                             Title Origin/Ethnicity  \\\n",
       "0          1901            Kansas Saloon Smashers         American   \n",
       "1          1901     Love by the Light of the Moon         American   \n",
       "2          1901           The Martyred Presidents         American   \n",
       "3          1901  Terrible Teddy, the Grizzly King         American   \n",
       "4          1902            Jack and the Beanstalk         American   \n",
       "\n",
       "                             Director Cast    Genre  \\\n",
       "0                             Unknown  NaN  unknown   \n",
       "1                             Unknown  NaN  unknown   \n",
       "2                             Unknown  NaN  unknown   \n",
       "3                             Unknown  NaN  unknown   \n",
       "4  George S. Fleming, Edwin S. Porter  NaN  unknown   \n",
       "\n",
       "                                           Wiki Page  \\\n",
       "0  https://en.wikipedia.org/wiki/Kansas_Saloon_Sm...   \n",
       "1  https://en.wikipedia.org/wiki/Love_by_the_Ligh...   \n",
       "2  https://en.wikipedia.org/wiki/The_Martyred_Pre...   \n",
       "3  https://en.wikipedia.org/wiki/Terrible_Teddy,_...   \n",
       "4  https://en.wikipedia.org/wiki/Jack_and_the_Bea...   \n",
       "\n",
       "                                                Plot  \n",
       "0  A bartender is working at a saloon, serving dr...  \n",
       "1  The moon, painted with a smiling face hangs ov...  \n",
       "2  The film, just over a minute long, is composed...  \n",
       "3  Lasting just 61 seconds and consisting of two ...  \n",
       "4  The earliest known adaptation of the classic f...  "
      ]
     },
     "execution_count": 3,
     "metadata": {},
     "output_type": "execute_result"
    }
   ],
   "source": [
    "movie_data1.head()"
   ]
  },
  {
   "cell_type": "code",
   "execution_count": 4,
   "metadata": {},
   "outputs": [
    {
     "data": {
      "text/html": [
       "<div>\n",
       "<style scoped>\n",
       "    .dataframe tbody tr th:only-of-type {\n",
       "        vertical-align: middle;\n",
       "    }\n",
       "\n",
       "    .dataframe tbody tr th {\n",
       "        vertical-align: top;\n",
       "    }\n",
       "\n",
       "    .dataframe thead th {\n",
       "        text-align: right;\n",
       "    }\n",
       "</style>\n",
       "<table border=\"1\" class=\"dataframe\">\n",
       "  <thead>\n",
       "    <tr style=\"text-align: right;\">\n",
       "      <th></th>\n",
       "      <th>adult</th>\n",
       "      <th>belongs_to_collection</th>\n",
       "      <th>budget</th>\n",
       "      <th>genres</th>\n",
       "      <th>homepage</th>\n",
       "      <th>id</th>\n",
       "      <th>imdb_id</th>\n",
       "      <th>original_language</th>\n",
       "      <th>original_title</th>\n",
       "      <th>overview</th>\n",
       "      <th>...</th>\n",
       "      <th>release_date</th>\n",
       "      <th>revenue</th>\n",
       "      <th>runtime</th>\n",
       "      <th>spoken_languages</th>\n",
       "      <th>status</th>\n",
       "      <th>tagline</th>\n",
       "      <th>title</th>\n",
       "      <th>video</th>\n",
       "      <th>vote_average</th>\n",
       "      <th>vote_count</th>\n",
       "    </tr>\n",
       "  </thead>\n",
       "  <tbody>\n",
       "    <tr>\n",
       "      <th>0</th>\n",
       "      <td>False</td>\n",
       "      <td>{'id': 10194, 'name': 'Toy Story Collection', ...</td>\n",
       "      <td>30000000</td>\n",
       "      <td>[{'id': 16, 'name': 'Animation'}, {'id': 35, '...</td>\n",
       "      <td>http://toystory.disney.com/toy-story</td>\n",
       "      <td>862</td>\n",
       "      <td>tt0114709</td>\n",
       "      <td>en</td>\n",
       "      <td>Toy Story</td>\n",
       "      <td>Led by Woody, Andy's toys live happily in his ...</td>\n",
       "      <td>...</td>\n",
       "      <td>1995-10-30</td>\n",
       "      <td>373554033.0</td>\n",
       "      <td>81.0</td>\n",
       "      <td>[{'iso_639_1': 'en', 'name': 'English'}]</td>\n",
       "      <td>Released</td>\n",
       "      <td>NaN</td>\n",
       "      <td>Toy Story</td>\n",
       "      <td>False</td>\n",
       "      <td>7.7</td>\n",
       "      <td>5415.0</td>\n",
       "    </tr>\n",
       "    <tr>\n",
       "      <th>1</th>\n",
       "      <td>False</td>\n",
       "      <td>NaN</td>\n",
       "      <td>65000000</td>\n",
       "      <td>[{'id': 12, 'name': 'Adventure'}, {'id': 14, '...</td>\n",
       "      <td>NaN</td>\n",
       "      <td>8844</td>\n",
       "      <td>tt0113497</td>\n",
       "      <td>en</td>\n",
       "      <td>Jumanji</td>\n",
       "      <td>When siblings Judy and Peter discover an encha...</td>\n",
       "      <td>...</td>\n",
       "      <td>1995-12-15</td>\n",
       "      <td>262797249.0</td>\n",
       "      <td>104.0</td>\n",
       "      <td>[{'iso_639_1': 'en', 'name': 'English'}, {'iso...</td>\n",
       "      <td>Released</td>\n",
       "      <td>Roll the dice and unleash the excitement!</td>\n",
       "      <td>Jumanji</td>\n",
       "      <td>False</td>\n",
       "      <td>6.9</td>\n",
       "      <td>2413.0</td>\n",
       "    </tr>\n",
       "    <tr>\n",
       "      <th>2</th>\n",
       "      <td>False</td>\n",
       "      <td>{'id': 119050, 'name': 'Grumpy Old Men Collect...</td>\n",
       "      <td>0</td>\n",
       "      <td>[{'id': 10749, 'name': 'Romance'}, {'id': 35, ...</td>\n",
       "      <td>NaN</td>\n",
       "      <td>15602</td>\n",
       "      <td>tt0113228</td>\n",
       "      <td>en</td>\n",
       "      <td>Grumpier Old Men</td>\n",
       "      <td>A family wedding reignites the ancient feud be...</td>\n",
       "      <td>...</td>\n",
       "      <td>1995-12-22</td>\n",
       "      <td>0.0</td>\n",
       "      <td>101.0</td>\n",
       "      <td>[{'iso_639_1': 'en', 'name': 'English'}]</td>\n",
       "      <td>Released</td>\n",
       "      <td>Still Yelling. Still Fighting. Still Ready for...</td>\n",
       "      <td>Grumpier Old Men</td>\n",
       "      <td>False</td>\n",
       "      <td>6.5</td>\n",
       "      <td>92.0</td>\n",
       "    </tr>\n",
       "    <tr>\n",
       "      <th>3</th>\n",
       "      <td>False</td>\n",
       "      <td>NaN</td>\n",
       "      <td>16000000</td>\n",
       "      <td>[{'id': 35, 'name': 'Comedy'}, {'id': 18, 'nam...</td>\n",
       "      <td>NaN</td>\n",
       "      <td>31357</td>\n",
       "      <td>tt0114885</td>\n",
       "      <td>en</td>\n",
       "      <td>Waiting to Exhale</td>\n",
       "      <td>Cheated on, mistreated and stepped on, the wom...</td>\n",
       "      <td>...</td>\n",
       "      <td>1995-12-22</td>\n",
       "      <td>81452156.0</td>\n",
       "      <td>127.0</td>\n",
       "      <td>[{'iso_639_1': 'en', 'name': 'English'}]</td>\n",
       "      <td>Released</td>\n",
       "      <td>Friends are the people who let you be yourself...</td>\n",
       "      <td>Waiting to Exhale</td>\n",
       "      <td>False</td>\n",
       "      <td>6.1</td>\n",
       "      <td>34.0</td>\n",
       "    </tr>\n",
       "    <tr>\n",
       "      <th>4</th>\n",
       "      <td>False</td>\n",
       "      <td>{'id': 96871, 'name': 'Father of the Bride Col...</td>\n",
       "      <td>0</td>\n",
       "      <td>[{'id': 35, 'name': 'Comedy'}]</td>\n",
       "      <td>NaN</td>\n",
       "      <td>11862</td>\n",
       "      <td>tt0113041</td>\n",
       "      <td>en</td>\n",
       "      <td>Father of the Bride Part II</td>\n",
       "      <td>Just when George Banks has recovered from his ...</td>\n",
       "      <td>...</td>\n",
       "      <td>1995-02-10</td>\n",
       "      <td>76578911.0</td>\n",
       "      <td>106.0</td>\n",
       "      <td>[{'iso_639_1': 'en', 'name': 'English'}]</td>\n",
       "      <td>Released</td>\n",
       "      <td>Just When His World Is Back To Normal... He's ...</td>\n",
       "      <td>Father of the Bride Part II</td>\n",
       "      <td>False</td>\n",
       "      <td>5.7</td>\n",
       "      <td>173.0</td>\n",
       "    </tr>\n",
       "  </tbody>\n",
       "</table>\n",
       "<p>5 rows × 24 columns</p>\n",
       "</div>"
      ],
      "text/plain": [
       "   adult                              belongs_to_collection    budget  \\\n",
       "0  False  {'id': 10194, 'name': 'Toy Story Collection', ...  30000000   \n",
       "1  False                                                NaN  65000000   \n",
       "2  False  {'id': 119050, 'name': 'Grumpy Old Men Collect...         0   \n",
       "3  False                                                NaN  16000000   \n",
       "4  False  {'id': 96871, 'name': 'Father of the Bride Col...         0   \n",
       "\n",
       "                                              genres  \\\n",
       "0  [{'id': 16, 'name': 'Animation'}, {'id': 35, '...   \n",
       "1  [{'id': 12, 'name': 'Adventure'}, {'id': 14, '...   \n",
       "2  [{'id': 10749, 'name': 'Romance'}, {'id': 35, ...   \n",
       "3  [{'id': 35, 'name': 'Comedy'}, {'id': 18, 'nam...   \n",
       "4                     [{'id': 35, 'name': 'Comedy'}]   \n",
       "\n",
       "                               homepage     id    imdb_id original_language  \\\n",
       "0  http://toystory.disney.com/toy-story    862  tt0114709                en   \n",
       "1                                   NaN   8844  tt0113497                en   \n",
       "2                                   NaN  15602  tt0113228                en   \n",
       "3                                   NaN  31357  tt0114885                en   \n",
       "4                                   NaN  11862  tt0113041                en   \n",
       "\n",
       "                original_title  \\\n",
       "0                    Toy Story   \n",
       "1                      Jumanji   \n",
       "2             Grumpier Old Men   \n",
       "3            Waiting to Exhale   \n",
       "4  Father of the Bride Part II   \n",
       "\n",
       "                                            overview  ... release_date  \\\n",
       "0  Led by Woody, Andy's toys live happily in his ...  ...   1995-10-30   \n",
       "1  When siblings Judy and Peter discover an encha...  ...   1995-12-15   \n",
       "2  A family wedding reignites the ancient feud be...  ...   1995-12-22   \n",
       "3  Cheated on, mistreated and stepped on, the wom...  ...   1995-12-22   \n",
       "4  Just when George Banks has recovered from his ...  ...   1995-02-10   \n",
       "\n",
       "       revenue runtime                                   spoken_languages  \\\n",
       "0  373554033.0    81.0           [{'iso_639_1': 'en', 'name': 'English'}]   \n",
       "1  262797249.0   104.0  [{'iso_639_1': 'en', 'name': 'English'}, {'iso...   \n",
       "2          0.0   101.0           [{'iso_639_1': 'en', 'name': 'English'}]   \n",
       "3   81452156.0   127.0           [{'iso_639_1': 'en', 'name': 'English'}]   \n",
       "4   76578911.0   106.0           [{'iso_639_1': 'en', 'name': 'English'}]   \n",
       "\n",
       "     status                                            tagline  \\\n",
       "0  Released                                                NaN   \n",
       "1  Released          Roll the dice and unleash the excitement!   \n",
       "2  Released  Still Yelling. Still Fighting. Still Ready for...   \n",
       "3  Released  Friends are the people who let you be yourself...   \n",
       "4  Released  Just When His World Is Back To Normal... He's ...   \n",
       "\n",
       "                         title  video vote_average vote_count  \n",
       "0                    Toy Story  False          7.7     5415.0  \n",
       "1                      Jumanji  False          6.9     2413.0  \n",
       "2             Grumpier Old Men  False          6.5       92.0  \n",
       "3            Waiting to Exhale  False          6.1       34.0  \n",
       "4  Father of the Bride Part II  False          5.7      173.0  \n",
       "\n",
       "[5 rows x 24 columns]"
      ]
     },
     "execution_count": 4,
     "metadata": {},
     "output_type": "execute_result"
    }
   ],
   "source": [
    "movie_data2.head()"
   ]
  },
  {
   "cell_type": "code",
   "execution_count": 5,
   "metadata": {},
   "outputs": [
    {
     "data": {
      "text/plain": [
       "Release Year         int64\n",
       "Title               object\n",
       "Origin/Ethnicity    object\n",
       "Director            object\n",
       "Cast                object\n",
       "Genre               object\n",
       "Wiki Page           object\n",
       "Plot                object\n",
       "dtype: object"
      ]
     },
     "execution_count": 5,
     "metadata": {},
     "output_type": "execute_result"
    }
   ],
   "source": [
    "movie_data1.dtypes"
   ]
  },
  {
   "cell_type": "code",
   "execution_count": 6,
   "metadata": {},
   "outputs": [
    {
     "data": {
      "text/plain": [
       "adult                     object\n",
       "belongs_to_collection     object\n",
       "budget                    object\n",
       "genres                    object\n",
       "homepage                  object\n",
       "id                        object\n",
       "imdb_id                   object\n",
       "original_language         object\n",
       "original_title            object\n",
       "overview                  object\n",
       "popularity                object\n",
       "poster_path               object\n",
       "production_companies      object\n",
       "production_countries      object\n",
       "release_date              object\n",
       "revenue                  float64\n",
       "runtime                  float64\n",
       "spoken_languages          object\n",
       "status                    object\n",
       "tagline                   object\n",
       "title                     object\n",
       "video                     object\n",
       "vote_average             float64\n",
       "vote_count               float64\n",
       "dtype: object"
      ]
     },
     "execution_count": 6,
     "metadata": {},
     "output_type": "execute_result"
    }
   ],
   "source": [
    "movie_data2.dtypes"
   ]
  },
  {
   "cell_type": "markdown",
   "metadata": {},
   "source": [
    "<a id = '2.2'></a>\n",
    "<h3 style = \"font-family:garamond; font-size:35px; background-color: white; color : royalblue; border-radius: 100px 100px; text-align:left\">Data Cleaning and Merging</h3>"
   ]
  },
  {
   "cell_type": "markdown",
   "metadata": {},
   "source": [
    "<h3 style = \"font-family:garamond; font-size:20px; background-color: white; color : royalblue; border-radius: 100px 100px; text-align:left\">Unpack the genres column of movie_data2</h3>"
   ]
  },
  {
   "cell_type": "code",
   "execution_count": 7,
   "metadata": {},
   "outputs": [
    {
     "data": {
      "text/plain": [
       "[{'id': 16, 'name': 'Animation'},\n",
       " {'id': 35, 'name': 'Comedy'},\n",
       " {'id': 10751, 'name': 'Family'}]"
      ]
     },
     "execution_count": 7,
     "metadata": {},
     "output_type": "execute_result"
    }
   ],
   "source": [
    "ast.literal_eval(movie_data2['genres'][0])"
   ]
  },
  {
   "cell_type": "code",
   "execution_count": 8,
   "metadata": {},
   "outputs": [],
   "source": [
    "movie_data2 = movie_data2.drop(['adult', 'belongs_to_collection', 'original_language', 'tagline', 'budget', 'homepage','id','imdb_id', 'original_title', 'poster_path', 'production_companies', 'production_countries', 'revenue','runtime','spoken_languages', 'status','video'], axis=1)\n",
    "movie_data2 = movie_data2.rename(columns={'title':'Title'})"
   ]
  },
  {
   "cell_type": "code",
   "execution_count": 9,
   "metadata": {},
   "outputs": [
    {
     "name": "stderr",
     "output_type": "stream",
     "text": [
      "<ipython-input-9-9fa48df69df7>:8: SettingWithCopyWarning: \n",
      "A value is trying to be set on a copy of a slice from a DataFrame\n",
      "\n",
      "See the caveats in the documentation: https://pandas.pydata.org/pandas-docs/stable/user_guide/indexing.html#returning-a-view-versus-a-copy\n",
      "  movie_data2['genres'][x] = genre_string\n"
     ]
    }
   ],
   "source": [
    "for x in range(len(movie_data2)):\n",
    "    if ast.literal_eval(movie_data2['genres'][x]):\n",
    "        genre_string = ''\n",
    "        for item in ast.literal_eval(movie_data2['genres'][x]):\n",
    "            genre_string = genre_string + item['name'] + ' '\n",
    "        if genre_string[-1] == ' ':\n",
    "            genre_string = genre_string[:-1]\n",
    "        movie_data2['genres'][x] = genre_string"
   ]
  },
  {
   "cell_type": "markdown",
   "metadata": {},
   "source": [
    "<h3 style = \"font-family:garamond; font-size:20px; background-color: white; color : royalblue; border-radius: 100px 100px; text-align:left\">Change release date to year only</h3>"
   ]
  },
  {
   "cell_type": "code",
   "execution_count": 10,
   "metadata": {},
   "outputs": [],
   "source": [
    "movie_data2 = movie_data2.rename(columns={'genres':'Genre', 'overview':'Overview', 'popularity':'Popularity', 'release_date':'Release_Date', 'vote_average':'Vote_Average', 'vote_count':'Vote_Count'})"
   ]
  },
  {
   "cell_type": "code",
   "execution_count": 11,
   "metadata": {},
   "outputs": [],
   "source": [
    "movie_data1['Release Year'] = pd.to_datetime(movie_data1['Release Year'], format= '%Y', errors='coerce').dt.strftime('%Y')\n",
    "movie_data2['Release_Date'] = pd.to_datetime(movie_data2['Release_Date'], errors='coerce').dt.strftime('%Y')\n",
    "movie_data2 = movie_data2.rename(columns={'Release_Date':'Release Year'})"
   ]
  },
  {
   "cell_type": "markdown",
   "metadata": {},
   "source": [
    "<h3 style = \"font-family:garamond; font-size:20px; background-color: white; color : royalblue; border-radius: 100px 100px; text-align:left\">Merge the two dataframes</h3>"
   ]
  },
  {
   "cell_type": "code",
   "execution_count": 12,
   "metadata": {},
   "outputs": [
    {
     "data": {
      "text/plain": [
       "(Index(['Release Year', 'Title', 'Origin/Ethnicity', 'Director', 'Cast',\n",
       "        'Genre', 'Wiki Page', 'Plot'],\n",
       "       dtype='object'),\n",
       " Index(['Genre', 'Overview', 'Popularity', 'Release Year', 'Title',\n",
       "        'Vote_Average', 'Vote_Count'],\n",
       "       dtype='object'))"
      ]
     },
     "execution_count": 12,
     "metadata": {},
     "output_type": "execute_result"
    }
   ],
   "source": [
    "movie_data1.columns, movie_data2.columns"
   ]
  },
  {
   "cell_type": "code",
   "execution_count": 13,
   "metadata": {},
   "outputs": [],
   "source": [
    "df = pd.merge(movie_data1, movie_data2, how='outer', on='Title', suffixes=('_wiki', '_other'))"
   ]
  },
  {
   "cell_type": "code",
   "execution_count": 14,
   "metadata": {},
   "outputs": [
    {
     "data": {
      "text/html": [
       "<div>\n",
       "<style scoped>\n",
       "    .dataframe tbody tr th:only-of-type {\n",
       "        vertical-align: middle;\n",
       "    }\n",
       "\n",
       "    .dataframe tbody tr th {\n",
       "        vertical-align: top;\n",
       "    }\n",
       "\n",
       "    .dataframe thead th {\n",
       "        text-align: right;\n",
       "    }\n",
       "</style>\n",
       "<table border=\"1\" class=\"dataframe\">\n",
       "  <thead>\n",
       "    <tr style=\"text-align: right;\">\n",
       "      <th></th>\n",
       "      <th>Release Year_wiki</th>\n",
       "      <th>Title</th>\n",
       "      <th>Origin/Ethnicity</th>\n",
       "      <th>Director</th>\n",
       "      <th>Cast</th>\n",
       "      <th>Genre_wiki</th>\n",
       "      <th>Wiki Page</th>\n",
       "      <th>Plot</th>\n",
       "      <th>Genre_other</th>\n",
       "      <th>Overview</th>\n",
       "      <th>Popularity</th>\n",
       "      <th>Release Year_other</th>\n",
       "      <th>Vote_Average</th>\n",
       "      <th>Vote_Count</th>\n",
       "    </tr>\n",
       "  </thead>\n",
       "  <tbody>\n",
       "    <tr>\n",
       "      <th>0</th>\n",
       "      <td>1901</td>\n",
       "      <td>Kansas Saloon Smashers</td>\n",
       "      <td>American</td>\n",
       "      <td>Unknown</td>\n",
       "      <td>NaN</td>\n",
       "      <td>unknown</td>\n",
       "      <td>https://en.wikipedia.org/wiki/Kansas_Saloon_Sm...</td>\n",
       "      <td>A bartender is working at a saloon, serving dr...</td>\n",
       "      <td>NaN</td>\n",
       "      <td>NaN</td>\n",
       "      <td>NaN</td>\n",
       "      <td>NaN</td>\n",
       "      <td>NaN</td>\n",
       "      <td>NaN</td>\n",
       "    </tr>\n",
       "    <tr>\n",
       "      <th>1</th>\n",
       "      <td>1901</td>\n",
       "      <td>Love by the Light of the Moon</td>\n",
       "      <td>American</td>\n",
       "      <td>Unknown</td>\n",
       "      <td>NaN</td>\n",
       "      <td>unknown</td>\n",
       "      <td>https://en.wikipedia.org/wiki/Love_by_the_Ligh...</td>\n",
       "      <td>The moon, painted with a smiling face hangs ov...</td>\n",
       "      <td>NaN</td>\n",
       "      <td>NaN</td>\n",
       "      <td>NaN</td>\n",
       "      <td>NaN</td>\n",
       "      <td>NaN</td>\n",
       "      <td>NaN</td>\n",
       "    </tr>\n",
       "    <tr>\n",
       "      <th>2</th>\n",
       "      <td>1901</td>\n",
       "      <td>The Martyred Presidents</td>\n",
       "      <td>American</td>\n",
       "      <td>Unknown</td>\n",
       "      <td>NaN</td>\n",
       "      <td>unknown</td>\n",
       "      <td>https://en.wikipedia.org/wiki/The_Martyred_Pre...</td>\n",
       "      <td>The film, just over a minute long, is composed...</td>\n",
       "      <td>NaN</td>\n",
       "      <td>NaN</td>\n",
       "      <td>NaN</td>\n",
       "      <td>NaN</td>\n",
       "      <td>NaN</td>\n",
       "      <td>NaN</td>\n",
       "    </tr>\n",
       "    <tr>\n",
       "      <th>3</th>\n",
       "      <td>1901</td>\n",
       "      <td>Terrible Teddy, the Grizzly King</td>\n",
       "      <td>American</td>\n",
       "      <td>Unknown</td>\n",
       "      <td>NaN</td>\n",
       "      <td>unknown</td>\n",
       "      <td>https://en.wikipedia.org/wiki/Terrible_Teddy,_...</td>\n",
       "      <td>Lasting just 61 seconds and consisting of two ...</td>\n",
       "      <td>NaN</td>\n",
       "      <td>NaN</td>\n",
       "      <td>NaN</td>\n",
       "      <td>NaN</td>\n",
       "      <td>NaN</td>\n",
       "      <td>NaN</td>\n",
       "    </tr>\n",
       "    <tr>\n",
       "      <th>4</th>\n",
       "      <td>1902</td>\n",
       "      <td>Jack and the Beanstalk</td>\n",
       "      <td>American</td>\n",
       "      <td>George S. Fleming, Edwin S. Porter</td>\n",
       "      <td>NaN</td>\n",
       "      <td>unknown</td>\n",
       "      <td>https://en.wikipedia.org/wiki/Jack_and_the_Bea...</td>\n",
       "      <td>The earliest known adaptation of the classic f...</td>\n",
       "      <td>Comedy Family Fantasy</td>\n",
       "      <td>Abbott and Costello's version of the famous fa...</td>\n",
       "      <td>1.55627</td>\n",
       "      <td>1952</td>\n",
       "      <td>6.0</td>\n",
       "      <td>12.0</td>\n",
       "    </tr>\n",
       "  </tbody>\n",
       "</table>\n",
       "</div>"
      ],
      "text/plain": [
       "  Release Year_wiki                             Title Origin/Ethnicity  \\\n",
       "0              1901            Kansas Saloon Smashers         American   \n",
       "1              1901     Love by the Light of the Moon         American   \n",
       "2              1901           The Martyred Presidents         American   \n",
       "3              1901  Terrible Teddy, the Grizzly King         American   \n",
       "4              1902            Jack and the Beanstalk         American   \n",
       "\n",
       "                             Director Cast Genre_wiki  \\\n",
       "0                             Unknown  NaN    unknown   \n",
       "1                             Unknown  NaN    unknown   \n",
       "2                             Unknown  NaN    unknown   \n",
       "3                             Unknown  NaN    unknown   \n",
       "4  George S. Fleming, Edwin S. Porter  NaN    unknown   \n",
       "\n",
       "                                           Wiki Page  \\\n",
       "0  https://en.wikipedia.org/wiki/Kansas_Saloon_Sm...   \n",
       "1  https://en.wikipedia.org/wiki/Love_by_the_Ligh...   \n",
       "2  https://en.wikipedia.org/wiki/The_Martyred_Pre...   \n",
       "3  https://en.wikipedia.org/wiki/Terrible_Teddy,_...   \n",
       "4  https://en.wikipedia.org/wiki/Jack_and_the_Bea...   \n",
       "\n",
       "                                                Plot            Genre_other  \\\n",
       "0  A bartender is working at a saloon, serving dr...                    NaN   \n",
       "1  The moon, painted with a smiling face hangs ov...                    NaN   \n",
       "2  The film, just over a minute long, is composed...                    NaN   \n",
       "3  Lasting just 61 seconds and consisting of two ...                    NaN   \n",
       "4  The earliest known adaptation of the classic f...  Comedy Family Fantasy   \n",
       "\n",
       "                                            Overview Popularity  \\\n",
       "0                                                NaN        NaN   \n",
       "1                                                NaN        NaN   \n",
       "2                                                NaN        NaN   \n",
       "3                                                NaN        NaN   \n",
       "4  Abbott and Costello's version of the famous fa...    1.55627   \n",
       "\n",
       "  Release Year_other  Vote_Average  Vote_Count  \n",
       "0                NaN           NaN         NaN  \n",
       "1                NaN           NaN         NaN  \n",
       "2                NaN           NaN         NaN  \n",
       "3                NaN           NaN         NaN  \n",
       "4               1952           6.0        12.0  "
      ]
     },
     "execution_count": 14,
     "metadata": {},
     "output_type": "execute_result"
    }
   ],
   "source": [
    "df.head()"
   ]
  },
  {
   "cell_type": "markdown",
   "metadata": {},
   "source": [
    "<h3 style = \"font-family:garamond; font-size:20px; background-color: white; color : royalblue; border-radius: 100px 100px; text-align:left\">fill missing values in _wiki columns with _other columns and drop _other columns</h3>"
   ]
  },
  {
   "cell_type": "code",
   "execution_count": 15,
   "metadata": {},
   "outputs": [],
   "source": [
    "def fill_left_null(df, left, right):\n",
    "    '''first arg is the dataframe to run on. second arg is the column with missing values you want filled. third arg is the column you want the missing values to be filled with '''\n",
    "    for x in range(len(df)):\n",
    "        if pd.isna(df[left][x]) or df[left][x] == 'unknown':\n",
    "            if pd.isna(df[right][x]) or df[right][x] == '[]':\n",
    "                pass\n",
    "            else:\n",
    "                df[left][x] = str(df[right][x])"
   ]
  },
  {
   "cell_type": "code",
   "execution_count": 16,
   "metadata": {},
   "outputs": [
    {
     "data": {
      "text/plain": [
       "28352"
      ]
     },
     "execution_count": 16,
     "metadata": {},
     "output_type": "execute_result"
    }
   ],
   "source": [
    "df['Release Year_wiki'].isnull().sum()"
   ]
  },
  {
   "cell_type": "code",
   "execution_count": 17,
   "metadata": {},
   "outputs": [
    {
     "name": "stderr",
     "output_type": "stream",
     "text": [
      "<ipython-input-15-31a4dbe5bf8a>:8: SettingWithCopyWarning: \n",
      "A value is trying to be set on a copy of a slice from a DataFrame\n",
      "\n",
      "See the caveats in the documentation: https://pandas.pydata.org/pandas-docs/stable/user_guide/indexing.html#returning-a-view-versus-a-copy\n",
      "  df[left][x] = str(df[right][x])\n"
     ]
    }
   ],
   "source": [
    "fill_left_null(df, 'Release Year_wiki', 'Release Year_other')"
   ]
  },
  {
   "cell_type": "code",
   "execution_count": 18,
   "metadata": {},
   "outputs": [
    {
     "data": {
      "text/plain": [
       "87"
      ]
     },
     "execution_count": 18,
     "metadata": {},
     "output_type": "execute_result"
    }
   ],
   "source": [
    "df['Release Year_wiki'].isnull().sum()"
   ]
  },
  {
   "cell_type": "code",
   "execution_count": 19,
   "metadata": {},
   "outputs": [
    {
     "data": {
      "text/plain": [
       "28352"
      ]
     },
     "execution_count": 19,
     "metadata": {},
     "output_type": "execute_result"
    }
   ],
   "source": [
    "df['Genre_wiki'].isnull().sum()"
   ]
  },
  {
   "cell_type": "code",
   "execution_count": 20,
   "metadata": {},
   "outputs": [
    {
     "name": "stderr",
     "output_type": "stream",
     "text": [
      "<ipython-input-15-31a4dbe5bf8a>:8: SettingWithCopyWarning: \n",
      "A value is trying to be set on a copy of a slice from a DataFrame\n",
      "\n",
      "See the caveats in the documentation: https://pandas.pydata.org/pandas-docs/stable/user_guide/indexing.html#returning-a-view-versus-a-copy\n",
      "  df[left][x] = str(df[right][x])\n"
     ]
    }
   ],
   "source": [
    "fill_left_null(df, 'Genre_wiki', 'Genre_other')"
   ]
  },
  {
   "cell_type": "code",
   "execution_count": 21,
   "metadata": {},
   "outputs": [
    {
     "data": {
      "text/plain": [
       "2123"
      ]
     },
     "execution_count": 21,
     "metadata": {},
     "output_type": "execute_result"
    }
   ],
   "source": [
    "df['Genre_wiki'].isnull().sum()"
   ]
  },
  {
   "cell_type": "code",
   "execution_count": 22,
   "metadata": {},
   "outputs": [
    {
     "data": {
      "text/html": [
       "<div>\n",
       "<style scoped>\n",
       "    .dataframe tbody tr th:only-of-type {\n",
       "        vertical-align: middle;\n",
       "    }\n",
       "\n",
       "    .dataframe tbody tr th {\n",
       "        vertical-align: top;\n",
       "    }\n",
       "\n",
       "    .dataframe thead th {\n",
       "        text-align: right;\n",
       "    }\n",
       "</style>\n",
       "<table border=\"1\" class=\"dataframe\">\n",
       "  <thead>\n",
       "    <tr style=\"text-align: right;\">\n",
       "      <th></th>\n",
       "      <th>Release Year_wiki</th>\n",
       "      <th>Title</th>\n",
       "      <th>Origin/Ethnicity</th>\n",
       "      <th>Director</th>\n",
       "      <th>Cast</th>\n",
       "      <th>Genre_wiki</th>\n",
       "      <th>Wiki Page</th>\n",
       "      <th>Plot</th>\n",
       "      <th>Genre_other</th>\n",
       "      <th>Overview</th>\n",
       "      <th>Popularity</th>\n",
       "      <th>Release Year_other</th>\n",
       "      <th>Vote_Average</th>\n",
       "      <th>Vote_Count</th>\n",
       "    </tr>\n",
       "  </thead>\n",
       "  <tbody>\n",
       "    <tr>\n",
       "      <th>0</th>\n",
       "      <td>1901</td>\n",
       "      <td>Kansas Saloon Smashers</td>\n",
       "      <td>American</td>\n",
       "      <td>Unknown</td>\n",
       "      <td>NaN</td>\n",
       "      <td>unknown</td>\n",
       "      <td>https://en.wikipedia.org/wiki/Kansas_Saloon_Sm...</td>\n",
       "      <td>A bartender is working at a saloon, serving dr...</td>\n",
       "      <td>NaN</td>\n",
       "      <td>NaN</td>\n",
       "      <td>NaN</td>\n",
       "      <td>NaN</td>\n",
       "      <td>NaN</td>\n",
       "      <td>NaN</td>\n",
       "    </tr>\n",
       "    <tr>\n",
       "      <th>1</th>\n",
       "      <td>1901</td>\n",
       "      <td>Love by the Light of the Moon</td>\n",
       "      <td>American</td>\n",
       "      <td>Unknown</td>\n",
       "      <td>NaN</td>\n",
       "      <td>unknown</td>\n",
       "      <td>https://en.wikipedia.org/wiki/Love_by_the_Ligh...</td>\n",
       "      <td>The moon, painted with a smiling face hangs ov...</td>\n",
       "      <td>NaN</td>\n",
       "      <td>NaN</td>\n",
       "      <td>NaN</td>\n",
       "      <td>NaN</td>\n",
       "      <td>NaN</td>\n",
       "      <td>NaN</td>\n",
       "    </tr>\n",
       "    <tr>\n",
       "      <th>2</th>\n",
       "      <td>1901</td>\n",
       "      <td>The Martyred Presidents</td>\n",
       "      <td>American</td>\n",
       "      <td>Unknown</td>\n",
       "      <td>NaN</td>\n",
       "      <td>unknown</td>\n",
       "      <td>https://en.wikipedia.org/wiki/The_Martyred_Pre...</td>\n",
       "      <td>The film, just over a minute long, is composed...</td>\n",
       "      <td>NaN</td>\n",
       "      <td>NaN</td>\n",
       "      <td>NaN</td>\n",
       "      <td>NaN</td>\n",
       "      <td>NaN</td>\n",
       "      <td>NaN</td>\n",
       "    </tr>\n",
       "    <tr>\n",
       "      <th>3</th>\n",
       "      <td>1901</td>\n",
       "      <td>Terrible Teddy, the Grizzly King</td>\n",
       "      <td>American</td>\n",
       "      <td>Unknown</td>\n",
       "      <td>NaN</td>\n",
       "      <td>unknown</td>\n",
       "      <td>https://en.wikipedia.org/wiki/Terrible_Teddy,_...</td>\n",
       "      <td>Lasting just 61 seconds and consisting of two ...</td>\n",
       "      <td>NaN</td>\n",
       "      <td>NaN</td>\n",
       "      <td>NaN</td>\n",
       "      <td>NaN</td>\n",
       "      <td>NaN</td>\n",
       "      <td>NaN</td>\n",
       "    </tr>\n",
       "    <tr>\n",
       "      <th>4</th>\n",
       "      <td>1902</td>\n",
       "      <td>Jack and the Beanstalk</td>\n",
       "      <td>American</td>\n",
       "      <td>George S. Fleming, Edwin S. Porter</td>\n",
       "      <td>NaN</td>\n",
       "      <td>Comedy Family Fantasy</td>\n",
       "      <td>https://en.wikipedia.org/wiki/Jack_and_the_Bea...</td>\n",
       "      <td>The earliest known adaptation of the classic f...</td>\n",
       "      <td>Comedy Family Fantasy</td>\n",
       "      <td>Abbott and Costello's version of the famous fa...</td>\n",
       "      <td>1.55627</td>\n",
       "      <td>1952</td>\n",
       "      <td>6.0</td>\n",
       "      <td>12.0</td>\n",
       "    </tr>\n",
       "  </tbody>\n",
       "</table>\n",
       "</div>"
      ],
      "text/plain": [
       "  Release Year_wiki                             Title Origin/Ethnicity  \\\n",
       "0              1901            Kansas Saloon Smashers         American   \n",
       "1              1901     Love by the Light of the Moon         American   \n",
       "2              1901           The Martyred Presidents         American   \n",
       "3              1901  Terrible Teddy, the Grizzly King         American   \n",
       "4              1902            Jack and the Beanstalk         American   \n",
       "\n",
       "                             Director Cast             Genre_wiki  \\\n",
       "0                             Unknown  NaN                unknown   \n",
       "1                             Unknown  NaN                unknown   \n",
       "2                             Unknown  NaN                unknown   \n",
       "3                             Unknown  NaN                unknown   \n",
       "4  George S. Fleming, Edwin S. Porter  NaN  Comedy Family Fantasy   \n",
       "\n",
       "                                           Wiki Page  \\\n",
       "0  https://en.wikipedia.org/wiki/Kansas_Saloon_Sm...   \n",
       "1  https://en.wikipedia.org/wiki/Love_by_the_Ligh...   \n",
       "2  https://en.wikipedia.org/wiki/The_Martyred_Pre...   \n",
       "3  https://en.wikipedia.org/wiki/Terrible_Teddy,_...   \n",
       "4  https://en.wikipedia.org/wiki/Jack_and_the_Bea...   \n",
       "\n",
       "                                                Plot            Genre_other  \\\n",
       "0  A bartender is working at a saloon, serving dr...                    NaN   \n",
       "1  The moon, painted with a smiling face hangs ov...                    NaN   \n",
       "2  The film, just over a minute long, is composed...                    NaN   \n",
       "3  Lasting just 61 seconds and consisting of two ...                    NaN   \n",
       "4  The earliest known adaptation of the classic f...  Comedy Family Fantasy   \n",
       "\n",
       "                                            Overview Popularity  \\\n",
       "0                                                NaN        NaN   \n",
       "1                                                NaN        NaN   \n",
       "2                                                NaN        NaN   \n",
       "3                                                NaN        NaN   \n",
       "4  Abbott and Costello's version of the famous fa...    1.55627   \n",
       "\n",
       "  Release Year_other  Vote_Average  Vote_Count  \n",
       "0                NaN           NaN         NaN  \n",
       "1                NaN           NaN         NaN  \n",
       "2                NaN           NaN         NaN  \n",
       "3                NaN           NaN         NaN  \n",
       "4               1952           6.0        12.0  "
      ]
     },
     "execution_count": 22,
     "metadata": {},
     "output_type": "execute_result"
    }
   ],
   "source": [
    "df.head()"
   ]
  },
  {
   "cell_type": "code",
   "execution_count": 23,
   "metadata": {},
   "outputs": [],
   "source": [
    "df = df.drop(['Origin/Ethnicity', 'Director', 'Cast', 'Wiki Page', 'Genre_other', 'Release Year_other', 'Popularity', 'Vote_Average', 'Vote_Count'], axis=1)\n",
    "df = df.rename(columns={'Genre_wiki':'Genre', 'Release Year_wiki': 'Release Year'})"
   ]
  },
  {
   "cell_type": "code",
   "execution_count": 24,
   "metadata": {},
   "outputs": [],
   "source": [
    "def Data_Cleaning(Genre):\n",
    "    '''\n",
    "     This function is from the kernel - https://www.kaggle.com/aminejallouli/genre-classification-based-on-wiki-movies-plots\n",
    "    '''\n",
    "    df['Genre_improved'] = df['Genre']\n",
    "    df['Genre_improved']=df['Genre_improved'].str.strip()\n",
    "    df['Genre_improved']=df['Genre_improved'].str.replace(' - ', '|')\n",
    "    df['Genre_improved']=df['Genre_improved'].str.replace(' / ', '|')\n",
    "    df['Genre_improved']=df['Genre_improved'].str.replace('/', '|')\n",
    "    df['Genre_improved']=df['Genre_improved'].str.replace(' & ', '|')\n",
    "    df['Genre_improved']=df['Genre_improved'].str.replace(', ', '|')\n",
    "    df['Genre_improved']=df['Genre_improved'].str.replace('; ', '|')\n",
    "    df['Genre_improved']=df['Genre_improved'].str.replace('bio-pic', 'biography')\n",
    "    df['Genre_improved']=df['Genre_improved'].str.replace('biopic', 'biography')\n",
    "    df['Genre_improved']=df['Genre_improved'].str.replace('biographical', 'biography')\n",
    "    df['Genre_improved']=df['Genre_improved'].str.replace('biodrama', 'biography')\n",
    "    df['Genre_improved']=df['Genre_improved'].str.replace('bio-drama', 'biography')\n",
    "    df['Genre_improved']=df['Genre_improved'].str.replace('biographic', 'biography')\n",
    "    df['Genre_improved']=df['Genre_improved'].str.replace(' \\(film genre\\)', '')\n",
    "    df['Genre_improved']=df['Genre_improved'].str.replace('animated','animation')\n",
    "    df['Genre_improved']=df['Genre_improved'].str.replace('anime','animation')\n",
    "    df['Genre_improved']=df['Genre_improved'].str.replace('children\\'s','children')\n",
    "    df['Genre_improved']=df['Genre_improved'].str.replace('comedey','comedy')\n",
    "    df['Genre_improved']=df['Genre_improved'].str.replace('\\[not in citation given\\]','')\n",
    "    df['Genre_improved']=df['Genre_improved'].str.replace(' set 4,000 years ago in the canadian arctic','')\n",
    "    df['Genre_improved']=df['Genre_improved'].str.replace('historical','history')\n",
    "    df['Genre_improved']=df['Genre_improved'].str.replace('romantic','romance')\n",
    "    df['Genre_improved']=df['Genre_improved'].str.replace('3-d','animation')\n",
    "    df['Genre_improved']=df['Genre_improved'].str.replace('3d','animation')\n",
    "    df['Genre_improved']=df['Genre_improved'].str.replace('viacom 18 motion pictures','')\n",
    "    df['Genre_improved']=df['Genre_improved'].str.replace('sci-fi','science_fiction')\n",
    "    df['Genre_improved']=df['Genre_improved'].str.replace('ttriller','thriller')\n",
    "    df['Genre_improved']=df['Genre_improved'].str.replace('.','')\n",
    "    df['Genre_improved']=df['Genre_improved'].str.replace('based on radio serial','')\n",
    "    df['Genre_improved']=df['Genre_improved'].str.replace(' on the early years of hitler','')\n",
    "    df['Genre_improved']=df['Genre_improved'].str.replace('sci fi','science_fiction')\n",
    "    df['Genre_improved']=df['Genre_improved'].str.replace('science fiction','science_fiction')\n",
    "    df['Genre_improved']=df['Genre_improved'].str.replace(' (30min)','')\n",
    "    df['Genre_improved']=df['Genre_improved'].str.replace('16 mm film','short')\n",
    "    df['Genre_improved']=df['Genre_improved'].str.replace('\\[140\\]','drama')\n",
    "    df['Genre_improved']=df['Genre_improved'].str.replace('\\[144\\]','')\n",
    "    df['Genre_improved']=df['Genre_improved'].str.replace(' for ','')\n",
    "    df['Genre_improved']=df['Genre_improved'].str.replace('adventures','adventure')\n",
    "    df['Genre_improved']=df['Genre_improved'].str.replace('kung fu','martial_arts')\n",
    "    df['Genre_improved']=df['Genre_improved'].str.replace('kung-fu','martial_arts')\n",
    "    df['Genre_improved']=df['Genre_improved'].str.replace('martial arts','martial_arts')\n",
    "    df['Genre_improved']=df['Genre_improved'].str.replace('world war ii','war')\n",
    "    df['Genre_improved']=df['Genre_improved'].str.replace('world war i','war')\n",
    "    df['Genre_improved']=df['Genre_improved'].str.replace('biography about montreal canadiens star|maurice richard','biography')\n",
    "    df['Genre_improved']=df['Genre_improved'].str.replace('bholenath movies|cinekorn entertainment','')\n",
    "    df['Genre_improved']=df['Genre_improved'].str.replace(' \\(volleyball\\)','')\n",
    "    df['Genre_improved']=df['Genre_improved'].str.replace('spy film','spy')\n",
    "    df['Genre_improved']=df['Genre_improved'].str.replace('anthology film','anthology')\n",
    "    df['Genre_improved']=df['Genre_improved'].str.replace('biography fim','biography')\n",
    "    df['Genre_improved']=df['Genre_improved'].str.replace('avant-garde','avant_garde')\n",
    "    df['Genre_improved']=df['Genre_improved'].str.replace('biker film','biker')\n",
    "    df['Genre_improved']=df['Genre_improved'].str.replace('buddy cop','buddy')\n",
    "    df['Genre_improved']=df['Genre_improved'].str.replace('buddy film','buddy')\n",
    "    df['Genre_improved']=df['Genre_improved'].str.replace('comedy 2-reeler','comedy')\n",
    "    df['Genre_improved']=df['Genre_improved'].str.replace('films','')\n",
    "    df['Genre_improved']=df['Genre_improved'].str.replace('film','')\n",
    "    df['Genre_improved']=df['Genre_improved'].str.replace('biography of pioneering american photographer eadweard muybridge','biography')\n",
    "    df['Genre_improved']=df['Genre_improved'].str.replace('british-german co-production','')\n",
    "    df['Genre_improved']=df['Genre_improved'].str.replace('bruceploitation','martial_arts')\n",
    "    df['Genre_improved']=df['Genre_improved'].str.replace('comedy-drama adaptation of the mordecai richler novel','comedy-drama')\n",
    "    df['Genre_improved']=df['Genre_improved'].str.replace('movies by the mob\\|knkspl','')\n",
    "    df['Genre_improved']=df['Genre_improved'].str.replace('movies','')\n",
    "    df['Genre_improved']=df['Genre_improved'].str.replace('movie','')\n",
    "    df['Genre_improved']=df['Genre_improved'].str.replace('coming of age','coming_of_age')\n",
    "    df['Genre_improved']=df['Genre_improved'].str.replace('coming-of-age','coming_of_age')\n",
    "    df['Genre_improved']=df['Genre_improved'].str.replace('drama about child soldiers','drama')\n",
    "    df['Genre_improved']=df['Genre_improved'].str.replace('(( based).+)','')\n",
    "    df['Genre_improved']=df['Genre_improved'].str.replace('(( co-produced).+)','')\n",
    "    df['Genre_improved']=df['Genre_improved'].str.replace('(( adapted).+)','')\n",
    "    df['Genre_improved']=df['Genre_improved'].str.replace('(( about).+)','')\n",
    "    df['Genre_improved']=df['Genre_improved'].str.replace('musical b','musical')\n",
    "    df['Genre_improved']=df['Genre_improved'].str.replace('animationchildren','animation|children')\n",
    "    df['Genre_improved']=df['Genre_improved'].str.replace(' period','period')\n",
    "    df['Genre_improved']=df['Genre_improved'].str.replace('drama loosely','drama')\n",
    "    df['Genre_improved']=df['Genre_improved'].str.replace(' \\(aquatics|swimming\\)','')\n",
    "    df['Genre_improved']=df['Genre_improved'].str.replace(' \\(aquatics|swimming\\)','')\n",
    "    df['Genre_improved']=df['Genre_improved'].str.replace(\"yogesh dattatraya gosavi's directorial debut \\[9\\]\",'')\n",
    "    df['Genre_improved']=df['Genre_improved'].str.replace(\"war-time\",\"war\")\n",
    "    df['Genre_improved']=df['Genre_improved'].str.replace(\"wartime\",\"war\")\n",
    "    df['Genre_improved']=df['Genre_improved'].str.replace(\"ww1\",\"war\")\n",
    "    df['Genre_improved']=df['Genre_improved'].str.replace('unknown','')\n",
    "    df['Genre_improved']=df['Genre_improved'].str.replace(\"wwii\",\"war\")\n",
    "    df['Genre_improved']=df['Genre_improved'].str.replace('psychological','psycho')\n",
    "    df['Genre_improved']=df['Genre_improved'].str.replace('rom-coms','romance')\n",
    "    df['Genre_improved']=df['Genre_improved'].str.replace('true crime','crime')\n",
    "    df['Genre_improved']=df['Genre_improved'].str.replace('\\|007','')\n",
    "    df['Genre_improved']=df['Genre_improved'].str.replace('slice of life','slice_of_life')\n",
    "    df['Genre_improved']=df['Genre_improved'].str.replace('computer animation','animation')\n",
    "    df['Genre_improved']=df['Genre_improved'].str.replace('gun fu','martial_arts')\n",
    "    df['Genre_improved']=df['Genre_improved'].str.replace('j-horror','horror')\n",
    "    df['Genre_improved']=df['Genre_improved'].str.replace(' \\(shogi|chess\\)','')\n",
    "    df['Genre_improved']=df['Genre_improved'].str.replace('afghan war drama','war drama')\n",
    "    df['Genre_improved']=df['Genre_improved'].str.replace('\\|6 separate stories','')\n",
    "    df['Genre_improved']=df['Genre_improved'].str.replace(' \\(30min\\)','')\n",
    "    df['Genre_improved']=df['Genre_improved'].str.replace(' (road bicycle racing)','')\n",
    "    df['Genre_improved']=df['Genre_improved'].str.replace(' v-cinema','')\n",
    "    df['Genre_improved']=df['Genre_improved'].str.replace('tv miniseries','tv_miniseries')\n",
    "    df['Genre_improved']=df['Genre_improved'].str.replace('\\|docudrama','\\|documentary|drama')\n",
    "    df['Genre_improved']=df['Genre_improved'].str.replace(' in animation','|animation')\n",
    "    df['Genre_improved']=df['Genre_improved'].str.replace('((adaptation).+)','')\n",
    "    df['Genre_improved']=df['Genre_improved'].str.replace('((adaptated).+)','')\n",
    "    df['Genre_improved']=df['Genre_improved'].str.replace('((adapted).+)','')\n",
    "    df['Genre_improved']=df['Genre_improved'].str.replace('(( on ).+)','')\n",
    "    df['Genre_improved']=df['Genre_improved'].str.replace('american football','sports')\n",
    "    df['Genre_improved']=df['Genre_improved'].str.replace('dev\\|nusrat jahan','sports')\n",
    "    df['Genre_improved']=df['Genre_improved'].str.replace('television miniseries','tv_miniseries')\n",
    "    df['Genre_improved']=df['Genre_improved'].str.replace(' \\(artistic\\)','')\n",
    "    df['Genre_improved']=df['Genre_improved'].str.replace(' \\|direct-to-dvd','')\n",
    "    df['Genre_improved']=df['Genre_improved'].str.replace('history dram','history drama')\n",
    "    df['Genre_improved']=df['Genre_improved'].str.replace('martial art','martial_arts')\n",
    "    df['Genre_improved']=df['Genre_improved'].str.replace('psycho thriller,','psycho thriller')\n",
    "    df['Genre_improved']=df['Genre_improved'].str.replace('\\|1 girl\\|3 suitors','')\n",
    "    df['Genre_improved']=df['Genre_improved'].str.replace(' \\(road bicycle racing\\)','')\n",
    "    filterE = df['Genre_improved']==\"ero\"\n",
    "    df.loc[filterE,'Genre_improved']=\"adult\"\n",
    "    filterE = df['Genre_improved']==\"music\"\n",
    "    df.loc[filterE,'Genre_improved']=\"musical\"\n",
    "    filterE = df['Genre_improved']==\"-\"\n",
    "    df.loc[filterE,'Genre_improved']=''\n",
    "    filterE = df['Genre_improved']==\"comedy–drama\"\n",
    "    df.loc[filterE,'Genre_improved'] = \"comedy|drama\"\n",
    "    filterE = df['Genre_improved']==\"comedy–horror\"\n",
    "    df.loc[filterE,'Genre_improved'] = \"comedy|horror\"\n",
    "    \n",
    "    df['Genre_improved']=df['Genre_improved'].str.replace(' ','|')\n",
    "    df['Genre_improved']=df['Genre_improved'].str.replace(',','|')\n",
    "    df['Genre_improved']=df['Genre_improved'].str.replace('-','')\n",
    "    df['Genre_improved']=df['Genre_improved'].str.replace('actionadventure','action|adventure')\n",
    "    df['Genre_improved']=df['Genre_improved'].str.replace('actioncomedy','action|comedy')\n",
    "    df['Genre_improved']=df['Genre_improved'].str.replace('actiondrama','action|drama')\n",
    "    df['Genre_improved']=df['Genre_improved'].str.replace('actionlove','action|love')\n",
    "    df['Genre_improved']=df['Genre_improved'].str.replace('actionmasala','action|masala')\n",
    "    df['Genre_improved']=df['Genre_improved'].str.replace('actionchildren','action|children')\n",
    "\n",
    "    df['Genre_improved']=df['Genre_improved'].str.replace('fantasychildren\\|','fantasy|children')\n",
    "    df['Genre_improved']=df['Genre_improved'].str.replace('fantasycomedy','fantasy|comedy')\n",
    "    df['Genre_improved']=df['Genre_improved'].str.replace('fantasyperiod','fantasy|period')\n",
    "    df['Genre_improved']=df['Genre_improved'].str.replace('cbctv_miniseries','tv_miniseries')\n",
    "    df['Genre_improved']=df['Genre_improved'].str.replace('dramacomedy','drama|comedy')\n",
    "    df['Genre_improved']=df['Genre_improved'].str.replace('dramacomedysocial','drama|comedy|social')\n",
    "    df['Genre_improved']=df['Genre_improved'].str.replace('dramathriller','drama|thriller')\n",
    "    df['Genre_improved']=df['Genre_improved'].str.replace('comedydrama','comedy|drama')\n",
    "    df['Genre_improved']=df['Genre_improved'].str.replace('dramathriller','drama|thriller')\n",
    "    df['Genre_improved']=df['Genre_improved'].str.replace('comedyhorror','comedy|horror')\n",
    "    df['Genre_improved']=df['Genre_improved'].str.replace('sciencefiction','science_fiction')\n",
    "    df['Genre_improved']=df['Genre_improved'].str.replace('adventurecomedy','adventure|comedy')\n",
    "    df['Genre_improved']=df['Genre_improved'].str.replace('animationdrama','animation|drama')\n",
    "    df['Genre_improved']=df['Genre_improved'].str.replace('\\|\\|','|')\n",
    "    df['Genre_improved']=df['Genre_improved'].str.replace('muslim','religious')\n",
    "    df['Genre_improved']=df['Genre_improved'].str.replace('thriler','thriller')\n",
    "    df['Genre_improved']=df['Genre_improved'].str.replace('crimethriller','crime|thriller')\n",
    "    df['Genre_improved']=df['Genre_improved'].str.replace('fantay','fantasy')\n",
    "    df['Genre_improved']=df['Genre_improved'].str.replace('actionthriller','action|thriller')\n",
    "    df['Genre_improved']=df['Genre_improved'].str.replace('comedysocial','comedy|social')\n",
    "    df['Genre_improved']=df['Genre_improved'].str.replace('martialarts','martial_arts')\n",
    "    df['Genre_improved']=df['Genre_improved'].str.replace('\\|\\(children\\|poker\\|karuta\\)','')\n",
    "    df['Genre_improved']=df['Genre_improved'].str.replace('epichistory','epic|history')\n",
    "\n",
    "    df['Genre_improved']=df['Genre_improved'].str.replace('erotica','adult')\n",
    "    df['Genre_improved']=df['Genre_improved'].str.replace('erotic','adult')\n",
    "\n",
    "    df['Genre_improved']=df['Genre_improved'].str.replace('((\\|produced\\|).+)','')\n",
    "    df['Genre_improved']=df['Genre_improved'].str.replace('chanbara','chambara')\n",
    "    df['Genre_improved']=df['Genre_improved'].str.replace('comedythriller','comedy|thriller')\n",
    "    df['Genre_improved']=df['Genre_improved'].str.replace('biblical','religious')\n",
    "    df['Genre_improved']=df['Genre_improved'].str.replace('biblical','religious')\n",
    "    df['Genre_improved']=df['Genre_improved'].str.replace('colour\\|yellow\\|productions\\|eros\\|international','')\n",
    "    df['Genre_improved']=df['Genre_improved'].str.replace('\\|directtodvd','')\n",
    "    df['Genre_improved']=df['Genre_improved'].str.replace('liveaction','live|action')\n",
    "    df['Genre_improved']=df['Genre_improved'].str.replace('melodrama','drama')\n",
    "    df['Genre_improved']=df['Genre_improved'].str.replace('superheroes','superheroe')\n",
    "    df['Genre_improved']=df['Genre_improved'].str.replace('gangsterthriller','gangster|thriller')\n",
    "\n",
    "    df['Genre_improved']=df['Genre_improved'].str.replace('heistcomedy','comedy')\n",
    "    df['Genre_improved']=df['Genre_improved'].str.replace('heist','action')\n",
    "    df['Genre_improved']=df['Genre_improved'].str.replace('historic','history')\n",
    "    df['Genre_improved']=df['Genre_improved'].str.replace('historydisaster','history|disaster')\n",
    "    df['Genre_improved']=df['Genre_improved'].str.replace('warcomedy','war|comedy')\n",
    "    df['Genre_improved']=df['Genre_improved'].str.replace('westerncomedy','western|comedy')\n",
    "    df['Genre_improved']=df['Genre_improved'].str.replace('ancientcostume','costume')\n",
    "    df['Genre_improved']=df['Genre_improved'].str.replace('computeranimation','animation')\n",
    "    df['Genre_improved']=df['Genre_improved'].str.replace('dramatic','drama')\n",
    "    df['Genre_improved']=df['Genre_improved'].str.replace('familya','family')\n",
    "    df['Genre_improved']=df['Genre_improved'].str.replace('familya','family')\n",
    "    df['Genre_improved']=df['Genre_improved'].str.replace('dramedy','drama|comedy')\n",
    "    df['Genre_improved']=df['Genre_improved'].str.replace('dramaa','drama')\n",
    "    df['Genre_improved']=df['Genre_improved'].str.replace('famil\\|','family')\n",
    "\n",
    "    df['Genre_improved']=df['Genre_improved'].str.replace('superheroe','superhero')\n",
    "    df['Genre_improved']=df['Genre_improved'].str.replace('biogtaphy','biography')\n",
    "    df['Genre_improved']=df['Genre_improved'].str.replace('devotionalbiography','devotional|biography')\n",
    "    df['Genre_improved']=df['Genre_improved'].str.replace('docufiction','documentary|fiction')\n",
    "\n",
    "    df['Genre_improved']=df['Genre_improved'].str.replace('familydrama','family|drama')\n",
    "\n",
    "    df['Genre_improved']=df['Genre_improved'].str.replace('espionage','spy')\n",
    "    df['Genre_improved']=df['Genre_improved'].str.replace('supeheroes','superhero')\n",
    "    df['Genre_improved']=df['Genre_improved'].str.replace('romancefiction','romance|fiction')\n",
    "    df['Genre_improved']=df['Genre_improved'].str.replace('horrorthriller','horror|thriller')\n",
    "\n",
    "    df['Genre_improved']=df['Genre_improved'].str.replace('suspensethriller','suspense|thriller')\n",
    "    df['Genre_improved']=df['Genre_improved'].str.replace('musicaliography','musical|biography')\n",
    "    df['Genre_improved']=df['Genre_improved'].str.replace('triller','thriller')\n",
    "\n",
    "    df['Genre_improved']=df['Genre_improved'].str.replace('\\|\\(fiction\\)','|fiction')\n",
    "\n",
    "    df['Genre_improved']=df['Genre_improved'].str.replace('romanceaction','romance|action')\n",
    "    df['Genre_improved']=df['Genre_improved'].str.replace('romancecomedy','romance|comedy')\n",
    "    df['Genre_improved']=df['Genre_improved'].str.replace('romancehorror','romance|horror')\n",
    "\n",
    "    df['Genre_improved']=df['Genre_improved'].str.replace('romcom','romance|comedy')\n",
    "    df['Genre_improved']=df['Genre_improved'].str.replace('rom\\|com','romance|comedy')\n",
    "    df['Genre_improved']=df['Genre_improved'].str.replace('satirical','satire')\n",
    "\n",
    "    df['Genre_improved']=df['Genre_improved'].str.replace('science_fictionchildren','science_fiction|children')\n",
    "    df['Genre_improved']=df['Genre_improved'].str.replace('homosexual','adult')\n",
    "    df['Genre_improved']=df['Genre_improved'].str.replace('sexual','adult')\n",
    "\n",
    "    df['Genre_improved']=df['Genre_improved'].str.replace('mockumentary','documentary')\n",
    "    df['Genre_improved']=df['Genre_improved'].str.replace('periodic','period')\n",
    "    df['Genre_improved']=df['Genre_improved'].str.replace('romanctic','romance')\n",
    "    df['Genre_improved']=df['Genre_improved'].str.replace('politics','political')\n",
    "    df['Genre_improved']=df['Genre_improved'].str.replace('samurai','martial_arts')\n",
    "    df['Genre_improved']=df['Genre_improved'].str.replace('tv_miniseries','series')\n",
    "    df['Genre_improved']=df['Genre_improved'].str.replace('serial','series')\n",
    "\n",
    "    filterE = df['Genre_improved']==\"musical–comedy\"\n",
    "    df.loc[filterE,'Genre_improved'] = \"musical|comedy\"\n",
    "\n",
    "    filterE = df['Genre_improved']==\"roman|porno\"\n",
    "    df.loc[filterE,'Genre_improved'] = \"adult\"\n",
    "\n",
    "\n",
    "    filterE = df['Genre_improved']==\"action—masala\"\n",
    "    df.loc[filterE,'Genre_improved'] = \"action|masala\"\n",
    "\n",
    "\n",
    "    filterE = df['Genre_improved']==\"horror–thriller\"\n",
    "    df.loc[filterE,'Genre_improved'] = \"horror|thriller\"\n",
    "\n",
    "    df['Genre_improved']=df['Genre_improved'].str.replace('family','children')\n",
    "    df['Genre_improved']=df['Genre_improved'].str.replace('martial_arts','action')\n",
    "    df['Genre_improved']=df['Genre_improved'].str.replace('horror','thriller')\n",
    "    df['Genre_improved']=df['Genre_improved'].str.replace('war','action')\n",
    "    df['Genre_improved']=df['Genre_improved'].str.replace('adventure','action')\n",
    "    df['Genre_improved']=df['Genre_improved'].str.replace('science_fiction','action')\n",
    "    df['Genre_improved']=df['Genre_improved'].str.replace('western','action')\n",
    "    df['Genre_improved']=df['Genre_improved'].str.replace('western','action')\n",
    "    df['Genre_improved']=df['Genre_improved'].str.replace('noir','black')\n",
    "    df['Genre_improved']=df['Genre_improved'].str.replace('spy','action')\n",
    "    df['Genre_improved']=df['Genre_improved'].str.replace('superhero','action')\n",
    "    df['Genre_improved']=df['Genre_improved'].str.replace('social','')\n",
    "    df['Genre_improved']=df['Genre_improved'].str.replace('suspense','action')\n",
    "    df['Genre_improved']=df['Genre_improved'].str.replace('sex','adult')\n",
    "\n",
    "\n",
    "    filterE = df['Genre_improved']==\"drama|romance|adult|children\"\n",
    "    df.loc[filterE,'Genre_improved'] = \"drama|romance|adult\"\n",
    "\n",
    "    df['Genre_improved']=df['Genre_improved'].str.replace('\\|–\\|','|')\n",
    "    df['Genre_improved']=df['Genre_improved'].str.strip(to_strip='\\|')\n",
    "    df['Genre_improved']=df['Genre_improved'].str.replace('actionner','action')\n",
    "    df['Genre_improved']=df['Genre_improved'].str.replace('love','romance')\n",
    "    df['Genre_improved']=df['Genre_improved'].str.replace('crime','mystery')\n",
    "    df['Genre_improved']=df['Genre_improved'].str.replace('kids','children')\n",
    "    df['Genre_improved']=df['Genre_improved'].str.replace('boxing','action')\n",
    "    df['Genre_improved']=df['Genre_improved'].str.replace('buddy','drama')\n",
    "    df['Genre_improved']=df['Genre_improved'].str.replace('cartoon','animation')\n",
    "    df['Genre_improved']=df['Genre_improved'].str.replace('cinema','drama')\n",
    "    df['Genre_improved']=df['Genre_improved'].str.replace('religious','supernatural')\n",
    "    df['Genre_improved']=df['Genre_improved'].str.replace('christian','supernatural')\n",
    "    df['Genre_improved']=df['Genre_improved'].str.replace('lgbtthemed','romance')\n",
    "    df['Genre_improved']=df['Genre_improved'].str.replace('detective','mystery')\n",
    "    df['Genre_improved']=df['Genre_improved'].str.replace('nature','drama')\n",
    "    df['Genre_improved']=df['Genre_improved'].str.replace('fiction','drama')\n",
    "    df['Genre_improved']=df['Genre_improved'].str.replace('music','artistic')\n",
    "    df['Genre_improved']=df['Genre_improved'].str.replace('musical','artistic')\n",
    "    df['Genre_improved']=df['Genre_improved'].str.replace('short','artistic')\n",
    "    df['Genre_improved']=df['Genre_improved'].str.replace('mythology','supernatural')\n",
    "    df['Genre_improved']=df['Genre_improved'].str.replace('mythological','supernatural')\n",
    "    df['Genre_improved']=df['Genre_improved'].str.replace('masala','action')\n",
    "    df['Genre_improved']=df['Genre_improved'].str.replace('military','action')\n",
    "    df['Genre_improved']=df['Genre_improved'].str.replace('sexploitation','adult')\n",
    "    df['Genre_improved']=df['Genre_improved'].str.replace('tragedy','drama')\n",
    "    df['Genre_improved']=df['Genre_improved'].str.replace('murder','mystery')\n",
    "    df['Genre_improved']=df['Genre_improved'].str.replace('disaster','drama')\n",
    "    df['Genre_improved']=df['Genre_improved'].str.replace('documentary','biography')\n",
    "    df['Genre_improved']=df['Genre_improved'].str.replace('dance','artistic')\n",
    "    df['Genre_improved']=df['Genre_improved'].str.replace('cowboy','action')\n",
    "    df['Genre_improved']=df['Genre_improved'].str.replace('anthology','artistic')\n",
    "    df['Genre_improved']=df['Genre_improved'].str.replace('artistical','artistic')\n",
    "    df['Genre_improved']=df['Genre_improved'].str.replace('art','artistic')\n",
    "    df['Genre_improved']=df['Genre_improved'].str.strip()\n",
    "    return df['Genre_improved']"
   ]
  },
  {
   "cell_type": "code",
   "execution_count": 25,
   "metadata": {},
   "outputs": [],
   "source": [
    "df['Genre_improved'] = Data_Cleaning(df['Genre'])"
   ]
  },
  {
   "cell_type": "code",
   "execution_count": 26,
   "metadata": {},
   "outputs": [],
   "source": [
    "df_rec = df\n",
    "df_full = df"
   ]
  },
  {
   "cell_type": "markdown",
   "metadata": {},
   "source": [
    "df_rec is ready to be used for other purposes (e.g. recommendation system, genre predictor, etc.). df_full contains the full list of movies rather than only those movies that meet our filtering standards below."
   ]
  },
  {
   "cell_type": "code",
   "execution_count": 27,
   "metadata": {},
   "outputs": [],
   "source": [
    "# save the data to a new csv file\n",
    "df_rec.to_csv (r'C:\\Users\\rotzn\\gitProjects\\DS program\\DS projects\\cap 3\\data\\df_rec.csv', header=True, index=False)\n",
    "df_full.to_csv (r'C:\\Users\\rotzn\\gitProjects\\DS program\\DS projects\\cap 3\\data\\df_full.csv', header=True, index=False)"
   ]
  },
  {
   "cell_type": "markdown",
   "metadata": {},
   "source": [
    "<h3 style = \"font-family:garamond; font-size:20px; background-color: white; color : royalblue; border-radius: 100px 100px; text-align:left\">Find only movies with both 'Plot' and 'Overview'</h3>"
   ]
  },
  {
   "cell_type": "code",
   "execution_count": 28,
   "metadata": {},
   "outputs": [],
   "source": [
    "df = df[(pd.notna(df['Plot'])) & (pd.notna(df['Overview']))]"
   ]
  },
  {
   "cell_type": "code",
   "execution_count": 29,
   "metadata": {},
   "outputs": [],
   "source": [
    "df = df.rename(columns={'Genre_wiki':'Genre', 'Release Year_wiki': 'Release Year'})"
   ]
  },
  {
   "cell_type": "code",
   "execution_count": 30,
   "metadata": {},
   "outputs": [
    {
     "data": {
      "text/html": [
       "<div>\n",
       "<style scoped>\n",
       "    .dataframe tbody tr th:only-of-type {\n",
       "        vertical-align: middle;\n",
       "    }\n",
       "\n",
       "    .dataframe tbody tr th {\n",
       "        vertical-align: top;\n",
       "    }\n",
       "\n",
       "    .dataframe thead th {\n",
       "        text-align: right;\n",
       "    }\n",
       "</style>\n",
       "<table border=\"1\" class=\"dataframe\">\n",
       "  <thead>\n",
       "    <tr style=\"text-align: right;\">\n",
       "      <th></th>\n",
       "      <th>Release Year</th>\n",
       "      <th>Title</th>\n",
       "      <th>Genre</th>\n",
       "      <th>Plot</th>\n",
       "      <th>Overview</th>\n",
       "      <th>Genre_improved</th>\n",
       "    </tr>\n",
       "  </thead>\n",
       "  <tbody>\n",
       "    <tr>\n",
       "      <th>4</th>\n",
       "      <td>1902</td>\n",
       "      <td>Jack and the Beanstalk</td>\n",
       "      <td>Comedy Family Fantasy</td>\n",
       "      <td>The earliest known adaptation of the classic f...</td>\n",
       "      <td>Abbott and Costello's version of the famous fa...</td>\n",
       "      <td>Comedy|Family|Fantasy</td>\n",
       "    </tr>\n",
       "    <tr>\n",
       "      <th>5</th>\n",
       "      <td>1902</td>\n",
       "      <td>Jack and the Beanstalk</td>\n",
       "      <td>Adventure Comedy Family Fantasy</td>\n",
       "      <td>The earliest known adaptation of the classic f...</td>\n",
       "      <td>A fairy tale character who is about to flunk o...</td>\n",
       "      <td>Adventure|Comedy|Family|Fantasy</td>\n",
       "    </tr>\n",
       "    <tr>\n",
       "      <th>6</th>\n",
       "      <td>1902</td>\n",
       "      <td>Jack and the Beanstalk</td>\n",
       "      <td>Adventure Family Fantasy</td>\n",
       "      <td>The earliest known adaptation of the classic f...</td>\n",
       "      <td>Porter's sequential continuity editing links s...</td>\n",
       "      <td>Adventure|Family|Fantasy</td>\n",
       "    </tr>\n",
       "    <tr>\n",
       "      <th>7</th>\n",
       "      <td>1902</td>\n",
       "      <td>Jack and the Beanstalk</td>\n",
       "      <td>Adventure Animation Fantasy</td>\n",
       "      <td>The earliest known adaptation of the classic f...</td>\n",
       "      <td>Innovative and enchanting adaptation of this w...</td>\n",
       "      <td>Adventure|Animation|Fantasy</td>\n",
       "    </tr>\n",
       "    <tr>\n",
       "      <th>8</th>\n",
       "      <td>1952</td>\n",
       "      <td>Jack and the Beanstalk</td>\n",
       "      <td>comedy</td>\n",
       "      <td>Mr. Dinkle and Jack (Abbott and Costello) look...</td>\n",
       "      <td>Abbott and Costello's version of the famous fa...</td>\n",
       "      <td>comedy</td>\n",
       "    </tr>\n",
       "  </tbody>\n",
       "</table>\n",
       "</div>"
      ],
      "text/plain": [
       "  Release Year                   Title                            Genre  \\\n",
       "4         1902  Jack and the Beanstalk            Comedy Family Fantasy   \n",
       "5         1902  Jack and the Beanstalk  Adventure Comedy Family Fantasy   \n",
       "6         1902  Jack and the Beanstalk         Adventure Family Fantasy   \n",
       "7         1902  Jack and the Beanstalk      Adventure Animation Fantasy   \n",
       "8         1952  Jack and the Beanstalk                           comedy   \n",
       "\n",
       "                                                Plot  \\\n",
       "4  The earliest known adaptation of the classic f...   \n",
       "5  The earliest known adaptation of the classic f...   \n",
       "6  The earliest known adaptation of the classic f...   \n",
       "7  The earliest known adaptation of the classic f...   \n",
       "8  Mr. Dinkle and Jack (Abbott and Costello) look...   \n",
       "\n",
       "                                            Overview  \\\n",
       "4  Abbott and Costello's version of the famous fa...   \n",
       "5  A fairy tale character who is about to flunk o...   \n",
       "6  Porter's sequential continuity editing links s...   \n",
       "7  Innovative and enchanting adaptation of this w...   \n",
       "8  Abbott and Costello's version of the famous fa...   \n",
       "\n",
       "                    Genre_improved  \n",
       "4            Comedy|Family|Fantasy  \n",
       "5  Adventure|Comedy|Family|Fantasy  \n",
       "6         Adventure|Family|Fantasy  \n",
       "7      Adventure|Animation|Fantasy  \n",
       "8                           comedy  "
      ]
     },
     "execution_count": 30,
     "metadata": {},
     "output_type": "execute_result"
    }
   ],
   "source": [
    "df.head()"
   ]
  },
  {
   "cell_type": "markdown",
   "metadata": {},
   "source": [
    "<h3 style = \"font-family:garamond; font-size:20px; background-color: white; color : royalblue; border-radius: 100px 100px; text-align:left\">Find and drop duplicate rows</h3>"
   ]
  },
  {
   "cell_type": "code",
   "execution_count": 31,
   "metadata": {},
   "outputs": [
    {
     "data": {
      "text/plain": [
       "62"
      ]
     },
     "execution_count": 31,
     "metadata": {},
     "output_type": "execute_result"
    }
   ],
   "source": [
    "df.duplicated().sum()"
   ]
  },
  {
   "cell_type": "code",
   "execution_count": 32,
   "metadata": {},
   "outputs": [],
   "source": [
    "df = df.drop_duplicates()"
   ]
  },
  {
   "cell_type": "code",
   "execution_count": 33,
   "metadata": {},
   "outputs": [
    {
     "data": {
      "text/plain": [
       "4356"
      ]
     },
     "execution_count": 33,
     "metadata": {},
     "output_type": "execute_result"
    }
   ],
   "source": [
    "df.duplicated(subset=['Title', 'Release Year']).sum()"
   ]
  },
  {
   "cell_type": "code",
   "execution_count": 34,
   "metadata": {},
   "outputs": [],
   "source": [
    "df = df.drop_duplicates(subset=['Title', 'Release Year'])"
   ]
  },
  {
   "cell_type": "code",
   "execution_count": 35,
   "metadata": {},
   "outputs": [
    {
     "data": {
      "text/plain": [
       "0"
      ]
     },
     "execution_count": 35,
     "metadata": {},
     "output_type": "execute_result"
    }
   ],
   "source": [
    "df.duplicated(subset=['Title', 'Release Year']).sum()"
   ]
  },
  {
   "cell_type": "code",
   "execution_count": 36,
   "metadata": {},
   "outputs": [],
   "source": [
    "df = df.reset_index(drop=True)"
   ]
  },
  {
   "cell_type": "code",
   "execution_count": 37,
   "metadata": {},
   "outputs": [
    {
     "data": {
      "text/html": [
       "<div>\n",
       "<style scoped>\n",
       "    .dataframe tbody tr th:only-of-type {\n",
       "        vertical-align: middle;\n",
       "    }\n",
       "\n",
       "    .dataframe tbody tr th {\n",
       "        vertical-align: top;\n",
       "    }\n",
       "\n",
       "    .dataframe thead th {\n",
       "        text-align: right;\n",
       "    }\n",
       "</style>\n",
       "<table border=\"1\" class=\"dataframe\">\n",
       "  <thead>\n",
       "    <tr style=\"text-align: right;\">\n",
       "      <th></th>\n",
       "      <th>Release Year</th>\n",
       "      <th>Title</th>\n",
       "      <th>Genre</th>\n",
       "      <th>Plot</th>\n",
       "      <th>Overview</th>\n",
       "      <th>Genre_improved</th>\n",
       "    </tr>\n",
       "  </thead>\n",
       "  <tbody>\n",
       "    <tr>\n",
       "      <th>0</th>\n",
       "      <td>1902</td>\n",
       "      <td>Jack and the Beanstalk</td>\n",
       "      <td>Comedy Family Fantasy</td>\n",
       "      <td>The earliest known adaptation of the classic f...</td>\n",
       "      <td>Abbott and Costello's version of the famous fa...</td>\n",
       "      <td>Comedy|Family|Fantasy</td>\n",
       "    </tr>\n",
       "    <tr>\n",
       "      <th>1</th>\n",
       "      <td>1952</td>\n",
       "      <td>Jack and the Beanstalk</td>\n",
       "      <td>comedy</td>\n",
       "      <td>Mr. Dinkle and Jack (Abbott and Costello) look...</td>\n",
       "      <td>Abbott and Costello's version of the famous fa...</td>\n",
       "      <td>comedy</td>\n",
       "    </tr>\n",
       "    <tr>\n",
       "      <th>2</th>\n",
       "      <td>1903</td>\n",
       "      <td>Alice in Wonderland</td>\n",
       "      <td>Animation Adventure Family Fantasy</td>\n",
       "      <td>Alice follows a large white rabbit down a \"Rab...</td>\n",
       "      <td>On a golden afternoon, young Alice follows a W...</td>\n",
       "      <td>Animation|Adventure|Family|Fantasy</td>\n",
       "    </tr>\n",
       "    <tr>\n",
       "      <th>3</th>\n",
       "      <td>1933</td>\n",
       "      <td>Alice in Wonderland</td>\n",
       "      <td>fantasy</td>\n",
       "      <td>Left alone with a governess one snowy afternoo...</td>\n",
       "      <td>On a golden afternoon, young Alice follows a W...</td>\n",
       "      <td>fantasy</td>\n",
       "    </tr>\n",
       "    <tr>\n",
       "      <th>4</th>\n",
       "      <td>1951</td>\n",
       "      <td>Alice in Wonderland</td>\n",
       "      <td>animation</td>\n",
       "      <td>On a riverbank, Alice spots a White Rabbit in ...</td>\n",
       "      <td>On a golden afternoon, young Alice follows a W...</td>\n",
       "      <td>animation</td>\n",
       "    </tr>\n",
       "  </tbody>\n",
       "</table>\n",
       "</div>"
      ],
      "text/plain": [
       "  Release Year                   Title                               Genre  \\\n",
       "0         1902  Jack and the Beanstalk               Comedy Family Fantasy   \n",
       "1         1952  Jack and the Beanstalk                              comedy   \n",
       "2         1903     Alice in Wonderland  Animation Adventure Family Fantasy   \n",
       "3         1933     Alice in Wonderland                             fantasy   \n",
       "4         1951     Alice in Wonderland                           animation   \n",
       "\n",
       "                                                Plot  \\\n",
       "0  The earliest known adaptation of the classic f...   \n",
       "1  Mr. Dinkle and Jack (Abbott and Costello) look...   \n",
       "2  Alice follows a large white rabbit down a \"Rab...   \n",
       "3  Left alone with a governess one snowy afternoo...   \n",
       "4  On a riverbank, Alice spots a White Rabbit in ...   \n",
       "\n",
       "                                            Overview  \\\n",
       "0  Abbott and Costello's version of the famous fa...   \n",
       "1  Abbott and Costello's version of the famous fa...   \n",
       "2  On a golden afternoon, young Alice follows a W...   \n",
       "3  On a golden afternoon, young Alice follows a W...   \n",
       "4  On a golden afternoon, young Alice follows a W...   \n",
       "\n",
       "                       Genre_improved  \n",
       "0               Comedy|Family|Fantasy  \n",
       "1                              comedy  \n",
       "2  Animation|Adventure|Family|Fantasy  \n",
       "3                             fantasy  \n",
       "4                           animation  "
      ]
     },
     "execution_count": 37,
     "metadata": {},
     "output_type": "execute_result"
    }
   ],
   "source": [
    "df.head()"
   ]
  },
  {
   "cell_type": "markdown",
   "metadata": {},
   "source": [
    "<h3 style = \"font-family:garamond; font-size:20px; background-color: white; color : royalblue; border-radius: 100px 100px; text-align:left\">Drop unnecessary columns</h3>"
   ]
  },
  {
   "cell_type": "code",
   "execution_count": 38,
   "metadata": {},
   "outputs": [],
   "source": [
    "df = df.drop(['Genre', 'Genre_improved'], axis=1)"
   ]
  },
  {
   "cell_type": "markdown",
   "metadata": {},
   "source": [
    "<h3 style = \"font-family:garamond; font-size:20px; background-color: white; color : royalblue; border-radius: 100px 100px; text-align:left\">Drop duplicates</h3>"
   ]
  },
  {
   "cell_type": "code",
   "execution_count": 39,
   "metadata": {},
   "outputs": [],
   "source": [
    "df = df.drop_duplicates(subset=['Overview'])\n",
    "df = df.drop_duplicates(subset=['Plot'])"
   ]
  },
  {
   "cell_type": "markdown",
   "metadata": {},
   "source": [
    "<h3 style = \"font-family:garamond; font-size:20px; background-color: white; color : royalblue; border-radius: 100px 100px; text-align:left\">Explore the merged dataframe</h3>"
   ]
  },
  {
   "cell_type": "code",
   "execution_count": 40,
   "metadata": {},
   "outputs": [
    {
     "data": {
      "text/plain": [
       "Release Year    object\n",
       "Title           object\n",
       "Plot            object\n",
       "Overview        object\n",
       "dtype: object"
      ]
     },
     "execution_count": 40,
     "metadata": {},
     "output_type": "execute_result"
    }
   ],
   "source": [
    "df.dtypes"
   ]
  },
  {
   "cell_type": "code",
   "execution_count": 41,
   "metadata": {},
   "outputs": [
    {
     "data": {
      "text/plain": [
       "(14664, 4)"
      ]
     },
     "execution_count": 41,
     "metadata": {},
     "output_type": "execute_result"
    }
   ],
   "source": [
    "df.shape"
   ]
  },
  {
   "cell_type": "code",
   "execution_count": 42,
   "metadata": {},
   "outputs": [
    {
     "data": {
      "text/html": [
       "<div>\n",
       "<style scoped>\n",
       "    .dataframe tbody tr th:only-of-type {\n",
       "        vertical-align: middle;\n",
       "    }\n",
       "\n",
       "    .dataframe tbody tr th {\n",
       "        vertical-align: top;\n",
       "    }\n",
       "\n",
       "    .dataframe thead th {\n",
       "        text-align: right;\n",
       "    }\n",
       "</style>\n",
       "<table border=\"1\" class=\"dataframe\">\n",
       "  <thead>\n",
       "    <tr style=\"text-align: right;\">\n",
       "      <th></th>\n",
       "      <th>Release Year</th>\n",
       "      <th>Title</th>\n",
       "      <th>Plot</th>\n",
       "      <th>Overview</th>\n",
       "    </tr>\n",
       "  </thead>\n",
       "  <tbody>\n",
       "    <tr>\n",
       "      <th>count</th>\n",
       "      <td>14664</td>\n",
       "      <td>14664</td>\n",
       "      <td>14664</td>\n",
       "      <td>14664</td>\n",
       "    </tr>\n",
       "    <tr>\n",
       "      <th>unique</th>\n",
       "      <td>114</td>\n",
       "      <td>14664</td>\n",
       "      <td>14664</td>\n",
       "      <td>14664</td>\n",
       "    </tr>\n",
       "    <tr>\n",
       "      <th>top</th>\n",
       "      <td>2013</td>\n",
       "      <td>The Third Man</td>\n",
       "      <td>Casey Cooke is an emotionally withdrawn teenag...</td>\n",
       "      <td>In the early part of this century, Maddelena a...</td>\n",
       "    </tr>\n",
       "    <tr>\n",
       "      <th>freq</th>\n",
       "      <td>404</td>\n",
       "      <td>1</td>\n",
       "      <td>1</td>\n",
       "      <td>1</td>\n",
       "    </tr>\n",
       "  </tbody>\n",
       "</table>\n",
       "</div>"
      ],
      "text/plain": [
       "       Release Year          Title  \\\n",
       "count         14664          14664   \n",
       "unique          114          14664   \n",
       "top            2013  The Third Man   \n",
       "freq            404              1   \n",
       "\n",
       "                                                     Plot  \\\n",
       "count                                               14664   \n",
       "unique                                              14664   \n",
       "top     Casey Cooke is an emotionally withdrawn teenag...   \n",
       "freq                                                    1   \n",
       "\n",
       "                                                 Overview  \n",
       "count                                               14664  \n",
       "unique                                              14664  \n",
       "top     In the early part of this century, Maddelena a...  \n",
       "freq                                                    1  "
      ]
     },
     "execution_count": 42,
     "metadata": {},
     "output_type": "execute_result"
    }
   ],
   "source": [
    "df.describe()"
   ]
  },
  {
   "cell_type": "code",
   "execution_count": 43,
   "metadata": {},
   "outputs": [
    {
     "name": "stdout",
     "output_type": "stream",
     "text": [
      "<class 'pandas.core.frame.DataFrame'>\n",
      "Int64Index: 14664 entries, 0 to 16214\n",
      "Data columns (total 4 columns):\n",
      " #   Column        Non-Null Count  Dtype \n",
      "---  ------        --------------  ----- \n",
      " 0   Release Year  14664 non-null  object\n",
      " 1   Title         14664 non-null  object\n",
      " 2   Plot          14664 non-null  object\n",
      " 3   Overview      14664 non-null  object\n",
      "dtypes: object(4)\n",
      "memory usage: 572.8+ KB\n"
     ]
    }
   ],
   "source": [
    "df.info()"
   ]
  },
  {
   "cell_type": "code",
   "execution_count": 44,
   "metadata": {},
   "outputs": [],
   "source": [
    "# save the data to a new csv file\n",
    "df.to_csv (r'C:\\Users\\rotzn\\gitProjects\\DS program\\DS projects\\cap 3\\data\\df.csv', header=True, index=False)"
   ]
  },
  {
   "cell_type": "markdown",
   "metadata": {},
   "source": [
    "<a id = '3'></a>\n",
    "<h1 style = \"font-family: garamond; font-size: 45px; font-style: normal; letter-spcaing: 3px; background-color: #f6f5f5; color :royalblue; border-radius: 100px 100px; text-align:center \" >Summary</h1>"
   ]
  },
  {
   "cell_type": "code",
   "execution_count": 45,
   "metadata": {},
   "outputs": [
    {
     "data": {
      "text/html": [
       "<div>\n",
       "<style scoped>\n",
       "    .dataframe tbody tr th:only-of-type {\n",
       "        vertical-align: middle;\n",
       "    }\n",
       "\n",
       "    .dataframe tbody tr th {\n",
       "        vertical-align: top;\n",
       "    }\n",
       "\n",
       "    .dataframe thead th {\n",
       "        text-align: right;\n",
       "    }\n",
       "</style>\n",
       "<table border=\"1\" class=\"dataframe\">\n",
       "  <thead>\n",
       "    <tr style=\"text-align: right;\">\n",
       "      <th></th>\n",
       "      <th>Release Year</th>\n",
       "      <th>Title</th>\n",
       "      <th>Plot</th>\n",
       "      <th>Overview</th>\n",
       "    </tr>\n",
       "  </thead>\n",
       "  <tbody>\n",
       "    <tr>\n",
       "      <th>0</th>\n",
       "      <td>1902</td>\n",
       "      <td>Jack and the Beanstalk</td>\n",
       "      <td>The earliest known adaptation of the classic f...</td>\n",
       "      <td>Abbott and Costello's version of the famous fa...</td>\n",
       "    </tr>\n",
       "    <tr>\n",
       "      <th>2</th>\n",
       "      <td>1903</td>\n",
       "      <td>Alice in Wonderland</td>\n",
       "      <td>Alice follows a large white rabbit down a \"Rab...</td>\n",
       "      <td>On a golden afternoon, young Alice follows a W...</td>\n",
       "    </tr>\n",
       "    <tr>\n",
       "      <th>8</th>\n",
       "      <td>1903</td>\n",
       "      <td>The Great Train Robbery</td>\n",
       "      <td>The film opens with two bandits breaking into ...</td>\n",
       "      <td>The clerk at the train station is assaulted an...</td>\n",
       "    </tr>\n",
       "    <tr>\n",
       "      <th>9</th>\n",
       "      <td>1905</td>\n",
       "      <td>The Night Before Christmas</td>\n",
       "      <td>Scenes are introduced using lines of the poem....</td>\n",
       "      <td>A cartoon based on the works of Nikolay Gogol....</td>\n",
       "    </tr>\n",
       "    <tr>\n",
       "      <th>11</th>\n",
       "      <td>1906</td>\n",
       "      <td>Dream of a Rarebit Fiend</td>\n",
       "      <td>The Rarebit Fiend gorges on Welsh rarebit at a...</td>\n",
       "      <td>Adapted from Winsor McCay's films and comics o...</td>\n",
       "    </tr>\n",
       "    <tr>\n",
       "      <th>...</th>\n",
       "      <td>...</td>\n",
       "      <td>...</td>\n",
       "      <td>...</td>\n",
       "      <td>...</td>\n",
       "    </tr>\n",
       "    <tr>\n",
       "      <th>16210</th>\n",
       "      <td>2010</td>\n",
       "      <td>Five Minarets in New York</td>\n",
       "      <td>The film follows two anti-terror officers from...</td>\n",
       "      <td>Two Turkish anti-terrorist agents are sent to ...</td>\n",
       "    </tr>\n",
       "    <tr>\n",
       "      <th>16211</th>\n",
       "      <td>2011</td>\n",
       "      <td>Love Likes Coincidences</td>\n",
       "      <td>One September morning in 1977 in Ankara, a you...</td>\n",
       "      <td>Year 1977, a September morning in Ankara... Yi...</td>\n",
       "    </tr>\n",
       "    <tr>\n",
       "      <th>16212</th>\n",
       "      <td>2011</td>\n",
       "      <td>Once Upon a Time in Anatolia</td>\n",
       "      <td>Through the night, three cars carry a small gr...</td>\n",
       "      <td>A group of men set out in search of a dead bod...</td>\n",
       "    </tr>\n",
       "    <tr>\n",
       "      <th>16213</th>\n",
       "      <td>2014</td>\n",
       "      <td>Winter Sleep</td>\n",
       "      <td>Aydın, a former actor, owns a mountaintop hote...</td>\n",
       "      <td>Aydin, a retired actor, owns a small hotel in ...</td>\n",
       "    </tr>\n",
       "    <tr>\n",
       "      <th>16214</th>\n",
       "      <td>2014</td>\n",
       "      <td>The Water Diviner</td>\n",
       "      <td>The film begins in 1919, just after World War ...</td>\n",
       "      <td>In 1919, Australian farmer Joshua Connor trave...</td>\n",
       "    </tr>\n",
       "  </tbody>\n",
       "</table>\n",
       "<p>14664 rows × 4 columns</p>\n",
       "</div>"
      ],
      "text/plain": [
       "      Release Year                         Title  \\\n",
       "0             1902        Jack and the Beanstalk   \n",
       "2             1903           Alice in Wonderland   \n",
       "8             1903       The Great Train Robbery   \n",
       "9             1905    The Night Before Christmas   \n",
       "11            1906      Dream of a Rarebit Fiend   \n",
       "...            ...                           ...   \n",
       "16210         2010     Five Minarets in New York   \n",
       "16211         2011       Love Likes Coincidences   \n",
       "16212         2011  Once Upon a Time in Anatolia   \n",
       "16213         2014                  Winter Sleep   \n",
       "16214         2014             The Water Diviner   \n",
       "\n",
       "                                                    Plot  \\\n",
       "0      The earliest known adaptation of the classic f...   \n",
       "2      Alice follows a large white rabbit down a \"Rab...   \n",
       "8      The film opens with two bandits breaking into ...   \n",
       "9      Scenes are introduced using lines of the poem....   \n",
       "11     The Rarebit Fiend gorges on Welsh rarebit at a...   \n",
       "...                                                  ...   \n",
       "16210  The film follows two anti-terror officers from...   \n",
       "16211  One September morning in 1977 in Ankara, a you...   \n",
       "16212  Through the night, three cars carry a small gr...   \n",
       "16213  Aydın, a former actor, owns a mountaintop hote...   \n",
       "16214  The film begins in 1919, just after World War ...   \n",
       "\n",
       "                                                Overview  \n",
       "0      Abbott and Costello's version of the famous fa...  \n",
       "2      On a golden afternoon, young Alice follows a W...  \n",
       "8      The clerk at the train station is assaulted an...  \n",
       "9      A cartoon based on the works of Nikolay Gogol....  \n",
       "11     Adapted from Winsor McCay's films and comics o...  \n",
       "...                                                  ...  \n",
       "16210  Two Turkish anti-terrorist agents are sent to ...  \n",
       "16211  Year 1977, a September morning in Ankara... Yi...  \n",
       "16212  A group of men set out in search of a dead bod...  \n",
       "16213  Aydin, a retired actor, owns a small hotel in ...  \n",
       "16214  In 1919, Australian farmer Joshua Connor trave...  \n",
       "\n",
       "[14664 rows x 4 columns]"
      ]
     },
     "execution_count": 45,
     "metadata": {},
     "output_type": "execute_result"
    }
   ],
   "source": [
    "df"
   ]
  },
  {
   "cell_type": "markdown",
   "metadata": {},
   "source": [
    "First, we loaded the data. We have 2 different movie databases that we merged together. We cleaned up the Genre column just in case we want to pursue some other goals (Genre predictor, movie recommendations, etc.) later. We dropped duplicate rows, rows that don't contain both 'Plot' and 'Overview',  as well as columns that won’t be useful. We are left with a pandas dataframe that consists of 16,215 rows and 4 columns (Release Year, Title, Plot, Overview). "
   ]
  }
 ],
 "metadata": {
  "kernelspec": {
   "display_name": "Python 3",
   "language": "python",
   "name": "python3"
  },
  "language_info": {
   "codemirror_mode": {
    "name": "ipython",
    "version": 3
   },
   "file_extension": ".py",
   "mimetype": "text/x-python",
   "name": "python",
   "nbconvert_exporter": "python",
   "pygments_lexer": "ipython3",
   "version": "3.8.5"
  }
 },
 "nbformat": 4,
 "nbformat_minor": 4
}
